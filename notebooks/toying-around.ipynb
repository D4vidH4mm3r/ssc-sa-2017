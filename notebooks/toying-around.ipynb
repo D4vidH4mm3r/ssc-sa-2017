{
 "cells": [
  {
   "cell_type": "code",
   "execution_count": null,
   "metadata": {
    "collapsed": true
   },
   "outputs": [],
   "source": [
    "import pickle\n",
    "import pandas as pd"
   ]
  },
  {
   "cell_type": "markdown",
   "metadata": {},
   "source": [
    "# Inspect some matches"
   ]
  },
  {
   "cell_type": "markdown",
   "metadata": {},
   "source": [
    "## Load and see how many candidates there are"
   ]
  },
  {
   "cell_type": "code",
   "execution_count": null,
   "metadata": {
    "collapsed": true
   },
   "outputs": [],
   "source": [
    "df = pd.read_pickle(\"../scripts/indexed.pickled\")"
   ]
  },
  {
   "cell_type": "code",
   "execution_count": null,
   "metadata": {
    "collapsed": true
   },
   "outputs": [],
   "source": [
    "lookup = {}\n",
    "for t in df.itertuples():\n",
    "    lookup[t.Index] = t"
   ]
  },
  {
   "cell_type": "code",
   "execution_count": null,
   "metadata": {
    "collapsed": true
   },
   "outputs": [],
   "source": [
    "del(df)"
   ]
  },
  {
   "cell_type": "code",
   "execution_count": null,
   "metadata": {
    "collapsed": true
   },
   "outputs": [],
   "source": [
    "matches = pd.read_csv(\"m-JKP.csv\", delimiter=\"|\")"
   ]
  },
  {
   "cell_type": "code",
   "execution_count": null,
   "metadata": {},
   "outputs": [],
   "source": [
    "len(matches)"
   ]
  },
  {
   "cell_type": "markdown",
   "metadata": {},
   "source": [
    "## Uniqueify by taking max both ways"
   ]
  },
  {
   "cell_type": "code",
   "execution_count": null,
   "metadata": {
    "collapsed": true
   },
   "outputs": [],
   "source": [
    "# for computing upper bound on number of extracted matches\n",
    "g1 = matches.groupby(by=[\"a_FT\", \"a_Kipnr\", \"a_Løbenr\"], as_index=False)\n",
    "g2 = matches.groupby(by=[\"b_FT\", \"b_Kipnr\", \"b_Løbenr\"])\n",
    "l1=list(g1.size().groupby(level=0).size().iteritems())\n",
    "l2=list(g2.size().groupby(level=0).size().iteritems())\n",
    "print(l1)\n",
    "print(l2)"
   ]
  },
  {
   "cell_type": "code",
   "execution_count": null,
   "metadata": {},
   "outputs": [],
   "source": [
    "g1 = matches.groupby(by=[\"a_FT\", \"a_Kipnr\", \"a_Løbenr\"])\n",
    "idx = g1[\"p\"].transform(max) == matches[\"p\"]\n",
    "matches = matches[idx]\n",
    "print(len(matches))"
   ]
  },
  {
   "cell_type": "code",
   "execution_count": null,
   "metadata": {
    "collapsed": true
   },
   "outputs": [],
   "source": [
    "g2 = matches.groupby(by=[\"b_FT\", \"b_Kipnr\", \"b_Løbenr\"])\n",
    "idx = g2[\"p\"].transform(max) == matches[\"p\"]\n",
    "matches = matches[idx]\n",
    "print(len(matches))"
   ]
  },
  {
   "cell_type": "code",
   "execution_count": null,
   "metadata": {},
   "outputs": [],
   "source": [
    "len(matches)"
   ]
  },
  {
   "cell_type": "code",
   "execution_count": null,
   "metadata": {},
   "outputs": [],
   "source": [
    "for (a_year, a_count), (b_year, b_count) in zip(l1, l2):\n",
    "    print(a_year, b_year, min(a_count, b_count))\n",
    "print(sum(min(a, b) for ((_, a), (_, b)) in zip(l1,l2)))"
   ]
  },
  {
   "cell_type": "code",
   "execution_count": null,
   "metadata": {
    "scrolled": true
   },
   "outputs": [],
   "source": [
    "# so how many left?\n",
    "g1 = matches.groupby(by=[\"a_FT\", \"a_Kipnr\", \"a_Løbenr\"], as_index=False)\n",
    "g2 = matches.groupby(by=[\"b_FT\", \"b_Kipnr\", \"b_Løbenr\"])\n",
    "l1=list(g1.size().groupby(level=0).size().iteritems())\n",
    "l2=list(g2.size().groupby(level=0).size().iteritems())"
   ]
  },
  {
   "cell_type": "code",
   "execution_count": null,
   "metadata": {},
   "outputs": [],
   "source": [
    "for (a_year, a_count), (b_year, b_count) in zip(l1, l2):\n",
    "    print(a_year, b_year, min(a_count, b_count))\n",
    "print(sum(min(a, b) for ((_, a), (_, b)) in zip(l1,l2)))"
   ]
  },
  {
   "cell_type": "markdown",
   "metadata": {},
   "source": [
    "## There are probably still duplicates\n",
    "Obvious if `len(matches)` above is greater than the sum in the cell directly above."
   ]
  },
  {
   "cell_type": "code",
   "execution_count": null,
   "metadata": {},
   "outputs": [],
   "source": [
    "indexed = matches.set_index([\"a_FT\", \"a_Kipnr\", \"a_Løbenr\"])"
   ]
  },
  {
   "cell_type": "code",
   "execution_count": null,
   "metadata": {
    "collapsed": true
   },
   "outputs": [],
   "source": [
    "d = indexed.index.get_duplicates()"
   ]
  },
  {
   "cell_type": "code",
   "execution_count": null,
   "metadata": {
    "collapsed": true
   },
   "outputs": [],
   "source": [
    "indexed.loc[d]"
   ]
  },
  {
   "cell_type": "code",
   "execution_count": null,
   "metadata": {},
   "outputs": [],
   "source": [
    "len(matches)"
   ]
  },
  {
   "cell_type": "code",
   "execution_count": null,
   "metadata": {},
   "outputs": [],
   "source": [
    "matches.drop_duplicates(subset=[\"a_FT\", \"a_Løbenr\", \"a_Kipnr\"], inplace=True)\n",
    "matches.drop_duplicates(subset=[\"b_FT\", \"b_Løbenr\", \"b_Kipnr\"], inplace=True)"
   ]
  },
  {
   "cell_type": "code",
   "execution_count": null,
   "metadata": {},
   "outputs": [],
   "source": [
    "len(matches)"
   ]
  },
  {
   "cell_type": "code",
   "execution_count": null,
   "metadata": {
    "collapsed": true
   },
   "outputs": [],
   "source": [
    "matches"
   ]
  },
  {
   "cell_type": "markdown",
   "metadata": {},
   "source": [
    "## Now only sensible matches left\n",
    "So let's look at these"
   ]
  },
  {
   "cell_type": "code",
   "execution_count": null,
   "metadata": {
    "collapsed": true
   },
   "outputs": [],
   "source": [
    "header = \"_|Amt|Herred|Sogn|Navn|Køn|Fødested|Fødeår|Civilstand|Position|Erhverv|Fornavn|Kipnr|Løbenr|Group\".split(\"|\")"
   ]
  },
  {
   "cell_type": "code",
   "execution_count": null,
   "metadata": {
    "scrolled": false
   },
   "outputs": [],
   "source": [
    "for _, a_FT, a_Kip, a_Løb, b_FT, b_Kip, b_Løb, prob in matches.itertuples():\n",
    "    a_key = (a_FT, a_Kip, a_Løb)\n",
    "    b_key = (b_FT, b_Kip, b_Løb)\n",
    "    a = lookup[a_key]\n",
    "    b = lookup[b_key]\n",
    "    print(\"FT\", a_FT, \"vs\", b_FT)\n",
    "    print(prob)\n",
    "    for i in range(1, 12):\n",
    "        s = \"{:10s} {:40s} {:40s}\".format(header[i], str(a[i]), str(b[i]))\n",
    "        if a[i] != b[i]:\n",
    "            s = '\\033[95m' + s + \"\\033[0m\"\n",
    "        print(s)\n",
    "    print()"
   ]
  }
 ],
 "metadata": {
  "kernelspec": {
   "display_name": "Python 3",
   "language": "python",
   "name": "python3"
  },
  "language_info": {
   "codemirror_mode": {
    "name": "ipython",
    "version": 3
   },
   "file_extension": ".py",
   "mimetype": "text/x-python",
   "name": "python",
   "nbconvert_exporter": "python",
   "pygments_lexer": "ipython3",
   "version": "3.6.3"
  }
 },
 "nbformat": 4,
 "nbformat_minor": 2
}
