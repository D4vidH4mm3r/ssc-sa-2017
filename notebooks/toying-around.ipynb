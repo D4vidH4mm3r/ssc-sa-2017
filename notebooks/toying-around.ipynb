{
 "cells": [
  {
   "cell_type": "code",
   "execution_count": null,
   "metadata": {
    "collapsed": true
   },
   "outputs": [],
   "source": [
    "import pickle\n",
    "import pandas as pd\n",
    "import concurrent.futures\n",
    "import pathlib"
   ]
  },
  {
   "cell_type": "markdown",
   "metadata": {},
   "source": [
    "## Uniqueify by taking max both ways"
   ]
  },
  {
   "cell_type": "markdown",
   "metadata": {},
   "source": [
    "### Experiment"
   ]
  },
  {
   "cell_type": "markdown",
   "metadata": {},
   "source": [
    "#### Load and see how many candidates there are"
   ]
  },
  {
   "cell_type": "code",
   "execution_count": null,
   "metadata": {
    "collapsed": true
   },
   "outputs": [],
   "source": [
    "matches = pd.read_csv(\"m-TM.csv\", delimiter=\"|\")"
   ]
  },
  {
   "cell_type": "code",
   "execution_count": null,
   "metadata": {},
   "outputs": [],
   "source": [
    "len(matches)"
   ]
  },
  {
   "cell_type": "code",
   "execution_count": null,
   "metadata": {
    "collapsed": true
   },
   "outputs": [],
   "source": [
    "# for computing upper bound on number of extracted matches\n",
    "g1 = matches.groupby(by=[\"a_FT\", \"a_Kipnr\", \"a_Løbenr\"], as_index=False)\n",
    "g2 = matches.groupby(by=[\"b_FT\", \"b_Kipnr\", \"b_Løbenr\"])\n",
    "l1=list(g1.size().groupby(level=0).size().iteritems())\n",
    "l2=list(g2.size().groupby(level=0).size().iteritems())\n",
    "print(l1)\n",
    "print(l2)"
   ]
  },
  {
   "cell_type": "code",
   "execution_count": null,
   "metadata": {
    "collapsed": true
   },
   "outputs": [],
   "source": [
    "g1 = matches.groupby(by=[\"a_FT\", \"a_Kipnr\", \"a_Løbenr\"])\n",
    "idx = g1[\"p\"].transform(max) == matches[\"p\"]\n",
    "matches = matches[idx]\n",
    "print(len(matches))"
   ]
  },
  {
   "cell_type": "code",
   "execution_count": null,
   "metadata": {
    "collapsed": true
   },
   "outputs": [],
   "source": [
    "g2 = matches.groupby(by=[\"b_FT\", \"b_Kipnr\", \"b_Løbenr\"])\n",
    "idx = g2[\"p\"].transform(max) == matches[\"p\"]\n",
    "matches = matches[idx]\n",
    "print(len(matches))"
   ]
  },
  {
   "cell_type": "code",
   "execution_count": null,
   "metadata": {
    "collapsed": true
   },
   "outputs": [],
   "source": [
    "len(matches)"
   ]
  },
  {
   "cell_type": "code",
   "execution_count": null,
   "metadata": {
    "collapsed": true
   },
   "outputs": [],
   "source": [
    "for (a_year, a_count), (b_year, b_count) in zip(l1, l2):\n",
    "    print(a_year, b_year, min(a_count, b_count))\n",
    "print(sum(min(a, b) for ((_, a), (_, b)) in zip(l1,l2)))"
   ]
  },
  {
   "cell_type": "code",
   "execution_count": null,
   "metadata": {
    "collapsed": true,
    "scrolled": true
   },
   "outputs": [],
   "source": [
    "# so how many left?\n",
    "g1 = matches.groupby(by=[\"a_FT\", \"a_Kipnr\", \"a_Løbenr\"], as_index=False)\n",
    "g2 = matches.groupby(by=[\"b_FT\", \"b_Kipnr\", \"b_Løbenr\"])\n",
    "l1=list(g1.size().groupby(level=0).size().iteritems())\n",
    "l2=list(g2.size().groupby(level=0).size().iteritems())"
   ]
  },
  {
   "cell_type": "code",
   "execution_count": null,
   "metadata": {
    "collapsed": true
   },
   "outputs": [],
   "source": [
    "for (a_year, a_count), (b_year, b_count) in zip(l1, l2):\n",
    "    print(a_year, b_year, min(a_count, b_count))\n",
    "print(sum(min(a, b) for ((_, a), (_, b)) in zip(l1,l2)))"
   ]
  },
  {
   "cell_type": "markdown",
   "metadata": {},
   "source": [
    "#### There are probably still duplicates\n",
    "Obvious if `len(matches)` above is greater than the sum in the cell directly above."
   ]
  },
  {
   "cell_type": "code",
   "execution_count": null,
   "metadata": {
    "collapsed": true
   },
   "outputs": [],
   "source": [
    "indexed = matches.set_index([\"a_FT\", \"a_Kipnr\", \"a_Løbenr\"])"
   ]
  },
  {
   "cell_type": "code",
   "execution_count": null,
   "metadata": {
    "collapsed": true
   },
   "outputs": [],
   "source": [
    "d = indexed.index.get_duplicates()"
   ]
  },
  {
   "cell_type": "code",
   "execution_count": null,
   "metadata": {
    "collapsed": true
   },
   "outputs": [],
   "source": [
    "indexed.loc[d]"
   ]
  },
  {
   "cell_type": "code",
   "execution_count": null,
   "metadata": {
    "collapsed": true
   },
   "outputs": [],
   "source": [
    "len(matches)"
   ]
  },
  {
   "cell_type": "code",
   "execution_count": null,
   "metadata": {
    "collapsed": true
   },
   "outputs": [],
   "source": [
    "matches.drop_duplicates(subset=[\"a_FT\", \"a_Løbenr\", \"a_Kipnr\"], inplace=True)\n",
    "matches.drop_duplicates(subset=[\"b_FT\", \"b_Løbenr\", \"b_Kipnr\"], inplace=True)"
   ]
  },
  {
   "cell_type": "code",
   "execution_count": null,
   "metadata": {},
   "outputs": [],
   "source": [
    "len(matches)"
   ]
  },
  {
   "cell_type": "code",
   "execution_count": null,
   "metadata": {
    "collapsed": true
   },
   "outputs": [],
   "source": [
    "matches"
   ]
  },
  {
   "cell_type": "markdown",
   "metadata": {},
   "source": [
    "### Apply"
   ]
  },
  {
   "cell_type": "code",
   "execution_count": null,
   "metadata": {
    "collapsed": true
   },
   "outputs": [],
   "source": [
    "def uniqueify_max(matches):\n",
    "    # take max-probability b for each a\n",
    "    g = matches.groupby(by=[\"a_FT\", \"a_Kipnr\", \"a_Løbenr\"])\n",
    "    idx = g[\"p\"].transform(max) == matches[\"p\"]\n",
    "    matches = matches[idx]\n",
    "    del(g)\n",
    "    del(idx)\n",
    "    # and then max-probability a for each b\n",
    "    g = matches.groupby(by=[\"b_FT\", \"b_Kipnr\", \"b_Løbenr\"])\n",
    "    idx = g[\"p\"].transform(max) == matches[\"p\"]\n",
    "    matches = matches[idx]\n",
    "    del(g)\n",
    "    del(idx)\n",
    "    # drop any duplicate a or b\n",
    "    matches.drop_duplicates(subset=[\"a_FT\", \"a_Løbenr\", \"a_Kipnr\"], inplace=True)\n",
    "    matches.drop_duplicates(subset=[\"b_FT\", \"b_Løbenr\", \"b_Kipnr\"], inplace=True)\n",
    "    return matches"
   ]
  },
  {
   "cell_type": "code",
   "execution_count": null,
   "metadata": {
    "collapsed": true
   },
   "outputs": [],
   "source": [
    "def process(fn):\n",
    "    matches = pd.read_csv(str(fn), delimiter=\"|\")\n",
    "    matches = matches[matches.p > 0.8]\n",
    "    matches = uniqueify_max(matches)\n",
    "    return matches"
   ]
  },
  {
   "cell_type": "code",
   "execution_count": null,
   "metadata": {},
   "outputs": [],
   "source": [
    "with concurrent.futures.ProcessPoolExecutor(max_workers=10) as tpe:\n",
    "    res = tpe.map(process, pathlib.Path(\"nn-match\").glob(\"*.csv\"))"
   ]
  },
  {
   "cell_type": "code",
   "execution_count": null,
   "metadata": {
    "collapsed": true
   },
   "outputs": [],
   "source": [
    "res = list(res)"
   ]
  },
  {
   "cell_type": "code",
   "execution_count": null,
   "metadata": {},
   "outputs": [],
   "source": [
    "len(res)"
   ]
  },
  {
   "cell_type": "code",
   "execution_count": null,
   "metadata": {
    "collapsed": true
   },
   "outputs": [],
   "source": [
    "matches = pd.concat(res)"
   ]
  },
  {
   "cell_type": "code",
   "execution_count": null,
   "metadata": {
    "collapsed": true
   },
   "outputs": [],
   "source": [
    "del(res)"
   ]
  },
  {
   "cell_type": "code",
   "execution_count": null,
   "metadata": {},
   "outputs": [],
   "source": [
    "len(matches)"
   ]
  },
  {
   "cell_type": "code",
   "execution_count": null,
   "metadata": {
    "collapsed": true,
    "scrolled": true
   },
   "outputs": [],
   "source": [
    "# so how many left?\n",
    "g1 = matches.groupby(by=[\"a_FT\", \"a_Kipnr\", \"a_Løbenr\"], as_index=False)\n",
    "g2 = matches.groupby(by=[\"b_FT\", \"b_Kipnr\", \"b_Løbenr\"])\n",
    "l1=list(g1.size().groupby(level=0).size().iteritems())\n",
    "l2=list(g2.size().groupby(level=0).size().iteritems())"
   ]
  },
  {
   "cell_type": "code",
   "execution_count": null,
   "metadata": {},
   "outputs": [],
   "source": [
    "for (a_year, a_count), (b_year, b_count) in zip(l1, l2):\n",
    "    print(a_year, b_year, min(a_count, b_count))\n",
    "print(sum(min(a, b) for ((_, a), (_, b)) in zip(l1,l2)))"
   ]
  },
  {
   "cell_type": "code",
   "execution_count": null,
   "metadata": {
    "collapsed": true
   },
   "outputs": [],
   "source": [
    "g = matches.groupby(\"a_FT\")"
   ]
  },
  {
   "cell_type": "code",
   "execution_count": null,
   "metadata": {},
   "outputs": [],
   "source": [
    "s = 0\n",
    "for a_year, size in g.size().iteritems():\n",
    "    print(a_year, size)\n",
    "    s += size\n",
    "s"
   ]
  },
  {
   "cell_type": "code",
   "execution_count": null,
   "metadata": {
    "collapsed": true
   },
   "outputs": [],
   "source": [
    "df = pd.read_pickle(\"../scripts/dataframe.pickled\")"
   ]
  },
  {
   "cell_type": "code",
   "execution_count": null,
   "metadata": {
    "collapsed": true
   },
   "outputs": [],
   "source": [
    "g2 = df.groupby(\"FT\")"
   ]
  },
  {
   "cell_type": "code",
   "execution_count": null,
   "metadata": {
    "collapsed": true
   },
   "outputs": [],
   "source": [
    "l = list(g2.size().iteritems())"
   ]
  },
  {
   "cell_type": "code",
   "execution_count": null,
   "metadata": {},
   "outputs": [],
   "source": [
    "for (a_year, a_size), (b_year, b_size), (our_year, our_size) in zip(l, l[1:], g.size().iteritems()):\n",
    "    ul = min(a_size, b_size)\n",
    "    print(a_year, \"->\", b_year, our_size, \"/\", ul, our_size/ul)"
   ]
  },
  {
   "cell_type": "code",
   "execution_count": null,
   "metadata": {},
   "outputs": [],
   "source": [
    "hmm = matches.p.describe()"
   ]
  },
  {
   "cell_type": "code",
   "execution_count": null,
   "metadata": {},
   "outputs": [],
   "source": [
    "print(hmm.to_latex())"
   ]
  },
  {
   "cell_type": "markdown",
   "metadata": {},
   "source": [
    "## There are probably still duplicates\n",
    "Obvious if `len(matches)` above is greater than the sum in the cell directly above."
   ]
  },
  {
   "cell_type": "code",
   "execution_count": null,
   "metadata": {
    "collapsed": true
   },
   "outputs": [],
   "source": [
    "indexed = matches.set_index([\"a_FT\", \"a_Kipnr\", \"a_Løbenr\"])"
   ]
  },
  {
   "cell_type": "code",
   "execution_count": null,
   "metadata": {
    "collapsed": true
   },
   "outputs": [],
   "source": [
    "d = indexed.index.get_duplicates()"
   ]
  },
  {
   "cell_type": "code",
   "execution_count": null,
   "metadata": {
    "collapsed": true
   },
   "outputs": [],
   "source": [
    "indexed.loc[d]"
   ]
  },
  {
   "cell_type": "code",
   "execution_count": null,
   "metadata": {
    "collapsed": true
   },
   "outputs": [],
   "source": [
    "len(matches)"
   ]
  },
  {
   "cell_type": "code",
   "execution_count": null,
   "metadata": {
    "collapsed": true
   },
   "outputs": [],
   "source": [
    "matches.drop_duplicates(subset=[\"a_FT\", \"a_Løbenr\", \"a_Kipnr\"], inplace=True)\n",
    "matches.drop_duplicates(subset=[\"b_FT\", \"b_Løbenr\", \"b_Kipnr\"], inplace=True)"
   ]
  },
  {
   "cell_type": "code",
   "execution_count": null,
   "metadata": {
    "collapsed": true
   },
   "outputs": [],
   "source": [
    "len(matches)"
   ]
  },
  {
   "cell_type": "code",
   "execution_count": null,
   "metadata": {
    "collapsed": true
   },
   "outputs": [],
   "source": [
    "matches"
   ]
  },
  {
   "cell_type": "markdown",
   "metadata": {},
   "source": [
    "# Now only sensible matches left\n",
    "So let's look at these"
   ]
  },
  {
   "cell_type": "markdown",
   "metadata": {},
   "source": [
    "## Inspect some matches"
   ]
  },
  {
   "cell_type": "code",
   "execution_count": null,
   "metadata": {
    "collapsed": true
   },
   "outputs": [],
   "source": [
    "df = pd.read_pickle(\"../scripts/indexed.pickled\")"
   ]
  },
  {
   "cell_type": "code",
   "execution_count": null,
   "metadata": {
    "collapsed": true
   },
   "outputs": [],
   "source": [
    "lookup = {}\n",
    "for t in df.itertuples():\n",
    "    lookup[t.Index] = t"
   ]
  },
  {
   "cell_type": "code",
   "execution_count": null,
   "metadata": {
    "collapsed": true
   },
   "outputs": [],
   "source": [
    "del(df)"
   ]
  },
  {
   "cell_type": "code",
   "execution_count": null,
   "metadata": {
    "collapsed": true
   },
   "outputs": [],
   "source": [
    "header = \"_|Amt|Herred|Sogn|Navn|Køn|Fødested|Fødeår|Civilstand|Position|Erhverv|Fornavn|Kipnr|Løbenr|Group\".split(\"|\")"
   ]
  },
  {
   "cell_type": "code",
   "execution_count": null,
   "metadata": {
    "collapsed": true
   },
   "outputs": [],
   "source": [
    "matches.sort_values(by=\"p\", inplace=True, ascending=False)"
   ]
  },
  {
   "cell_type": "code",
   "execution_count": null,
   "metadata": {},
   "outputs": [],
   "source": [
    "ss = matches[abs(matches.p - 0.935037) < 0.0001]"
   ]
  },
  {
   "cell_type": "code",
   "execution_count": null,
   "metadata": {},
   "outputs": [],
   "source": [
    "import textwrap"
   ]
  },
  {
   "cell_type": "code",
   "execution_count": null,
   "metadata": {
    "collapsed": true
   },
   "outputs": [],
   "source": [
    "sh = textwrap.shorten"
   ]
  },
  {
   "cell_type": "code",
   "execution_count": null,
   "metadata": {
    "collapsed": true
   },
   "outputs": [],
   "source": [
    "count = 0\n",
    "for _, a_FT, a_Kip, a_Løb, b_FT, b_Kip, b_Løb, prob in matches.itertuples():\n",
    "    count += 1\n",
    "    a_key = (a_FT, a_Kip, a_Løb)\n",
    "    b_key = (b_FT, b_Kip, b_Løb)\n",
    "    a = lookup[a_key]\n",
    "    b = lookup[b_key]\n",
    "    print(\"\\\\multicolumn{3}{l}{\" + \"Match from \" + str(a_FT) + \" to \" + str(b_FT) + \"}\\\\\\\\\")\n",
    "    print(\"\\\\multicolumn{3}{l}{\" + \"Assigned probability: \" + str(prob) + \"}\\\\\\\\\")\n",
    "    #print(\"Match from\", a_FT, \"to\", b_FT)\n",
    "    #print(\"Assigned probability:\", prob)\n",
    "    for i in range(1, 11):\n",
    "        #s = \"{:10s} {:30s} {:30s}\".format(header[i], str(a[i]), str(b[i]))\n",
    "        s = \"{}&{}&{}\\\\\\\\\".format(header[i], sh(str(a[i]), 40), sh(str(b[i]), 40))\n",
    "        if a[i] != b[i]:\n",
    "            s = '\\033[95m' + s + \"\\033[0m\"\n",
    "        print(s)\n",
    "    print(\"\\midrule\")\n",
    "    if count == 5:\n",
    "        break"
   ]
  },
  {
   "cell_type": "code",
   "execution_count": null,
   "metadata": {
    "collapsed": true
   },
   "outputs": [],
   "source": [
    "iiii"
   ]
  }
 ],
 "metadata": {
  "kernelspec": {
   "display_name": "Python 3",
   "language": "python",
   "name": "python3"
  },
  "language_info": {
   "codemirror_mode": {
    "name": "ipython",
    "version": 3
   },
   "file_extension": ".py",
   "mimetype": "text/x-python",
   "name": "python",
   "nbconvert_exporter": "python",
   "pygments_lexer": "ipython3",
   "version": "3.6.3"
  }
 },
 "nbformat": 4,
 "nbformat_minor": 2
}
