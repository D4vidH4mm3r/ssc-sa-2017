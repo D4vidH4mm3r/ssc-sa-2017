{
 "cells": [
  {
   "cell_type": "code",
   "execution_count": null,
   "metadata": {
    "collapsed": true
   },
   "outputs": [],
   "source": [
    "import pickle\n",
    "import pandas as pd\n",
    "import concurrent.futures\n",
    "import pathlib"
   ]
  },
  {
   "cell_type": "markdown",
   "metadata": {},
   "source": [
    "## Uniqueify by taking max both ways"
   ]
  },
  {
   "cell_type": "markdown",
   "metadata": {},
   "source": [
    "### Experiment"
   ]
  },
  {
   "cell_type": "markdown",
   "metadata": {},
   "source": [
    "#### Load and see how many candidates there are"
   ]
  },
  {
   "cell_type": "code",
   "execution_count": null,
   "metadata": {
    "collapsed": true
   },
   "outputs": [],
   "source": [
    "matches = pd.read_csv(\"m-TM.csv\", delimiter=\"|\")"
   ]
  },
  {
   "cell_type": "code",
   "execution_count": null,
   "metadata": {
    "collapsed": true
   },
   "outputs": [],
   "source": [
    "len(matches)"
   ]
  },
  {
   "cell_type": "code",
   "execution_count": null,
   "metadata": {
    "collapsed": true
   },
   "outputs": [],
   "source": [
    "# for computing upper bound on number of extracted matches\n",
    "g1 = matches.groupby(by=[\"a_FT\", \"a_Kipnr\", \"a_Løbenr\"], as_index=False)\n",
    "g2 = matches.groupby(by=[\"b_FT\", \"b_Kipnr\", \"b_Løbenr\"])\n",
    "l1=list(g1.size().groupby(level=0).size().iteritems())\n",
    "l2=list(g2.size().groupby(level=0).size().iteritems())\n",
    "print(l1)\n",
    "print(l2)"
   ]
  },
  {
   "cell_type": "code",
   "execution_count": null,
   "metadata": {
    "collapsed": true
   },
   "outputs": [],
   "source": [
    "g1 = matches.groupby(by=[\"a_FT\", \"a_Kipnr\", \"a_Løbenr\"])\n",
    "idx = g1[\"p\"].transform(max) == matches[\"p\"]\n",
    "matches = matches[idx]\n",
    "print(len(matches))"
   ]
  },
  {
   "cell_type": "code",
   "execution_count": null,
   "metadata": {
    "collapsed": true
   },
   "outputs": [],
   "source": [
    "g2 = matches.groupby(by=[\"b_FT\", \"b_Kipnr\", \"b_Løbenr\"])\n",
    "idx = g2[\"p\"].transform(max) == matches[\"p\"]\n",
    "matches = matches[idx]\n",
    "print(len(matches))"
   ]
  },
  {
   "cell_type": "code",
   "execution_count": null,
   "metadata": {
    "collapsed": true
   },
   "outputs": [],
   "source": [
    "len(matches)"
   ]
  },
  {
   "cell_type": "code",
   "execution_count": null,
   "metadata": {
    "collapsed": true
   },
   "outputs": [],
   "source": [
    "for (a_year, a_count), (b_year, b_count) in zip(l1, l2):\n",
    "    print(a_year, b_year, min(a_count, b_count))\n",
    "print(sum(min(a, b) for ((_, a), (_, b)) in zip(l1,l2)))"
   ]
  },
  {
   "cell_type": "code",
   "execution_count": null,
   "metadata": {
    "collapsed": true,
    "scrolled": true
   },
   "outputs": [],
   "source": [
    "# so how many left?\n",
    "g1 = matches.groupby(by=[\"a_FT\", \"a_Kipnr\", \"a_Løbenr\"], as_index=False)\n",
    "g2 = matches.groupby(by=[\"b_FT\", \"b_Kipnr\", \"b_Løbenr\"])\n",
    "l1=list(g1.size().groupby(level=0).size().iteritems())\n",
    "l2=list(g2.size().groupby(level=0).size().iteritems())"
   ]
  },
  {
   "cell_type": "code",
   "execution_count": null,
   "metadata": {
    "collapsed": true
   },
   "outputs": [],
   "source": [
    "for (a_year, a_count), (b_year, b_count) in zip(l1, l2):\n",
    "    print(a_year, b_year, min(a_count, b_count))\n",
    "print(sum(min(a, b) for ((_, a), (_, b)) in zip(l1,l2)))"
   ]
  },
  {
   "cell_type": "markdown",
   "metadata": {},
   "source": [
    "#### There are probably still duplicates\n",
    "Obvious if `len(matches)` above is greater than the sum in the cell directly above."
   ]
  },
  {
   "cell_type": "code",
   "execution_count": null,
   "metadata": {
    "collapsed": true
   },
   "outputs": [],
   "source": [
    "indexed = matches.set_index([\"a_FT\", \"a_Kipnr\", \"a_Løbenr\"])"
   ]
  },
  {
   "cell_type": "code",
   "execution_count": null,
   "metadata": {
    "collapsed": true
   },
   "outputs": [],
   "source": [
    "d = indexed.index.get_duplicates()"
   ]
  },
  {
   "cell_type": "code",
   "execution_count": null,
   "metadata": {
    "collapsed": true
   },
   "outputs": [],
   "source": [
    "indexed.loc[d]"
   ]
  },
  {
   "cell_type": "code",
   "execution_count": null,
   "metadata": {
    "collapsed": true
   },
   "outputs": [],
   "source": [
    "len(matches)"
   ]
  },
  {
   "cell_type": "code",
   "execution_count": null,
   "metadata": {
    "collapsed": true
   },
   "outputs": [],
   "source": [
    "matches.drop_duplicates(subset=[\"a_FT\", \"a_Løbenr\", \"a_Kipnr\"], inplace=True)\n",
    "matches.drop_duplicates(subset=[\"b_FT\", \"b_Løbenr\", \"b_Kipnr\"], inplace=True)"
   ]
  },
  {
   "cell_type": "code",
   "execution_count": null,
   "metadata": {
    "collapsed": true
   },
   "outputs": [],
   "source": [
    "len(matches)"
   ]
  },
  {
   "cell_type": "code",
   "execution_count": null,
   "metadata": {
    "collapsed": true
   },
   "outputs": [],
   "source": [
    "matches"
   ]
  },
  {
   "cell_type": "markdown",
   "metadata": {},
   "source": [
    "### Apply"
   ]
  },
  {
   "cell_type": "code",
   "execution_count": null,
   "metadata": {
    "collapsed": true
   },
   "outputs": [],
   "source": [
    "def uniqueify_max(matches):\n",
    "    # take max-probability b for each a\n",
    "    g = matches.groupby(by=[\"a_FT\", \"a_Kipnr\", \"a_Løbenr\"])\n",
    "    idx = g[\"p\"].transform(max) == matches[\"p\"]\n",
    "    matches = matches[idx]\n",
    "    del(g)\n",
    "    del(idx)\n",
    "    # and then max-probability a for each b\n",
    "    g = matches.groupby(by=[\"b_FT\", \"b_Kipnr\", \"b_Løbenr\"])\n",
    "    idx = g[\"p\"].transform(max) == matches[\"p\"]\n",
    "    matches = matches[idx]\n",
    "    del(g)\n",
    "    del(idx)\n",
    "    # drop any duplicate a or b\n",
    "    matches.drop_duplicates(subset=[\"a_FT\", \"a_Løbenr\", \"a_Kipnr\"], inplace=True)\n",
    "    matches.drop_duplicates(subset=[\"b_FT\", \"b_Løbenr\", \"b_Kipnr\"], inplace=True)\n",
    "    return matches"
   ]
  },
  {
   "cell_type": "code",
   "execution_count": null,
   "metadata": {
    "collapsed": true
   },
   "outputs": [],
   "source": [
    "def process(fn):\n",
    "    matches = pd.read_csv(str(fn), delimiter=\"|\")\n",
    "    matches = matches[matches.p > 0.9]\n",
    "    matches = uniqueify_max(matches)\n",
    "    return matches"
   ]
  },
  {
   "cell_type": "code",
   "execution_count": null,
   "metadata": {
    "collapsed": true
   },
   "outputs": [],
   "source": [
    "with concurrent.futures.ProcessPoolExecutor(max_workers=10) as tpe:\n",
    "    res = tpe.map(process, pathlib.Path(\"nn-match\").glob(\"*.csv\"))"
   ]
  },
  {
   "cell_type": "code",
   "execution_count": null,
   "metadata": {
    "collapsed": true
   },
   "outputs": [],
   "source": [
    "res = list(res)"
   ]
  },
  {
   "cell_type": "code",
   "execution_count": null,
   "metadata": {},
   "outputs": [],
   "source": [
    "len(res)"
   ]
  },
  {
   "cell_type": "code",
   "execution_count": null,
   "metadata": {
    "collapsed": true
   },
   "outputs": [],
   "source": [
    "matches = pd.concat(res)"
   ]
  },
  {
   "cell_type": "code",
   "execution_count": null,
   "metadata": {
    "collapsed": true
   },
   "outputs": [],
   "source": [
    "del(res)"
   ]
  },
  {
   "cell_type": "code",
   "execution_count": null,
   "metadata": {},
   "outputs": [],
   "source": [
    "s = 0\n",
    "for fn in pathlib.Path(\"nn-match\").glob(\"*.csv\"):\n",
    "    with fn.open(\"r\") as fd:\n",
    "        s += sum(1 for _ in fd) - 1"
   ]
  },
  {
   "cell_type": "code",
   "execution_count": null,
   "metadata": {},
   "outputs": [],
   "source": [
    "s"
   ]
  },
  {
   "cell_type": "code",
   "execution_count": null,
   "metadata": {},
   "outputs": [],
   "source": [
    "len(matches)"
   ]
  },
  {
   "cell_type": "code",
   "execution_count": null,
   "metadata": {
    "collapsed": true
   },
   "outputs": [],
   "source": [
    "g = matches.groupby(\"a_FT\")"
   ]
  },
  {
   "cell_type": "code",
   "execution_count": null,
   "metadata": {},
   "outputs": [],
   "source": [
    "s = 0\n",
    "for a_year, size in g.size().iteritems():\n",
    "    print(a_year, size)\n",
    "    s += size\n",
    "s"
   ]
  },
  {
   "cell_type": "code",
   "execution_count": null,
   "metadata": {
    "collapsed": true
   },
   "outputs": [],
   "source": [
    "df = pd.read_pickle(\"../scripts/dataframe.pickled\")"
   ]
  },
  {
   "cell_type": "code",
   "execution_count": null,
   "metadata": {
    "collapsed": true
   },
   "outputs": [],
   "source": [
    "g2 = df.groupby(\"FT\")"
   ]
  },
  {
   "cell_type": "code",
   "execution_count": null,
   "metadata": {
    "collapsed": true
   },
   "outputs": [],
   "source": [
    "l = list(g2.size().iteritems())"
   ]
  },
  {
   "cell_type": "code",
   "execution_count": null,
   "metadata": {
    "collapsed": true
   },
   "outputs": [],
   "source": [
    "import math"
   ]
  },
  {
   "cell_type": "code",
   "execution_count": null,
   "metadata": {},
   "outputs": [],
   "source": [
    "for (a_year, a_size), (b_year, b_size), (our_year, our_size) in zip(l, l[1:], g.size().iteritems()):\n",
    "    ul = min(a_size, b_size)\n",
    "    print(a_year, \"&\", b_year, \"&\", our_size, \"&\", ul, \"&\", round(our_size/ul*100,2))"
   ]
  },
  {
   "cell_type": "code",
   "execution_count": null,
   "metadata": {
    "collapsed": true
   },
   "outputs": [],
   "source": [
    "hmm = matches.p.describe()"
   ]
  },
  {
   "cell_type": "code",
   "execution_count": null,
   "metadata": {},
   "outputs": [],
   "source": [
    "print(hmm.to_latex())"
   ]
  },
  {
   "cell_type": "code",
   "execution_count": null,
   "metadata": {},
   "outputs": [],
   "source": [
    "matches.p.plot(kind=\"hist\")"
   ]
  },
  {
   "cell_type": "code",
   "execution_count": null,
   "metadata": {},
   "outputs": [],
   "source": [
    "matches.p.hist(bins=100)\n",
    "#plt.show()"
   ]
  },
  {
   "cell_type": "code",
   "execution_count": null,
   "metadata": {
    "collapsed": true
   },
   "outputs": [],
   "source": [
    "plt.savefig(\"test.pdf\")"
   ]
  },
  {
   "cell_type": "code",
   "execution_count": null,
   "metadata": {
    "collapsed": true
   },
   "outputs": [],
   "source": [
    "plt.style.use(\"ggplot\")"
   ]
  },
  {
   "cell_type": "code",
   "execution_count": null,
   "metadata": {
    "collapsed": true
   },
   "outputs": [],
   "source": [
    "import matplotlib.pyplot as plt"
   ]
  },
  {
   "cell_type": "markdown",
   "metadata": {},
   "source": [
    "## There are probably still duplicates\n",
    "Obvious if `len(matches)` above is greater than the sum in the cell directly above."
   ]
  },
  {
   "cell_type": "code",
   "execution_count": null,
   "metadata": {
    "collapsed": true
   },
   "outputs": [],
   "source": [
    "indexed = matches.set_index([\"a_FT\", \"a_Kipnr\", \"a_Løbenr\"])"
   ]
  },
  {
   "cell_type": "code",
   "execution_count": null,
   "metadata": {
    "collapsed": true
   },
   "outputs": [],
   "source": [
    "d = indexed.index.get_duplicates()"
   ]
  },
  {
   "cell_type": "code",
   "execution_count": null,
   "metadata": {
    "collapsed": true
   },
   "outputs": [],
   "source": [
    "indexed.loc[d]"
   ]
  },
  {
   "cell_type": "code",
   "execution_count": null,
   "metadata": {
    "collapsed": true
   },
   "outputs": [],
   "source": [
    "len(matches)"
   ]
  },
  {
   "cell_type": "code",
   "execution_count": null,
   "metadata": {
    "collapsed": true
   },
   "outputs": [],
   "source": [
    "matches.drop_duplicates(subset=[\"a_FT\", \"a_Løbenr\", \"a_Kipnr\"], inplace=True)\n",
    "matches.drop_duplicates(subset=[\"b_FT\", \"b_Løbenr\", \"b_Kipnr\"], inplace=True)"
   ]
  },
  {
   "cell_type": "code",
   "execution_count": null,
   "metadata": {
    "collapsed": true
   },
   "outputs": [],
   "source": [
    "len(matches)"
   ]
  },
  {
   "cell_type": "code",
   "execution_count": null,
   "metadata": {
    "collapsed": true
   },
   "outputs": [],
   "source": [
    "matches"
   ]
  },
  {
   "cell_type": "markdown",
   "metadata": {},
   "source": [
    "# Now only sensible matches left\n",
    "So let's look at these"
   ]
  },
  {
   "cell_type": "markdown",
   "metadata": {},
   "source": [
    "## Inspect some matches"
   ]
  },
  {
   "cell_type": "code",
   "execution_count": null,
   "metadata": {
    "collapsed": true
   },
   "outputs": [],
   "source": [
    "df = pd.read_pickle(\"../scripts/indexed.pickled\")"
   ]
  },
  {
   "cell_type": "code",
   "execution_count": null,
   "metadata": {
    "collapsed": true
   },
   "outputs": [],
   "source": [
    "lookup = {}\n",
    "for t in df.itertuples():\n",
    "    lookup[t.Index] = t"
   ]
  },
  {
   "cell_type": "code",
   "execution_count": null,
   "metadata": {
    "collapsed": true
   },
   "outputs": [],
   "source": [
    "del(df)"
   ]
  },
  {
   "cell_type": "code",
   "execution_count": null,
   "metadata": {
    "collapsed": true
   },
   "outputs": [],
   "source": [
    "header = \"_|Amt|Herred|Sogn|Navn|Køn|Fødested|Fødeår|Civilstand|Position|Erhverv|Fornavn|Kipnr|Løbenr|Group\".split(\"|\")"
   ]
  },
  {
   "cell_type": "code",
   "execution_count": null,
   "metadata": {
    "collapsed": true
   },
   "outputs": [],
   "source": [
    "matches.sort_values(by=\"p\", inplace=True, ascending=True)"
   ]
  },
  {
   "cell_type": "code",
   "execution_count": null,
   "metadata": {
    "collapsed": true
   },
   "outputs": [],
   "source": [
    "ss = matches[abs(matches.p - 0.935037) < 0.0001]"
   ]
  },
  {
   "cell_type": "code",
   "execution_count": null,
   "metadata": {
    "collapsed": true
   },
   "outputs": [],
   "source": [
    "import textwrap"
   ]
  },
  {
   "cell_type": "code",
   "execution_count": null,
   "metadata": {
    "collapsed": true
   },
   "outputs": [],
   "source": [
    "sh = textwrap.shorten"
   ]
  },
  {
   "cell_type": "code",
   "execution_count": null,
   "metadata": {
    "collapsed": true
   },
   "outputs": [],
   "source": [
    "latex = False"
   ]
  },
  {
   "cell_type": "code",
   "execution_count": null,
   "metadata": {},
   "outputs": [],
   "source": [
    "count = 0\n",
    "for _, a_FT, a_Kip, a_Løb, b_FT, b_Kip, b_Løb, prob in matches.itertuples():\n",
    "    count += 1\n",
    "    a_key = (a_FT, a_Kip, a_Løb)\n",
    "    b_key = (b_FT, b_Kip, b_Løb)\n",
    "    a = lookup[a_key]\n",
    "    b = lookup[b_key]\n",
    "    if latex:\n",
    "        print(\"\\\\multicolumn{3}{l}{\" + \"Match from \" + str(a_FT) + \" to \" + str(b_FT) + \"}\\\\\\\\\")\n",
    "        print(\"\\\\multicolumn{3}{l}{\" + \"Assigned probability: \" + str(prob) + \"}\\\\\\\\\")\n",
    "    else:\n",
    "        print(\"Match from\", a_FT, \"to\", b_FT)\n",
    "        print(\"Assigned probability:\", prob)\n",
    "    for i in range(1, 11):\n",
    "        if latex:\n",
    "            s = \"{}&{}&{}\\\\\\\\\".format(header[i], sh(str(a[i]), 40), sh(str(b[i]), 40))\n",
    "        else:\n",
    "            s = \"{:10s} {:30s} {:30s}\".format(header[i], str(a[i]), str(b[i]))\n",
    "        if a[i] != b[i]:\n",
    "            s = '\\033[95m' + s + \"\\033[0m\"\n",
    "        print(s)\n",
    "    if latex:\n",
    "        print(\"\\midrule\")\n",
    "    else:\n",
    "        print()\n",
    "    if count == 500:\n",
    "        break"
   ]
  },
  {
   "cell_type": "markdown",
   "metadata": {},
   "source": [
    "# How good is this?"
   ]
  },
  {
   "cell_type": "code",
   "execution_count": null,
   "metadata": {
    "collapsed": true
   },
   "outputs": [],
   "source": [
    "import utils"
   ]
  },
  {
   "cell_type": "code",
   "execution_count": null,
   "metadata": {
    "collapsed": true
   },
   "outputs": [],
   "source": [
    "gold = pd.read_csv(utils.datadir / \"links\" / \"matches.csv\", delimiter=\"|\",\n",
    "                   dtype={\"a_FT\":int,\"b_FT\":int,\"a_Løbenr\":int,\"b_Løbenr\":int},\n",
    "                   comment=\"#\")"
   ]
  },
  {
   "cell_type": "code",
   "execution_count": null,
   "metadata": {
    "collapsed": true
   },
   "outputs": [],
   "source": [
    "known = {t[1:4]: t[4:7] for t in gold.itertuples()}"
   ]
  },
  {
   "cell_type": "code",
   "execution_count": null,
   "metadata": {
    "collapsed": true
   },
   "outputs": [],
   "source": [
    "known_rev = {}\n",
    "for k, v in known.items():\n",
    "    known_rev[v] = k"
   ]
  },
  {
   "cell_type": "code",
   "execution_count": null,
   "metadata": {},
   "outputs": [],
   "source": [
    "len(known_rev)"
   ]
  },
  {
   "cell_type": "code",
   "execution_count": null,
   "metadata": {},
   "outputs": [],
   "source": [
    "both_sides = set(v for v in known.values())"
   ]
  },
  {
   "cell_type": "code",
   "execution_count": null,
   "metadata": {
    "collapsed": true
   },
   "outputs": [],
   "source": [
    "both_sides.update(known)"
   ]
  },
  {
   "cell_type": "code",
   "execution_count": null,
   "metadata": {
    "collapsed": true
   },
   "outputs": [],
   "source": [
    "ss = matches.set_index([\"a_FT\", \"a_Kipnr\", \"a_Løbenr\"])"
   ]
  },
  {
   "cell_type": "code",
   "execution_count": null,
   "metadata": {},
   "outputs": [],
   "source": [
    "ss = ss[ss.index.isin(both_sides)]"
   ]
  },
  {
   "cell_type": "code",
   "execution_count": null,
   "metadata": {},
   "outputs": [],
   "source": [
    "len(ss)"
   ]
  },
  {
   "cell_type": "code",
   "execution_count": null,
   "metadata": {
    "collapsed": true
   },
   "outputs": [],
   "source": [
    "d = {}\n",
    "for t in ss.itertuples():\n",
    "    d[t.Index] = t[1:4]"
   ]
  },
  {
   "cell_type": "code",
   "execution_count": null,
   "metadata": {
    "collapsed": true
   },
   "outputs": [],
   "source": [
    "del(ss)"
   ]
  },
  {
   "cell_type": "code",
   "execution_count": null,
   "metadata": {},
   "outputs": [],
   "source": [
    "len(d)"
   ]
  },
  {
   "cell_type": "code",
   "execution_count": null,
   "metadata": {
    "collapsed": true
   },
   "outputs": [],
   "source": [
    "rev = {}\n",
    "for k, v in d.items():\n",
    "    rev[v] = k"
   ]
  },
  {
   "cell_type": "code",
   "execution_count": null,
   "metadata": {},
   "outputs": [],
   "source": [
    "len(d)"
   ]
  },
  {
   "cell_type": "code",
   "execution_count": null,
   "metadata": {},
   "outputs": [],
   "source": [
    "d = {k: v for (k, v) in d.items() if k in known or v in known_rev}"
   ]
  },
  {
   "cell_type": "code",
   "execution_count": null,
   "metadata": {},
   "outputs": [],
   "source": [
    "recovered = 0\n",
    "missed = 0\n",
    "unnecessary = 0\n",
    "hmm = 0\n",
    "for a, b in d.items():\n",
    "    if a in known:\n",
    "        should = known[a]\n",
    "        if b == should:\n",
    "            recovered += 1\n",
    "        else:\n",
    "            missed += 1\n",
    "    elif b in known_rev:\n",
    "        hmm += 1\n",
    "    else: # found a->b, but b was matched with other\n",
    "        unnecessary += 1"
   ]
  },
  {
   "cell_type": "code",
   "execution_count": null,
   "metadata": {},
   "outputs": [],
   "source": [
    "len(known)"
   ]
  },
  {
   "cell_type": "code",
   "execution_count": null,
   "metadata": {},
   "outputs": [],
   "source": [
    "recovered / len(known)"
   ]
  },
  {
   "cell_type": "code",
   "execution_count": null,
   "metadata": {},
   "outputs": [],
   "source": [
    "recovered, missed, unnecessary, hmm"
   ]
  },
  {
   "cell_type": "code",
   "execution_count": null,
   "metadata": {},
   "outputs": [],
   "source": [
    "no"
   ]
  },
  {
   "cell_type": "code",
   "execution_count": null,
   "metadata": {},
   "outputs": [],
   "source": [
    "yes"
   ]
  },
  {
   "cell_type": "code",
   "execution_count": null,
   "metadata": {},
   "outputs": [],
   "source": [
    "yes / len(known)"
   ]
  },
  {
   "cell_type": "code",
   "execution_count": null,
   "metadata": {},
   "outputs": [],
   "source": [
    "yes / (yes + no)"
   ]
  }
 ],
 "metadata": {
  "kernelspec": {
   "display_name": "Python 3",
   "language": "python",
   "name": "python3"
  },
  "language_info": {
   "codemirror_mode": {
    "name": "ipython",
    "version": 3
   },
   "file_extension": ".py",
   "mimetype": "text/x-python",
   "name": "python",
   "nbconvert_exporter": "python",
   "pygments_lexer": "ipython3",
   "version": "3.6.3"
  }
 },
 "nbformat": 4,
 "nbformat_minor": 2
}
