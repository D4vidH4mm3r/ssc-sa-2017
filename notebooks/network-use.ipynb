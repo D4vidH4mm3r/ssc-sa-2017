{
 "cells": [
  {
   "cell_type": "code",
   "execution_count": null,
   "metadata": {
    "collapsed": true
   },
   "outputs": [],
   "source": [
    "import pandas as pd\n",
    "import tensorflow as tf\n",
    "import multiprocessing\n",
    "import editdistance"
   ]
  },
  {
   "cell_type": "code",
   "execution_count": null,
   "metadata": {
    "collapsed": true
   },
   "outputs": [],
   "source": [
    "navn = tf.feature_column.numeric_column(\"r_name\")\n",
    "fødested = tf.feature_column.numeric_column(\"r_birthp\")\n",
    "civilstand = tf.feature_column.numeric_column(\"r_civil\")\n",
    "position = tf.feature_column.numeric_column(\"r_pos\")\n",
    "erhverv = tf.feature_column.numeric_column(\"r_job\")\n",
    "køn = tf.feature_column.numeric_column(\"m_gender\")\n",
    "fødeår = tf.feature_column.numeric_column(\"d_birthy\")"
   ]
  },
  {
   "cell_type": "code",
   "execution_count": null,
   "metadata": {},
   "outputs": [],
   "source": [
    "model2 = tf.estimator.LinearClassifier(feature_columns=[\n",
    "    navn, fødested, civilstand, position, erhverv, køn, fødeår\n",
    "], model_dir=\"model\")"
   ]
  },
  {
   "cell_type": "code",
   "execution_count": null,
   "metadata": {
    "collapsed": true
   },
   "outputs": [],
   "source": [
    "df = pd.read_pickle(\"m-TT.pickled\")"
   ]
  },
  {
   "cell_type": "code",
   "execution_count": null,
   "metadata": {},
   "outputs": [],
   "source": [
    "len(df)"
   ]
  },
  {
   "cell_type": "code",
   "execution_count": null,
   "metadata": {
    "collapsed": true
   },
   "outputs": [],
   "source": [
    "import recordlinkage"
   ]
  },
  {
   "cell_type": "code",
   "execution_count": null,
   "metadata": {
    "collapsed": true
   },
   "outputs": [],
   "source": [
    "dfA = df[df.FT==1845]"
   ]
  },
  {
   "cell_type": "code",
   "execution_count": null,
   "metadata": {},
   "outputs": [],
   "source": [
    "len(dfA)"
   ]
  },
  {
   "cell_type": "code",
   "execution_count": null,
   "metadata": {},
   "outputs": [],
   "source": [
    "dfB = df[df.FT==1850]"
   ]
  },
  {
   "cell_type": "code",
   "execution_count": null,
   "metadata": {},
   "outputs": [],
   "source": [
    "len(dfB)"
   ]
  },
  {
   "cell_type": "code",
   "execution_count": null,
   "metadata": {},
   "outputs": [],
   "source": [
    "len(dfA) * len(dfB)"
   ]
  },
  {
   "cell_type": "code",
   "execution_count": null,
   "metadata": {
    "collapsed": true
   },
   "outputs": [],
   "source": [
    "indexer = recordlinkage.indexing.SortedNeighbourhoodIndex(on=\"Fødeår\", window=5)"
   ]
  },
  {
   "cell_type": "code",
   "execution_count": null,
   "metadata": {
    "collapsed": true
   },
   "outputs": [],
   "source": [
    "indexer = recordlinkage.indexing.FullIndex()"
   ]
  },
  {
   "cell_type": "code",
   "execution_count": null,
   "metadata": {
    "collapsed": true
   },
   "outputs": [],
   "source": [
    "index = indexer.index(dfA, dfB)"
   ]
  },
  {
   "cell_type": "code",
   "execution_count": null,
   "metadata": {},
   "outputs": [],
   "source": [
    "len(index)"
   ]
  },
  {
   "cell_type": "code",
   "execution_count": null,
   "metadata": {
    "collapsed": true
   },
   "outputs": [],
   "source": [
    "def ss(a: str, b: str):\n",
    "    \"\"\"Similarity score for two strings a and b\"\"\"\n",
    "    if pd.isnull(a) or pd.isnull(b):\n",
    "        return 0\n",
    "    if a==b:\n",
    "        return 1.0\n",
    "    return editdistance.eval(a, b) / max(len(a), len(b))"
   ]
  },
  {
   "cell_type": "code",
   "execution_count": null,
   "metadata": {
    "collapsed": true
   },
   "outputs": [],
   "source": [
    "def score(a, b):\n",
    "    return (ss(a.Navn, b.Navn),\n",
    "            ss(a.Fødested, b.Fødested),\n",
    "            ss(a.Civilstand, b.Civilstand),\n",
    "            ss(a.Position, b.Position),\n",
    "            ss(a.Erhverv, b.Erhverv),\n",
    "            1.0 if a.Køn == b.Køn else 0.0,\n",
    "            abs(a.Fødeår - b.Fødeår))"
   ]
  },
  {
   "cell_type": "code",
   "execution_count": null,
   "metadata": {
    "collapsed": true
   },
   "outputs": [],
   "source": [
    "score_columns=\"r_name r_birthp r_civil r_pos r_job m_gender d_birthy\".split(\" \")"
   ]
  },
  {
   "cell_type": "code",
   "execution_count": null,
   "metadata": {
    "collapsed": true
   },
   "outputs": [],
   "source": [
    "def generate_scores(d):\n",
    "    lots = []\n",
    "    for (a, b) in d:\n",
    "        a = dfA.loc[a]\n",
    "        b = dfB.loc[b]\n",
    "        lots.append((a.FT, a.Kipnr, a.Løbenr, b.FT, b.Kipnr, b.Løbenr) + score(a,b))\n",
    "    return lots"
   ]
  },
  {
   "cell_type": "code",
   "execution_count": null,
   "metadata": {
    "collapsed": true
   },
   "outputs": [],
   "source": [
    "import utils"
   ]
  },
  {
   "cell_type": "code",
   "execution_count": null,
   "metadata": {
    "collapsed": true
   },
   "outputs": [],
   "source": [
    "with multiprocessing.Pool() as p:\n",
    "    res = p.map(generate_scores, utils.chunks(index, 1000))"
   ]
  },
  {
   "cell_type": "code",
   "execution_count": null,
   "metadata": {
    "collapsed": true
   },
   "outputs": [],
   "source": [
    "import itertools"
   ]
  },
  {
   "cell_type": "code",
   "execution_count": null,
   "metadata": {},
   "outputs": [],
   "source": [
    "df_eval = pd.DataFrame(list(itertools.chain(*res)), columns=[\"a_FT\", \"a_Kipnr\", \"a_Løbenr\", \"b_FT\", \"b_Kipnr\", \"b_Løbenr\"] + score_columns)"
   ]
  },
  {
   "cell_type": "code",
   "execution_count": null,
   "metadata": {
    "collapsed": true
   },
   "outputs": [],
   "source": [
    "input_fn = tf.estimator.inputs.pandas_input_fn(x=df_eval, shuffle=False)"
   ]
  },
  {
   "cell_type": "code",
   "execution_count": null,
   "metadata": {
    "scrolled": true
   },
   "outputs": [],
   "source": [
    "prediction = list(model2.predict(input_fn))"
   ]
  },
  {
   "cell_type": "code",
   "execution_count": null,
   "metadata": {
    "collapsed": true
   },
   "outputs": [],
   "source": [
    "df.set_index([\"FT\", \"Kipnr\", \"Løbenr\"], inplace=True)"
   ]
  },
  {
   "cell_type": "code",
   "execution_count": null,
   "metadata": {},
   "outputs": [],
   "source": [
    "df.sort_index(inplace=True)"
   ]
  },
  {
   "cell_type": "code",
   "execution_count": null,
   "metadata": {},
   "outputs": [],
   "source": [
    "len(prediction)"
   ]
  },
  {
   "cell_type": "code",
   "execution_count": null,
   "metadata": {
    "collapsed": true
   },
   "outputs": [],
   "source": [
    "header = \"Amt|Herred|Sogn|Navn|Køn|Fødested|Fødeår|Civilstand|Position|Erhverv|Kipnr|Løbenr|Group\".split(\"|\")"
   ]
  },
  {
   "cell_type": "code",
   "execution_count": null,
   "metadata": {},
   "outputs": [],
   "source": [
    "for i, d in enumerate(prediction):\n",
    "    if d[\"probabilities\"][0] < 0.135:\n",
    "        print(d[\"probabilities\"])\n",
    "        print(d[\"classes\"])\n",
    "        r = df_eval.iloc[i]\n",
    "        s = df.loc[[(r.a_FT,r.a_Kipnr,r.a_Løbenr),\n",
    "                     (r.b_FT,r.b_Kipnr,r.b_Løbenr)]]\n",
    "        a = s.iloc[0]\n",
    "        b = s.iloc[1]\n",
    "        for i in range(11):\n",
    "            print(\"{:10s} {:40s} {:40s}\".format(header[i], str(a[i]), str(b[i])))\n",
    "        print()"
   ]
  },
  {
   "cell_type": "code",
   "execution_count": null,
   "metadata": {},
   "outputs": [],
   "source": [
    "d"
   ]
  },
  {
   "cell_type": "code",
   "execution_count": null,
   "metadata": {},
   "outputs": [],
   "source": [
    "model2.get_variable_names()"
   ]
  },
  {
   "cell_type": "code",
   "execution_count": null,
   "metadata": {},
   "outputs": [],
   "source": [
    "for var in model2.get_variable_names():\n",
    "    print(var)\n",
    "    print(model2.get_variable_value(var))"
   ]
  },
  {
   "cell_type": "code",
   "execution_count": null,
   "metadata": {
    "collapsed": true
   },
   "outputs": [],
   "source": []
  }
 ],
 "metadata": {
  "kernelspec": {
   "display_name": "Python 3",
   "language": "python",
   "name": "python3"
  },
  "language_info": {
   "codemirror_mode": {
    "name": "ipython",
    "version": 3
   },
   "file_extension": ".py",
   "mimetype": "text/x-python",
   "name": "python",
   "nbconvert_exporter": "python",
   "pygments_lexer": "ipython3",
   "version": "3.6.2"
  }
 },
 "nbformat": 4,
 "nbformat_minor": 2
}
