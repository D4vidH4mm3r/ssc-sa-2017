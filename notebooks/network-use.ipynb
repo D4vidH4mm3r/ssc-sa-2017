{
 "cells": [
  {
   "cell_type": "code",
   "execution_count": null,
   "metadata": {},
   "outputs": [],
   "source": [
    "%run network-init.ipynb"
   ]
  },
  {
   "cell_type": "code",
   "execution_count": null,
   "metadata": {
    "collapsed": true
   },
   "outputs": [],
   "source": [
    "import recordlinkage\n",
    "import utils\n",
    "import itertools"
   ]
  },
  {
   "cell_type": "markdown",
   "metadata": {},
   "source": [
    "# Read some subset to match"
   ]
  },
  {
   "cell_type": "code",
   "execution_count": null,
   "metadata": {
    "collapsed": true
   },
   "outputs": [],
   "source": [
    "df = pd.read_pickle(\"dataframe.pickled\")"
   ]
  },
  {
   "cell_type": "code",
   "execution_count": null,
   "metadata": {
    "collapsed": true
   },
   "outputs": [],
   "source": [
    "df = df[df.FonetiskNavn.str.startswith(\"TT\")]"
   ]
  },
  {
   "cell_type": "code",
   "execution_count": null,
   "metadata": {
    "collapsed": true
   },
   "outputs": [],
   "source": [
    "df = df[df.Køn==False] # oh my god det er grimt, men sådan er pandas syntax"
   ]
  },
  {
   "cell_type": "code",
   "execution_count": null,
   "metadata": {
    "collapsed": true
   },
   "outputs": [],
   "source": [
    "grouped = df.groupby(\"FT\")"
   ]
  },
  {
   "cell_type": "code",
   "execution_count": null,
   "metadata": {
    "collapsed": true
   },
   "outputs": [],
   "source": [
    "indexer = recordlinkage.indexing.SortedNeighbourhoodIndex(on=\"Fødeår\", window=5)"
   ]
  },
  {
   "cell_type": "code",
   "execution_count": null,
   "metadata": {
    "collapsed": true
   },
   "outputs": [],
   "source": [
    "def generate_scores(d):\n",
    "    lots = []\n",
    "    for (a, b) in d:\n",
    "        a = dfA.loc[a]\n",
    "        b = dfB.loc[b]\n",
    "        lots.append((a.FT, a.Kipnr, a.Løbenr, b.FT, b.Kipnr, b.Løbenr) + score(a,b))\n",
    "    return lots"
   ]
  },
  {
   "cell_type": "markdown",
   "metadata": {},
   "source": [
    "For looking up people by FT-kip-løb keys later..."
   ]
  },
  {
   "cell_type": "code",
   "execution_count": null,
   "metadata": {
    "collapsed": true
   },
   "outputs": [],
   "source": [
    "lookup = df.set_index([\"FT\", \"Kipnr\", \"Løbenr\"], inplace=False).sort_index(inplace=False)"
   ]
  },
  {
   "cell_type": "code",
   "execution_count": null,
   "metadata": {},
   "outputs": [],
   "source": [
    "potential_matches = set() # no idea why duplicates occur\n",
    "dfA = dfB = None\n",
    "yearA = yearB = None\n",
    "\n",
    "for year, data in grouped:\n",
    "    yearB = year\n",
    "    dfB = data\n",
    "    if dfA is not None:\n",
    "        print(\"Now try\", yearA, \"with\", len(dfA), \"vs\", yearB, \"with\", len(dfB))\n",
    "        index = indexer.index(dfA, dfB)\n",
    "        print(\"Index of size\", len(index))\n",
    "        with multiprocessing.Pool() as p:\n",
    "            res = p.map(generate_scores, utils.chunks(index, 500))\n",
    "        df_eval = pd.DataFrame(list(itertools.chain(*res)),\n",
    "                               columns=[\"a_FT\", \"a_Kipnr\", \"a_Løbenr\",\n",
    "                                        \"b_FT\", \"b_Kipnr\", \"b_Løbenr\"] + score_columns)\n",
    "        del(res)\n",
    "        input_fn = tf.estimator.inputs.pandas_input_fn(x=df_eval, shuffle=False)\n",
    "        prediction = model1.predict(input_fn)\n",
    "        for i, d in enumerate(prediction):\n",
    "            if d[\"classes\"][0] == b\"1\":\n",
    "                r = df_eval.iloc[i]\n",
    "                potential_matches.add(tuple(r[:6]) + (d[\"probabilities\"][1],))\n",
    "        print(\"Now have\", len(potential_matches))\n",
    "    dfA = dfB\n",
    "    yearA = yearB"
   ]
  },
  {
   "cell_type": "code",
   "execution_count": null,
   "metadata": {},
   "outputs": [],
   "source": [
    "with open(\"m-TT.csv\", \"w\", encoding=\"utf-8\") as fd:\n",
    "    writer = csv.writer(fd, lineterminator=\"\\n\", delimiter=\"|\")\n",
    "    writer.writerow(\"a_FT a_Kipnr a_Løbenr b_FT b_Kipnr b_Løbenr p\".split())\n",
    "    writer.writerows(potential_matches)"
   ]
  },
  {
   "cell_type": "code",
   "execution_count": null,
   "metadata": {},
   "outputs": [],
   "source": [
    "utils.datadir.stem"
   ]
  },
  {
   "cell_type": "code",
   "execution_count": null,
   "metadata": {
    "collapsed": true
   },
   "outputs": [],
   "source": [
    "header = \"Amt|Herred|Sogn|Navn|Køn|Fødested|Fødeår|Civilstand|Position|Erhverv|Kipnr|Løbenr|Group\".split(\"|\")"
   ]
  },
  {
   "cell_type": "code",
   "execution_count": null,
   "metadata": {
    "collapsed": true
   },
   "outputs": [],
   "source": [
    "import textwrap"
   ]
  },
  {
   "cell_type": "code",
   "execution_count": null,
   "metadata": {
    "collapsed": true
   },
   "outputs": [],
   "source": [
    "pd.read_csv(\"../scripts/m-TT.csv\", delimiter=\"|\")"
   ]
  },
  {
   "cell_type": "code",
   "execution_count": null,
   "metadata": {},
   "outputs": [],
   "source": [
    "for a_FT, a_Kip, a_Løb, b_FT, b_Kip, b_Løb, prob in potential_matches[:100]:\n",
    "    print(prob)\n",
    "    r = df_eval.iloc[i]\n",
    "    a = lookup.loc[(a_FT, a_Kip, a_Løb)]\n",
    "    b = lookup.loc[(b_FT, b_Kip, b_Løb)]\n",
    "    for i in range(10):\n",
    "        print(\"{:10s} {:40s} {:40s}\".format(header[i],\n",
    "                                            textwrap.shorten(str(a[i]),40), \n",
    "                                            textwrap.shorten(str(b[i]), 40)))\n",
    "    print()"
   ]
  },
  {
   "cell_type": "code",
   "execution_count": null,
   "metadata": {
    "collapsed": true
   },
   "outputs": [],
   "source": [
    "for var in model1.get_variable_names():\n",
    "    print(var)\n",
    "    print(model1.get_variable_value(var))"
   ]
  }
 ],
 "metadata": {
  "kernelspec": {
   "display_name": "Python 3",
   "language": "python",
   "name": "python3"
  },
  "language_info": {
   "codemirror_mode": {
    "name": "ipython",
    "version": 3
   },
   "file_extension": ".py",
   "mimetype": "text/x-python",
   "name": "python",
   "nbconvert_exporter": "python",
   "pygments_lexer": "ipython3",
   "version": "3.6.2"
  }
 },
 "nbformat": 4,
 "nbformat_minor": 2
}
