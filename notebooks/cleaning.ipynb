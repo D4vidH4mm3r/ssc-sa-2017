{
 "cells": [
  {
   "cell_type": "code",
   "execution_count": null,
   "metadata": {
    "collapsed": true
   },
   "outputs": [],
   "source": [
    "import pathlib\n",
    "import re\n",
    "import collections\n",
    "import difflib\n",
    "import pandas\n",
    "import utils"
   ]
  },
  {
   "cell_type": "markdown",
   "metadata": {},
   "source": [
    "# Initial\n",
    "## Read stuff"
   ]
  },
  {
   "cell_type": "code",
   "execution_count": null,
   "metadata": {
    "collapsed": true
   },
   "outputs": [],
   "source": [
    "df = pandas.read_csv(str(utils.datadir / \"clean\"/ \"complete.csv\"),\n",
    "                     delimiter=\"|\",\n",
    "                     dtype={\n",
    "                         \"FT\": int,\n",
    "                         \"Navn\": str,\n",
    "                         \"Erhverv\": str,\n",
    "                         \"Kipnr\": str,\n",
    "                         \"Fødested\": str,\n",
    "                         \"Løbenr\": str\n",
    "                     },\n",
    "                    converters={\n",
    "                        \"Fødeår\": (lambda x: -1000 if x==\"\" else int(x)) # missing fødeår for some\n",
    "                    })"
   ]
  },
  {
   "cell_type": "markdown",
   "metadata": {},
   "source": [
    "# Drop more NaN!\n",
    "Basically, we need to have name, birthplace and birthyear for sure.  Probably also more."
   ]
  },
  {
   "cell_type": "code",
   "execution_count": null,
   "metadata": {
    "collapsed": true
   },
   "outputs": [],
   "source": [
    "print(\"Before dropping stupid NaN fields\", len(df))\n",
    "df.dropna(subset=[\"Fødested\", \"Navn\", \"Fødeår\", \"Køn\"], inplace=True)\n",
    "len(df)"
   ]
  },
  {
   "cell_type": "markdown",
   "metadata": {},
   "source": [
    "# Fix the birthplace field"
   ]
  },
  {
   "cell_type": "markdown",
   "metadata": {},
   "source": [
    "## Part one: replace \"i sognet\""
   ]
  },
  {
   "cell_type": "code",
   "execution_count": null,
   "metadata": {
    "collapsed": true
   },
   "outputs": [],
   "source": [
    "def maybeInSogn(s):\n",
    "    s = s.lower().strip()\n",
    "    return \"i sognet\" in s or \\\n",
    "        s == \"sognet\" or \\\n",
    "        re.search(r\"h(er|\\.)? i s\", s) is not None"
   ]
  },
  {
   "cell_type": "code",
   "execution_count": null,
   "metadata": {
    "collapsed": true
   },
   "outputs": [],
   "source": [
    "sogn = df.Fødested.apply(maybeInSogn)"
   ]
  },
  {
   "cell_type": "code",
   "execution_count": null,
   "metadata": {
    "collapsed": true
   },
   "outputs": [],
   "source": [
    "df.loc[sogn, \"Fødested\"] = df.Sogn"
   ]
  },
  {
   "cell_type": "code",
   "execution_count": null,
   "metadata": {
    "collapsed": true
   },
   "outputs": [],
   "source": [
    "sogn = df[df.Fødested.str.contains(\"sogn\", case=False)]"
   ]
  },
  {
   "cell_type": "markdown",
   "metadata": {},
   "source": [
    "Look for more (not done)"
   ]
  },
  {
   "cell_type": "code",
   "execution_count": null,
   "metadata": {
    "collapsed": true
   },
   "outputs": [],
   "source": [
    "sogn.Fødested.str.lower().value_counts()"
   ]
  },
  {
   "cell_type": "code",
   "execution_count": null,
   "metadata": {
    "collapsed": true
   },
   "outputs": [],
   "source": [
    "del(sogn)"
   ]
  },
  {
   "cell_type": "markdown",
   "metadata": {},
   "source": [
    "## Part two: change \"ditto\" or \"do\" into previous\n",
    "Note that this is very sensitive to data reordering; consider sorting first."
   ]
  },
  {
   "cell_type": "code",
   "execution_count": null,
   "metadata": {
    "collapsed": true
   },
   "outputs": [],
   "source": [
    "replacements = []\n",
    "for r in df.itertuples():\n",
    "    s = r.Fødested.lower()\n",
    "    if re.search(r\"\\b(do|ditto)\\b\", s):\n",
    "        replacements.append((r.Index, prev))\n",
    "    else:\n",
    "        prev = r.Fødested"
   ]
  },
  {
   "cell_type": "code",
   "execution_count": null,
   "metadata": {
    "collapsed": true
   },
   "outputs": [],
   "source": [
    "print(\"Updating birthplace for\", len(replacements), \"entries\")"
   ]
  },
  {
   "cell_type": "code",
   "execution_count": null,
   "metadata": {
    "collapsed": true
   },
   "outputs": [],
   "source": [
    "indices, values = zip(*replacements)"
   ]
  },
  {
   "cell_type": "code",
   "execution_count": null,
   "metadata": {
    "collapsed": true
   },
   "outputs": [],
   "source": [
    "df.loc[list(indices), \"Fødested\"] = list(values)"
   ]
  },
  {
   "cell_type": "markdown",
   "metadata": {},
   "source": [
    "## Discard bad rows"
   ]
  },
  {
   "cell_type": "markdown",
   "metadata": {},
   "source": [
    "### Fødeår\n",
    "People weren't that old back then, so discard anyone who seems to be >100.  Or negative numbers obviously - *intentionally used to represent missing fødeår*."
   ]
  },
  {
   "cell_type": "code",
   "execution_count": null,
   "metadata": {
    "collapsed": true
   },
   "outputs": [],
   "source": [
    "ages = df.FT - df.Fødeår"
   ]
  },
  {
   "cell_type": "code",
   "execution_count": null,
   "metadata": {
    "collapsed": true
   },
   "outputs": [],
   "source": [
    "print(\"Before dropping age > 100:\", len(df))\n",
    "df.drop(df[ages>100].index, inplace=True)\n",
    "print(\"After:\", len(df))\n",
    "print(\"Before dropping age < 0:\", len(df))\n",
    "df.drop(df[ages<0].index, inplace=True)\n",
    "print(\"After:\", len(df))"
   ]
  },
  {
   "cell_type": "code",
   "execution_count": null,
   "metadata": {
    "collapsed": true
   },
   "outputs": [],
   "source": [
    "del(ages)"
   ]
  },
  {
   "cell_type": "markdown",
   "metadata": {},
   "source": [
    "### Navn"
   ]
  },
  {
   "cell_type": "code",
   "execution_count": null,
   "metadata": {
    "collapsed": true
   },
   "outputs": [],
   "source": [
    "print(\"Before dropping empty names with no letters:\", len(df))\n",
    "df.drop(df[df.Navn.str.match(r\"^[^a-zæøå]*$\", case=False)].index, inplace=True)\n",
    "print(\"After:\", len(df))"
   ]
  },
  {
   "cell_type": "markdown",
   "metadata": {},
   "source": [
    "Get rid of children without names."
   ]
  },
  {
   "cell_type": "code",
   "execution_count": null,
   "metadata": {
    "collapsed": true
   },
   "outputs": [],
   "source": [
    "def isProbablyChild(s):\n",
    "    s = s.lower()\n",
    "    return \"barn\" in s and (\"navn\" in s or\n",
    "                           \"døbt\" in s or\n",
    "                           \"dreng\" in s or\n",
    "                           \"pige\" in s or\n",
    "                           \"nyfødt\" in s)"
   ]
  },
  {
   "cell_type": "code",
   "execution_count": null,
   "metadata": {
    "collapsed": true
   },
   "outputs": [],
   "source": [
    "maybe_children = df[df.Navn.map(isProbablyChild).astype(bool, copy=False)]"
   ]
  },
  {
   "cell_type": "markdown",
   "metadata": {},
   "source": [
    "**TODO**: extract names where possible; some are like `Dorthea Kirstine Hansen (Udøbt Pigebarn)` or `1 udøbt drengebarn [Iflg.KB.28/1-1845: Carl Christian Sørensen]` where there is actually a name even though they claim not to have one."
   ]
  },
  {
   "cell_type": "code",
   "execution_count": null,
   "metadata": {
    "collapsed": true
   },
   "outputs": [],
   "source": [
    "maybe_children.Navn.value_counts()"
   ]
  },
  {
   "cell_type": "code",
   "execution_count": null,
   "metadata": {
    "collapsed": true,
    "scrolled": true
   },
   "outputs": [],
   "source": [
    "print(\"Before dropping unchristened children:\", len(df))\n",
    "df.drop(maybe_children.index, inplace=True)\n",
    "print(\"After:\", len(df))\n",
    "del(maybe_children)"
   ]
  },
  {
   "cell_type": "markdown",
   "metadata": {},
   "source": [
    "Look at remaining rows containing \"barn\":"
   ]
  },
  {
   "cell_type": "code",
   "execution_count": null,
   "metadata": {
    "collapsed": true
   },
   "outputs": [],
   "source": [
    "maybe_children = df[df.Navn.str.contains(\"barn\", case=False)]"
   ]
  },
  {
   "cell_type": "code",
   "execution_count": null,
   "metadata": {
    "collapsed": true
   },
   "outputs": [],
   "source": [
    "maybe_children.Navn.value_counts()"
   ]
  },
  {
   "cell_type": "markdown",
   "metadata": {},
   "source": [
    "## Køn\n",
    "Look for \"K\" or \"M\" primarily.  Anything not seemingly gender related will be discarded for now..."
   ]
  },
  {
   "cell_type": "code",
   "execution_count": null,
   "metadata": {
    "collapsed": true
   },
   "outputs": [],
   "source": [
    "def guessGender(s):\n",
    "    s = s.lower()\n",
    "    if \"k\" in s or \"f\" in s:\n",
    "        return \"K\"\n",
    "    if \"m\" in s:\n",
    "        return \"M\"\n",
    "    return \"?\""
   ]
  },
  {
   "cell_type": "code",
   "execution_count": null,
   "metadata": {
    "collapsed": true
   },
   "outputs": [],
   "source": [
    "df.Køn = df.Køn.astype(str).apply(guessGender)"
   ]
  },
  {
   "cell_type": "code",
   "execution_count": null,
   "metadata": {
    "collapsed": true
   },
   "outputs": [],
   "source": [
    "df.Køn.value_counts()"
   ]
  },
  {
   "cell_type": "code",
   "execution_count": null,
   "metadata": {
    "collapsed": true
   },
   "outputs": [],
   "source": [
    "print(\"Before dropping rows lacking gender:\", len(df))\n",
    "df.drop(df[df.Køn==\"?\"].index, inplace=True)\n",
    "print(\"After:\", len(df))"
   ]
  },
  {
   "cell_type": "markdown",
   "metadata": {},
   "source": [
    "We can just replace the field with Boolean values now."
   ]
  },
  {
   "cell_type": "code",
   "execution_count": null,
   "metadata": {
    "collapsed": true
   },
   "outputs": [],
   "source": [
    "Male, Female = False, True"
   ]
  },
  {
   "cell_type": "code",
   "execution_count": null,
   "metadata": {
    "collapsed": true
   },
   "outputs": [],
   "source": [
    "df.Køn = df.Køn.apply(lambda s: Male if s==\"M\" else Female)"
   ]
  },
  {
   "cell_type": "markdown",
   "metadata": {},
   "source": [
    "# Check løbenr"
   ]
  },
  {
   "cell_type": "markdown",
   "metadata": {},
   "source": [
    "There is one guy with \",50000\", lets remove him.  Løbenr seems to be \"something,subnumber\" and sometimes only the first something. But with only subnumber, what can be done?"
   ]
  },
  {
   "cell_type": "code",
   "execution_count": null,
   "metadata": {
    "collapsed": true
   },
   "outputs": [],
   "source": [
    "re.search(r\"\\d*,\\d*[1-9]\\d*\", \"12341234,00000\")"
   ]
  },
  {
   "cell_type": "code",
   "execution_count": null,
   "metadata": {
    "collapsed": true
   },
   "outputs": [],
   "source": [
    "print(\"Before dropping annoying løbenr:\", len(df))\n",
    "df.drop(df[df.Løbenr.str.match(r\"\\d*,\\d*[1-9]\\d*\")].index, inplace=True)\n",
    "print(\"After:\", len(df))"
   ]
  },
  {
   "cell_type": "markdown",
   "metadata": {},
   "source": [
    "Then we can make it int..."
   ]
  },
  {
   "cell_type": "code",
   "execution_count": null,
   "metadata": {
    "collapsed": true
   },
   "outputs": [],
   "source": [
    "df.Løbenr = df.Løbenr.apply(lambda s: s.split(\",\")[0] if \",\" in s else s).astype(int)"
   ]
  },
  {
   "cell_type": "markdown",
   "metadata": {},
   "source": [
    "# Checkpoint!"
   ]
  },
  {
   "cell_type": "code",
   "execution_count": null,
   "metadata": {
    "collapsed": true
   },
   "outputs": [],
   "source": [
    "pandas.to_pickle(df, \"dataframe.pickled\")"
   ]
  },
  {
   "cell_type": "code",
   "execution_count": null,
   "metadata": {
    "collapsed": true
   },
   "outputs": [],
   "source": [
    "#df = pandas.read_pickle(\"tmp.pickled\")"
   ]
  }
 ],
 "metadata": {
  "kernelspec": {
   "display_name": "Python 3",
   "language": "python",
   "name": "python3"
  },
  "language_info": {
   "codemirror_mode": {
    "name": "ipython",
    "version": 3
   },
   "file_extension": ".py",
   "mimetype": "text/x-python",
   "name": "python",
   "nbconvert_exporter": "python",
   "pygments_lexer": "ipython3",
   "version": "3.6.2"
  }
 },
 "nbformat": 4,
 "nbformat_minor": 2
}
