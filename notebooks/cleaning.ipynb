{
 "cells": [
  {
   "cell_type": "code",
   "execution_count": null,
   "metadata": {
    "collapsed": true
   },
   "outputs": [],
   "source": [
    "import pathlib\n",
    "import re\n",
    "import collections\n",
    "import difflib\n",
    "import csv\n",
    "import pandas\n",
    "import utils"
   ]
  },
  {
   "cell_type": "markdown",
   "metadata": {},
   "source": [
    "# Prep for pandas"
   ]
  },
  {
   "cell_type": "markdown",
   "metadata": {},
   "source": [
    "Headers seem to be one of:\n",
    "\n",
    "    'Amt|Herred|Sogn|aarfra|navn|køn|Fødested|Fødeaar|Civilstand|Position|Erhverv|kipnr|løbenr',\n",
    "    'Amt|Herred|Sogn|aarfra|navn|køn|Fødested|Fødeaar|Civilstand|Stilling_i_husstanden|Erhverv|kipnr|løbenr',\n",
    "    'Amt|Herred|Sogn|navn|køn|Fødested|Fødeaar|Civilstand|Position|Erhverv|husstnr|kipnr|løbenr',\n",
    "    'Amt|Herred|Sogn|navn|køn|Fødested|Fødeaar|Civilstand|Position|Erhverv|kipnr|løbenr',\n",
    "    'Amt|Herred|Sogn|navn|køn|Fødested|Fødeaar|Civilstand|stilling_i_husstanden|Erhverv|husstnr|kipnr|løbenr'"
   ]
  },
  {
   "cell_type": "markdown",
   "metadata": {},
   "source": [
    "Read all the files, normalize columns and dump into complete.csv with years marked (for pandas).\n",
    "**DONE**"
   ]
  },
  {
   "cell_type": "code",
   "execution_count": null,
   "metadata": {
    "collapsed": true,
    "scrolled": true
   },
   "outputs": [],
   "source": [
    "with (utils.datadir / \"clean\" / \"complete.csv\").open(\"w\", encoding=\"utf-8\") as fout, \\\n",
    "     (utils.datadir / \"clean\" / \"problematic.csv\").open(\"w\", encoding=\"utf-8\") as pout:\n",
    "    writer = csv.writer(fout, delimiter=\"|\", lineterminator=\"\\n\")\n",
    "    bad = csv.writer(pout, delimiter=\"|\", lineterminator=\"\\n\")\n",
    "    header = \"FT|Amt|Herred|Sogn|Navn|Køn|Fødested|Fødeår|Civilstand|Position|Erhverv|Kipnr|Løbenr\".split(\"|\")\n",
    "    writer.writerow(header)\n",
    "    bad.writerow(header)\n",
    "    for fn in sorted((utils.datadir / \"raw\").glob(\"UTF8_*.csv\")):\n",
    "        seen = {}\n",
    "        dupes = 0\n",
    "        year = utils.extractYear(str(fn))\n",
    "        print(fn, year)\n",
    "        with fn.open(\"r\", encoding=\"utf-8\") as fd:\n",
    "            for line in fd:\n",
    "                line = line.strip()\n",
    "                split = line.split(\"|\")\n",
    "                \n",
    "                # detect new header inside file\n",
    "                if split[0] == \"Amt\" or split[-1] == \"løbenr\":\n",
    "                    #print(line)\n",
    "                    prevHeader = line\n",
    "                    continue\n",
    "                \n",
    "                # delete any useless columns\n",
    "                if prevHeader ==   'Amt|Herred|Sogn|aarfra|navn|køn|Fødested|Fødeaar|Civilstand|Position|Erhverv|kipnr|løbenr':\n",
    "                    del(split[3])\n",
    "                elif prevHeader == 'Amt|Herred|Sogn|aarfra|navn|køn|Fødested|Fødeaar|Civilstand|Stilling_i_husstanden|Erhverv|kipnr|løbenr':\n",
    "                    del(split[3])\n",
    "                    # stilling ~ position\n",
    "                elif prevHeader == 'Amt|Herred|Sogn|navn|køn|Fødested|Fødeaar|Civilstand|Position|Erhverv|husstnr|kipnr|løbenr':\n",
    "                    del(split[10]) # husstnr only appears seldomly, cannot be that useful\n",
    "                elif prevHeader == 'Amt|Herred|Sogn|navn|køn|Fødested|Fødeaar|Civilstand|Position|Erhverv|kipnr|løbenr':\n",
    "                    ... # ideal\n",
    "                elif prevHeader == 'Amt|Herred|Sogn|navn|køn|Fødested|Fødeaar|Civilstand|stilling_i_husstanden|Erhverv|husstnr|kipnr|løbenr':\n",
    "                    del(split[10]) # husstnr only appears seldomly, cannot be that useful\n",
    "                    # stilling ~ position\n",
    "                else:\n",
    "                    print(\"Unknown header!\")\n",
    "                    print(prevHeader)\n",
    "                    break\n",
    "                split.insert(0, year)\n",
    "                \n",
    "                key = tuple(split[-2:]) # (løb, kip)\n",
    "                if key in seen:\n",
    "                    if seen[key] != split:\n",
    "                        bad.writerow(seen[key])\n",
    "                        bad.writerow(split)\n",
    "                    dupes += 1\n",
    "                    continue\n",
    "                seen[key] = split\n",
    "                writer.writerow(split)\n",
    "        print(dupes, \"duplicate lines\")\n",
    "        del(seen)"
   ]
  },
  {
   "cell_type": "markdown",
   "metadata": {},
   "source": [
    "# Initial\n",
    "## Read stuff"
   ]
  },
  {
   "cell_type": "code",
   "execution_count": null,
   "metadata": {},
   "outputs": [],
   "source": [
    "df = pandas.read_csv(str(utils.datadir / \"clean\"/ \"complete.csv\"),\n",
    "                     delimiter=\"|\",\n",
    "                     low_memory=False,\n",
    "                     converters={\n",
    "                         \"FT\": int,\n",
    "                         \"Navn\": str,\n",
    "                         \"Fødeår\": str # some are \"\", will be removed later\n",
    "                     })"
   ]
  },
  {
   "cell_type": "markdown",
   "metadata": {},
   "source": [
    "## Discard bad rows"
   ]
  },
  {
   "cell_type": "markdown",
   "metadata": {},
   "source": [
    "### Fødeår\n",
    "Empty fødeår is not useful..."
   ]
  },
  {
   "cell_type": "code",
   "execution_count": null,
   "metadata": {},
   "outputs": [],
   "source": [
    "print(\"Before dropping Fødeår==\\\"\\\":\", len(df))\n",
    "df.drop(df[df.Fødeår==\"\"].index, inplace=True)\n",
    "print(\"After:\", len(df))\n",
    "df.Fødeår = pandas.to_numeric(df.Fødeår)"
   ]
  },
  {
   "cell_type": "markdown",
   "metadata": {},
   "source": [
    "People weren't that old back then, so discard anyone who seems to be >100.  Or negative numbers obviously."
   ]
  },
  {
   "cell_type": "code",
   "execution_count": null,
   "metadata": {
    "collapsed": true
   },
   "outputs": [],
   "source": [
    "ages = df.FT - df.Fødeår"
   ]
  },
  {
   "cell_type": "code",
   "execution_count": null,
   "metadata": {
    "collapsed": true
   },
   "outputs": [],
   "source": [
    "print(\"Before dropping age > 100:\", len(df))\n",
    "df.drop(df[ages>100].index, inplace=True)\n",
    "print(\"After:\", len(df))\n",
    "print(\"Before dropping age < 0:\", len(df))\n",
    "df.drop(df[ages<0].index, inplace=True)\n",
    "print(\"After:\", len(df))"
   ]
  },
  {
   "cell_type": "code",
   "execution_count": null,
   "metadata": {
    "collapsed": true
   },
   "outputs": [],
   "source": [
    "del(ages)"
   ]
  },
  {
   "cell_type": "markdown",
   "metadata": {},
   "source": [
    "### Navn"
   ]
  },
  {
   "cell_type": "code",
   "execution_count": null,
   "metadata": {
    "collapsed": true
   },
   "outputs": [],
   "source": [
    "print(\"Before dropping empty names with no letters:\", len(df))\n",
    "df.drop(df[df.Navn.str.match(r\"^[^a-zæøå]*$\", case=False)].index, inplace=True)\n",
    "print(\"After:\", len(df))"
   ]
  },
  {
   "cell_type": "markdown",
   "metadata": {},
   "source": [
    "Get rid of children without names."
   ]
  },
  {
   "cell_type": "code",
   "execution_count": null,
   "metadata": {
    "collapsed": true
   },
   "outputs": [],
   "source": [
    "def isProbablyChild(s):\n",
    "    s = s.lower()\n",
    "    return \"barn\" in s and (\"navn\" in s or\n",
    "                           \"døbt\" in s or\n",
    "                           \"dreng\" in s or\n",
    "                           \"pige\" in s or\n",
    "                           \"nyfødt\" in s)"
   ]
  },
  {
   "cell_type": "code",
   "execution_count": null,
   "metadata": {
    "collapsed": true
   },
   "outputs": [],
   "source": [
    "maybe_children = df[df.Navn.map(isProbablyChild).astype(bool, copy=False)]"
   ]
  },
  {
   "cell_type": "markdown",
   "metadata": {},
   "source": [
    "**TODO**: extract names where possible; some are like `Dorthea Kirstine Hansen (Udøbt Pigebarn)` or `1 udøbt drengebarn [Iflg.KB.28/1-1845: Carl Christian Sørensen]` where there is actually a name even though they claim not to have one."
   ]
  },
  {
   "cell_type": "code",
   "execution_count": null,
   "metadata": {
    "collapsed": true
   },
   "outputs": [],
   "source": [
    "maybe_children.Navn.value_counts()"
   ]
  },
  {
   "cell_type": "code",
   "execution_count": null,
   "metadata": {
    "collapsed": true,
    "scrolled": true
   },
   "outputs": [],
   "source": [
    "print(\"Before dropping unchristened children:\", len(df))\n",
    "df.drop(maybe_children.index, inplace=True)\n",
    "print(\"After:\", len(df))\n",
    "del(maybe_children)"
   ]
  },
  {
   "cell_type": "markdown",
   "metadata": {},
   "source": [
    "Look at remaining rows containing \"barn\":"
   ]
  },
  {
   "cell_type": "code",
   "execution_count": null,
   "metadata": {
    "collapsed": true
   },
   "outputs": [],
   "source": [
    "maybe_children = df[df.Navn.str.contains(\"barn\", case=False)]"
   ]
  },
  {
   "cell_type": "code",
   "execution_count": null,
   "metadata": {
    "collapsed": true
   },
   "outputs": [],
   "source": [
    "maybe_children.Navn.value_counts()"
   ]
  },
  {
   "cell_type": "markdown",
   "metadata": {},
   "source": [
    "## Køn\n",
    "Look for \"K\" or \"M\" primarily.  Anything not seemingly gender related will be discarded for now..."
   ]
  },
  {
   "cell_type": "code",
   "execution_count": null,
   "metadata": {
    "collapsed": true
   },
   "outputs": [],
   "source": [
    "def guessGender(s):\n",
    "    s = s.lower()\n",
    "    if \"k\" in s or \"f\" in s:\n",
    "        return \"K\"\n",
    "    if \"m\" in s:\n",
    "        return \"M\"\n",
    "    return \"?\""
   ]
  },
  {
   "cell_type": "code",
   "execution_count": null,
   "metadata": {
    "collapsed": true
   },
   "outputs": [],
   "source": [
    "df.Køn = df.Køn.astype(str).apply(guessGender)"
   ]
  },
  {
   "cell_type": "code",
   "execution_count": null,
   "metadata": {
    "collapsed": true
   },
   "outputs": [],
   "source": [
    "df.Køn.value_counts()"
   ]
  },
  {
   "cell_type": "code",
   "execution_count": null,
   "metadata": {
    "collapsed": true
   },
   "outputs": [],
   "source": [
    "print(\"Before dropping rows lacking gender:\", len(df))\n",
    "df.drop(df[df.Køn==\"?\"].index, inplace=True)\n",
    "print(\"After:\", len(df))"
   ]
  },
  {
   "cell_type": "markdown",
   "metadata": {},
   "source": [
    "We can just replace the field with Boolean values now."
   ]
  },
  {
   "cell_type": "code",
   "execution_count": null,
   "metadata": {
    "collapsed": true
   },
   "outputs": [],
   "source": [
    "Male, Female = False, True"
   ]
  },
  {
   "cell_type": "code",
   "execution_count": null,
   "metadata": {
    "collapsed": true
   },
   "outputs": [],
   "source": [
    "df.Køn = df.Køn.apply(lambda s: Male if s==\"M\" else Female)"
   ]
  },
  {
   "cell_type": "markdown",
   "metadata": {},
   "source": [
    "# Check løbenr"
   ]
  },
  {
   "cell_type": "markdown",
   "metadata": {},
   "source": [
    "There is one guy with \",50000\", lets remove him.  Løbenr seems to be \"something,subnumber\" and sometimes only the first something. But with only subnumber, what can be done?"
   ]
  },
  {
   "cell_type": "code",
   "execution_count": null,
   "metadata": {
    "collapsed": true
   },
   "outputs": [],
   "source": [
    "print(\"Before dropping invalid løbenr:\", len(df))\n",
    "df.drop(df[df.Løbenr.str.startswith(\",\")].index, inplace=True)\n",
    "print(\"After:\", len(df))"
   ]
  },
  {
   "cell_type": "markdown",
   "metadata": {
    "collapsed": true
   },
   "source": [
    "def toNumbers(s):\n",
    "    return tuple(int(part) for part in s.split(\",\"))"
   ]
  },
  {
   "cell_type": "markdown",
   "metadata": {
    "collapsed": true
   },
   "source": [
    "for year, group in df.groupby(\"FT\"):\n",
    "    print(year, len(group))\n",
    "    continue\n",
    "    prev = None\n",
    "    for row in group.itertuples():\n",
    "        curr = (row.Kipnr, toNumbers(row.Løbenr))\n",
    "        if prev is not None:\n",
    "            if curr[0] == prev[0] and curr[1] < prev[1]:\n",
    "                print(\"Uh oh...\")\n",
    "                print(prev)\n",
    "                print(row)\n",
    "                break\n",
    "        prev = curr"
   ]
  },
  {
   "cell_type": "markdown",
   "metadata": {},
   "source": [
    "# Drop dårlige fødesteder"
   ]
  },
  {
   "cell_type": "code",
   "execution_count": null,
   "metadata": {
    "collapsed": true
   },
   "outputs": [],
   "source": [
    "df.drop(df[df.Fødested.apply(lambda x: isinstance(x, float))].index, inplace=True)"
   ]
  },
  {
   "cell_type": "markdown",
   "metadata": {},
   "source": [
    "# Checkpoint!"
   ]
  },
  {
   "cell_type": "code",
   "execution_count": null,
   "metadata": {
    "collapsed": true
   },
   "outputs": [],
   "source": [
    "pandas.to_pickle(df, \"tmp.pickled\")"
   ]
  },
  {
   "cell_type": "code",
   "execution_count": null,
   "metadata": {
    "collapsed": true
   },
   "outputs": [],
   "source": [
    "df = pandas.read_pickle(\"tmp.pickled\")"
   ]
  },
  {
   "cell_type": "code",
   "execution_count": null,
   "metadata": {
    "collapsed": true
   },
   "outputs": [],
   "source": [
    "g = df[df.Køn].Navn.value_counts()"
   ]
  },
  {
   "cell_type": "code",
   "execution_count": null,
   "metadata": {
    "collapsed": true
   },
   "outputs": [],
   "source": [
    "d = g.to_dict()"
   ]
  },
  {
   "cell_type": "code",
   "execution_count": null,
   "metadata": {
    "collapsed": true
   },
   "outputs": [],
   "source": [
    "names = set()\n",
    "for t in df.itertuples():\n",
    "    names.add(t.Navn.split()[0])"
   ]
  },
  {
   "cell_type": "code",
   "execution_count": null,
   "metadata": {
    "collapsed": true
   },
   "outputs": [],
   "source": [
    "names"
   ]
  },
  {
   "cell_type": "markdown",
   "metadata": {},
   "source": [
    "**Anything below is old**"
   ]
  },
  {
   "cell_type": "markdown",
   "metadata": {},
   "source": [
    "# Uhhh, lowercase for realsies"
   ]
  },
  {
   "cell_type": "code",
   "execution_count": null,
   "metadata": {
    "collapsed": true
   },
   "outputs": [],
   "source": [
    "with AllEntries() as dataSet:\n",
    "    for fn, year, entries in dataSet.getEntries():\n",
    "        print(year)\n",
    "        lines = [commonHeader + \"\\n\"]\n",
    "        for entry in entries:\n",
    "            lines.append(entry.toRow().lower() + \"\\n\")\n",
    "        with fn.open(\"w\", encoding=\"UTF-8\") as fd:\n",
    "            fd.writelines(lines)"
   ]
  },
  {
   "cell_type": "code",
   "execution_count": null,
   "metadata": {
    "collapsed": true
   },
   "outputs": [],
   "source": [
    "lines = []\n",
    "with (datadir / \"gps-coords.csv\").open(\"r\", encoding=\"utf-8\") as fd:\n",
    "    header = next(fd)\n",
    "    for line in fd:\n",
    "        split = line.split(\"|\")\n",
    "        split[0] = split[0].lower().strip()\n",
    "        lines.append(\"|\".join(split))\n",
    "lines.sort()\n",
    "lines.insert(0, header)\n",
    "with (datadir / \"gps-coords.csv\").open(\"w\", encoding=\"utf-8\") as fd:\n",
    "    fd.writelines(lines)"
   ]
  },
  {
   "cell_type": "markdown",
   "metadata": {},
   "source": [
    "# Fix the birthplace field"
   ]
  },
  {
   "cell_type": "markdown",
   "metadata": {},
   "source": [
    "## Part one: replace \"i sognet\""
   ]
  },
  {
   "cell_type": "code",
   "execution_count": null,
   "metadata": {
    "collapsed": true
   },
   "outputs": [],
   "source": [
    "with AllEntries() as dataSet:\n",
    "    for fn, year, entries in dataSet.getEntries():\n",
    "        print(year)\n",
    "        lines = [commonHeader + \"\\n\"]\n",
    "        for entry in entries:\n",
    "            # prøv at fikse fødesteder\n",
    "            if \"her i sognet\" in entry.fødested or \\\n",
    "               \"heri sognet\" in entry.fødested or \\\n",
    "                entry.fødested.replace(\".\", \"\") in (\"i sognet\", \"her i s\"):        \n",
    "                # det kan være, der står noget om placering i parentes; brug det\n",
    "                match1 = re.search(r\"(her ?)?i sognet (\\{|\\[|\\()(?P<place>.*?)(\\]|\\)|\\})\", entry.fødested)\n",
    "                # det kan også være, der står noget efter et komma\n",
    "                match2 = re.search(r\"(her ?)? i sognet, (<P<place>.*)\", entry.fødested)\n",
    "                if match1:\n",
    "                    new = match1.group(\"place\")\n",
    "                elif match2:\n",
    "                    new = match2.group(\"place\")\n",
    "                else:\n",
    "                    new = entry.sogn\n",
    "                entry = entry._replace(fødested=new)\n",
    "            lines.append(entry.toRow() + \"\\n\")\n",
    "        with fn.open(\"w\", encoding=\"UTF-8\") as fd:\n",
    "            fd.writelines(lines)"
   ]
  },
  {
   "cell_type": "code",
   "execution_count": null,
   "metadata": {
    "collapsed": true
   },
   "outputs": [],
   "source": [
    "re.search(r\"(her ?)?i sognet (\\[|\\()(?P<place>.*?)(\\]|\\))\", \"her i sognet [tommerup)\").group(\"place\")"
   ]
  },
  {
   "cell_type": "code",
   "execution_count": null,
   "metadata": {
    "collapsed": true
   },
   "outputs": [],
   "source": [
    "# for 1845 som eksempel\n",
    "sorted((a,b) for (a,b) in changes if a not in (\"her i sognet\", \"heri sognet\", \"i sognet\"))"
   ]
  },
  {
   "cell_type": "markdown",
   "metadata": {},
   "source": [
    "## Part two: more of the same"
   ]
  },
  {
   "cell_type": "markdown",
   "metadata": {},
   "source": [
    "Let's see what's missing; the GPS lookup efforts showed a lot of crud.\n",
    "\n",
    "**TODO**"
   ]
  },
  {
   "cell_type": "markdown",
   "metadata": {},
   "source": [
    "Change all the simple \"dito\", \"ditto\", \"do\", \"do.\" etc. to the previous birthplace..."
   ]
  },
  {
   "cell_type": "code",
   "execution_count": null,
   "metadata": {
    "collapsed": true
   },
   "outputs": [],
   "source": [
    "with AllEntries() as dataSet:\n",
    "    for fn, year, entries in dataSet.getEntries():\n",
    "        print(year)\n",
    "        lines = [commonHeader + \"\\n\"]\n",
    "        prev = None\n",
    "        for entry in entries:\n",
    "            place = entry.fødested.replace(\".\", \"\")\n",
    "            if place in (\"do\", \"dito\", \"ditto\"):\n",
    "                entry = entry._replace(fødested=prev)\n",
    "            prev = entry.fødested\n",
    "            lines.append(entry.toRow() + \"\\n\")\n",
    "        with fn.open(\"w\", encoding=\"UTF-8\") as fd:\n",
    "            fd.writelines(lines)"
   ]
  },
  {
   "cell_type": "code",
   "execution_count": null,
   "metadata": {
    "collapsed": true
   },
   "outputs": [],
   "source": [
    "_remove_first = str.maketrans({\n",
    "    c: \"\" for c in \",.-:?/!\"\n",
    "})\n",
    "_remove_last = str.maketrans({\n",
    "    c: \"\" for c in \"[]{}()\"\n",
    "})"
   ]
  },
  {
   "cell_type": "code",
   "execution_count": null,
   "metadata": {
    "collapsed": true
   },
   "outputs": [],
   "source": [
    "def extractPlace(name):\n",
    "    stripped = name.translate(_remove_first)\n",
    "    match = re.match(r\"di?t?t?o(\\(|\\[)(.*)(\\)|\\])\", stripped.replace(\" \", \"\"))\n",
    "    if match:\n",
    "        return match.group(2).translate(_remove_last).strip()\n",
    "    else:\n",
    "        return stripped.translate(_remove_last).strip()"
   ]
  },
  {
   "cell_type": "code",
   "execution_count": null,
   "metadata": {
    "collapsed": true
   },
   "outputs": [],
   "source": [
    "places = collections.Counter()\n",
    "with AllEntries() as dataSet:\n",
    "    for fn, year, entries in dataSet.getEntries():\n",
    "        print(year)\n",
    "        tmp = []\n",
    "        for entry in entries:\n",
    "            tmp.append(extractPlace(entry.fødested))\n",
    "        places.update(tmp)\n",
    "        del(tmp)"
   ]
  },
  {
   "cell_type": "code",
   "execution_count": null,
   "metadata": {
    "collapsed": true
   },
   "outputs": [],
   "source": [
    "places.most_common()"
   ]
  },
  {
   "cell_type": "code",
   "execution_count": null,
   "metadata": {
    "collapsed": true
   },
   "outputs": [],
   "source": [
    "differ = difflib.SequenceMatcher()"
   ]
  },
  {
   "cell_type": "code",
   "execution_count": null,
   "metadata": {
    "collapsed": true
   },
   "outputs": [],
   "source": [
    "differ.set_seq1(\"københavn\")"
   ]
  },
  {
   "cell_type": "code",
   "execution_count": null,
   "metadata": {
    "collapsed": true
   },
   "outputs": [],
   "source": [
    "extractPlace(\"do. [rønne]\")"
   ]
  },
  {
   "cell_type": "code",
   "execution_count": null,
   "metadata": {
    "collapsed": true
   },
   "outputs": [],
   "source": [
    "extractPlace(\"dito [kjøbenhavn]\")"
   ]
  },
  {
   "cell_type": "code",
   "execution_count": null,
   "metadata": {
    "collapsed": true
   },
   "outputs": [],
   "source": [
    "extractPlace(\"kjøbenha[vn] !!\")"
   ]
  },
  {
   "cell_type": "code",
   "execution_count": null,
   "metadata": {
    "collapsed": true
   },
   "outputs": [],
   "source": [
    "copenhagen_names = set()\n",
    "for place, freq in places.most_common():\n",
    "    differ.set_seq2(place)\n",
    "    if differ.ratio() > 0.8:\n",
    "        print(place, freq)\n",
    "        copenhagen_names.add(place)"
   ]
  },
  {
   "cell_type": "code",
   "execution_count": null,
   "metadata": {
    "collapsed": true
   },
   "outputs": [],
   "source": [
    "len(places)"
   ]
  },
  {
   "cell_type": "code",
   "execution_count": null,
   "metadata": {
    "collapsed": true
   },
   "outputs": [],
   "source": [
    "with AllEntries() as dataSet:\n",
    "    for fn, year, entries in dataSet.getEntries():\n",
    "        print(year)\n",
    "        lines = [commonHeader + \"\\n\"]\n",
    "        prev = None\n",
    "        for entry in entries:\n",
    "            if extractPlace(entry.fødested) in copenhagen_names:\n",
    "                entry = entry._replace(fødested=\"københavn\")\n",
    "            lines.append(entry.toRow() + \"\\n\")\n",
    "        with fn.open(\"w\", encoding=\"UTF-8\") as fd:\n",
    "            fd.writelines(lines)"
   ]
  },
  {
   "cell_type": "markdown",
   "metadata": {
    "collapsed": true
   },
   "source": [
    "# Hmm"
   ]
  },
  {
   "cell_type": "code",
   "execution_count": null,
   "metadata": {
    "collapsed": true
   },
   "outputs": [],
   "source": [
    "import sklearn.cluster"
   ]
  },
  {
   "cell_type": "code",
   "execution_count": null,
   "metadata": {
    "collapsed": true
   },
   "outputs": [],
   "source": [
    "sklearn.cluster.AgglomerativeClustering()"
   ]
  },
  {
   "cell_type": "code",
   "execution_count": null,
   "metadata": {
    "collapsed": true
   },
   "outputs": [],
   "source": [
    "places = set(s.split(\" \")[0] for s in df[df)"
   ]
  },
  {
   "cell_type": "code",
   "execution_count": null,
   "metadata": {
    "collapsed": true
   },
   "outputs": [],
   "source": [
    "len(names)"
   ]
  },
  {
   "cell_type": "code",
   "execution_count": null,
   "metadata": {
    "collapsed": true
   },
   "outputs": [],
   "source": [
    "names"
   ]
  }
 ],
 "metadata": {
  "kernelspec": {
   "display_name": "Python 3",
   "language": "python",
   "name": "python3"
  },
  "language_info": {
   "codemirror_mode": {
    "name": "ipython",
    "version": 3
   },
   "file_extension": ".py",
   "mimetype": "text/x-python",
   "name": "python",
   "nbconvert_exporter": "python",
   "pygments_lexer": "ipython3",
   "version": "3.6.2"
  }
 },
 "nbformat": 4,
 "nbformat_minor": 2
}
