{
 "cells": [
  {
   "cell_type": "code",
   "execution_count": null,
   "metadata": {
    "collapsed": true
   },
   "outputs": [],
   "source": [
    "import random\n",
    "import tensorflow as tf\n",
    "import numpy as np\n",
    "import re\n",
    "import pandas as pd\n",
    "import utils\n",
    "import editdistance\n",
    "import csv\n",
    "import multiprocessing"
   ]
  },
  {
   "cell_type": "markdown",
   "metadata": {},
   "source": [
    "# Define scoring"
   ]
  },
  {
   "cell_type": "code",
   "execution_count": null,
   "metadata": {
    "collapsed": true
   },
   "outputs": [],
   "source": [
    "def ss(a: str, b: str):\n",
    "    \"\"\"Similarity score for two strings a and b\"\"\"\n",
    "    if pd.isnull(a) or pd.isnull(b):\n",
    "        return 0\n",
    "    if a==b:\n",
    "        return 1.0\n",
    "    return editdistance.eval(a, b) / max(len(a), len(b))"
   ]
  },
  {
   "cell_type": "markdown",
   "metadata": {},
   "source": [
    "Names which will be used in training dataframe:"
   ]
  },
  {
   "cell_type": "code",
   "execution_count": null,
   "metadata": {
    "collapsed": true
   },
   "outputs": [],
   "source": [
    "score_columns=\"r_name r_birthp r_civil r_pos r_job m_gender d_birthy\".split(\" \")"
   ]
  },
  {
   "cell_type": "code",
   "execution_count": null,
   "metadata": {
    "collapsed": true
   },
   "outputs": [],
   "source": [
    "def score(a, b):\n",
    "    return (ss(a.Navn, b.Navn),\n",
    "            ss(a.Fødested, b.Fødested),\n",
    "            ss(a.Civilstand, b.Civilstand),\n",
    "            ss(a.Position, b.Position),\n",
    "            ss(a.Erhverv, b.Erhverv),\n",
    "            1.0 if a.Køn == b.Køn else 0.0,\n",
    "            abs(a.Fødeår - b.Fødeår))"
   ]
  },
  {
   "cell_type": "markdown",
   "metadata": {},
   "source": [
    "# Get some training data"
   ]
  },
  {
   "cell_type": "code",
   "execution_count": null,
   "metadata": {
    "collapsed": true,
    "scrolled": true
   },
   "outputs": [],
   "source": [
    "matches = pd.read_csv(str(utils.datadir / \"links\" / \"matches.csv\"), sep=\"|\")"
   ]
  },
  {
   "cell_type": "code",
   "execution_count": null,
   "metadata": {
    "collapsed": true
   },
   "outputs": [],
   "source": [
    "matches"
   ]
  },
  {
   "cell_type": "code",
   "execution_count": null,
   "metadata": {},
   "outputs": [],
   "source": [
    "df = pd.read_pickle(\"dataframe.pickled\")"
   ]
  },
  {
   "cell_type": "code",
   "execution_count": null,
   "metadata": {},
   "outputs": [],
   "source": [
    "df.dropna(subset=(\"Fødeår\",), inplace=True)"
   ]
  },
  {
   "cell_type": "code",
   "execution_count": null,
   "metadata": {
    "collapsed": true
   },
   "outputs": [],
   "source": [
    "df.set_index([\"FT\", \"Kipnr\", \"Løbenr\"], inplace=True)"
   ]
  },
  {
   "cell_type": "code",
   "execution_count": null,
   "metadata": {
    "collapsed": true
   },
   "outputs": [],
   "source": [
    "df.sort_index(inplace=True)"
   ]
  },
  {
   "cell_type": "markdown",
   "metadata": {},
   "source": [
    "Getting raw data for all matches:"
   ]
  },
  {
   "cell_type": "code",
   "execution_count": null,
   "metadata": {},
   "outputs": [],
   "source": [
    "def to_scored_frame(d):\n",
    "    lots = []\n",
    "    for t in d.itertuples():\n",
    "        try:\n",
    "            # TODO: optimize access\n",
    "            s = df.loc[[t[1:4], t[4:]]]\n",
    "            a = s.iloc[0]\n",
    "            b = s.iloc[1]\n",
    "        except KeyError:\n",
    "            continue\n",
    "        lots.append(score(a,b) + (True,))\n",
    "    return pd.DataFrame(lots, columns=score_columns + [\"label\"])"
   ]
  },
  {
   "cell_type": "code",
   "execution_count": null,
   "metadata": {},
   "outputs": [],
   "source": [
    "positive = utils.parallelize(matches[:10000], to_scored_frame)"
   ]
  },
  {
   "cell_type": "markdown",
   "metadata": {},
   "source": [
    "Run through some arbitrary non-matches"
   ]
  },
  {
   "cell_type": "code",
   "execution_count": null,
   "metadata": {
    "collapsed": true
   },
   "outputs": [],
   "source": [
    "import random\n",
    "import itertools"
   ]
  },
  {
   "cell_type": "code",
   "execution_count": null,
   "metadata": {
    "collapsed": true
   },
   "outputs": [],
   "source": [
    "years = [1845, 1850, 1860, 1880, 1885]"
   ]
  },
  {
   "cell_type": "code",
   "execution_count": null,
   "metadata": {
    "collapsed": true
   },
   "outputs": [],
   "source": [
    "ssize = len(positive)\n",
    "def generate_nonmatch_scores(_):\n",
    "    lots = []\n",
    "    s = df.loc[random.choice(years)].sample(ssize)\n",
    "    for i in range(ssize-1):\n",
    "        a = s.iloc[i]\n",
    "        b = s.iloc[i+1]\n",
    "        lots.append(score(a,b) + (False,))\n",
    "    return lots"
   ]
  },
  {
   "cell_type": "code",
   "execution_count": null,
   "metadata": {},
   "outputs": [],
   "source": [
    "with multiprocessing.Pool() as p:\n",
    "    res = p.map(generate_nonmatch_scores, [None for i in range(multiprocessing.cpu_count())])"
   ]
  },
  {
   "cell_type": "code",
   "execution_count": null,
   "metadata": {},
   "outputs": [],
   "source": [
    "negative = pd.DataFrame(list(itertools.chain(*res)), columns=score_columns + [\"label\"])"
   ]
  },
  {
   "cell_type": "code",
   "execution_count": null,
   "metadata": {
    "collapsed": true
   },
   "outputs": [],
   "source": [
    "del(res)"
   ]
  },
  {
   "cell_type": "code",
   "execution_count": null,
   "metadata": {
    "collapsed": true
   },
   "outputs": [],
   "source": [
    "df_train = pd.concat([positive, negative])"
   ]
  },
  {
   "cell_type": "markdown",
   "metadata": {},
   "source": [
    "# Build feature thing"
   ]
  },
  {
   "cell_type": "code",
   "execution_count": null,
   "metadata": {
    "collapsed": true
   },
   "outputs": [],
   "source": [
    "navn = tf.feature_column.numeric_column(\"r_name\")\n",
    "fødested = tf.feature_column.numeric_column(\"r_birthp\")\n",
    "civilstand = tf.feature_column.numeric_column(\"r_civil\")\n",
    "position = tf.feature_column.numeric_column(\"r_pos\")\n",
    "erhverv = tf.feature_column.numeric_column(\"r_job\")\n",
    "køn = tf.feature_column.numeric_column(\"m_gender\")\n",
    "fødeår = tf.feature_column.numeric_column(\"d_birthy\")"
   ]
  },
  {
   "cell_type": "markdown",
   "metadata": {},
   "source": [
    "# Build model"
   ]
  },
  {
   "cell_type": "code",
   "execution_count": null,
   "metadata": {},
   "outputs": [],
   "source": [
    "model = tf.estimator.LinearClassifier(feature_columns=[\n",
    "    navn, fødested, civilstand, position, erhverv, køn, fødeår\n",
    "], model_dir=\"model\")"
   ]
  },
  {
   "cell_type": "code",
   "execution_count": null,
   "metadata": {
    "collapsed": true
   },
   "outputs": [],
   "source": [
    "input_fn_train = tf.estimator.inputs.pandas_input_fn(\n",
    "    x=df_train,\n",
    "    y=df_train.label,\n",
    "    shuffle=True)"
   ]
  },
  {
   "cell_type": "code",
   "execution_count": null,
   "metadata": {},
   "outputs": [],
   "source": [
    "model.train(input_fn=input_fn_train, steps=100)"
   ]
  },
  {
   "cell_type": "code",
   "execution_count": null,
   "metadata": {},
   "outputs": [],
   "source": [
    "model.evaluate(input_fn=input_fn_train)"
   ]
  },
  {
   "cell_type": "markdown",
   "metadata": {},
   "source": [
    "# Or other model"
   ]
  },
  {
   "cell_type": "code",
   "execution_count": null,
   "metadata": {},
   "outputs": [],
   "source": [
    "model2 = tf.estimator.DNNClassifier(feature_columns=[\n",
    "    navn, fødested, civilstand, position, erhverv, køn, fødeår\n",
    "], model_dir=\"model2\", hidden_units=[7,5,3])"
   ]
  },
  {
   "cell_type": "code",
   "execution_count": null,
   "metadata": {},
   "outputs": [],
   "source": [
    "model2.train(input_fn_train)"
   ]
  },
  {
   "cell_type": "code",
   "execution_count": null,
   "metadata": {},
   "outputs": [],
   "source": [
    "model2.evaluate(input_fn_train)"
   ]
  }
 ],
 "metadata": {
  "kernelspec": {
   "display_name": "Python 3",
   "language": "python",
   "name": "python3"
  },
  "language_info": {
   "codemirror_mode": {
    "name": "ipython",
    "version": 3
   },
   "file_extension": ".py",
   "mimetype": "text/x-python",
   "name": "python",
   "nbconvert_exporter": "python",
   "pygments_lexer": "ipython3",
   "version": "3.6.2"
  }
 },
 "nbformat": 4,
 "nbformat_minor": 2
}
