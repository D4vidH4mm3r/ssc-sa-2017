{
 "cells": [
  {
   "cell_type": "code",
   "execution_count": null,
   "metadata": {
    "collapsed": true
   },
   "outputs": [],
   "source": [
    "import random\n",
    "import tensorflow as tf\n",
    "import numpy as np\n",
    "import re\n",
    "import pandas as pd\n",
    "import utils\n",
    "import editdistance"
   ]
  },
  {
   "cell_type": "markdown",
   "metadata": {},
   "source": [
    "# Define scoring"
   ]
  },
  {
   "cell_type": "code",
   "execution_count": null,
   "metadata": {
    "collapsed": true
   },
   "outputs": [],
   "source": [
    "def ss(a, b):\n",
    "    if a==b:\n",
    "        return 1.0\n",
    "    return editdistance.eval(a, b) / ((len(a) + len(b))/2)"
   ]
  },
  {
   "cell_type": "code",
   "execution_count": null,
   "metadata": {
    "collapsed": true
   },
   "outputs": [],
   "source": [
    "score_columns=\"r_name r_birthp r_pos r_job c_civil m_gender d_birthy\".split(\" \")"
   ]
  },
  {
   "cell_type": "code",
   "execution_count": null,
   "metadata": {
    "collapsed": true
   },
   "outputs": [],
   "source": [
    "def score(a, b):\n",
    "    return (ss(a.Navn, b.Navn),\n",
    "            ss(a.Fødested, b.Fødested),\n",
    "            ss(a.Position, b.Position),\n",
    "            ss(a.Erhverv, b.Erhverv),\n",
    "            a.Civilstand.lower() + \"-\" + b.Civilstand.lower(),\n",
    "            1.0 if a.Køn == b.Køn else 0.0,\n",
    "            abs(a.Fødeår - b.Fødeår))"
   ]
  },
  {
   "cell_type": "markdown",
   "metadata": {},
   "source": [
    "# Get some training data"
   ]
  },
  {
   "cell_type": "code",
   "execution_count": null,
   "metadata": {
    "collapsed": true,
    "scrolled": true
   },
   "outputs": [],
   "source": [
    "matches = pd.read_csv(str(utils.datadir / \"links\" / \"matches.csv\"),\n",
    "                     sep=\"|\")"
   ]
  },
  {
   "cell_type": "code",
   "execution_count": null,
   "metadata": {
    "collapsed": true
   },
   "outputs": [],
   "source": [
    "df = pd.read_pickle(\"dataframe.pickled\")"
   ]
  },
  {
   "cell_type": "code",
   "execution_count": null,
   "metadata": {},
   "outputs": [],
   "source": [
    "df.set_index([\"FT\", \"Kipnr\", \"Løbenr\"], inplace=True)"
   ]
  },
  {
   "cell_type": "code",
   "execution_count": null,
   "metadata": {
    "collapsed": true
   },
   "outputs": [],
   "source": [
    "df.sort_index(inplace=True)"
   ]
  },
  {
   "cell_type": "code",
   "execution_count": null,
   "metadata": {
    "collapsed": true
   },
   "outputs": [],
   "source": [
    "lots = []"
   ]
  },
  {
   "cell_type": "markdown",
   "metadata": {},
   "source": [
    "Getting raw data for all matches:"
   ]
  },
  {
   "cell_type": "code",
   "execution_count": null,
   "metadata": {},
   "outputs": [],
   "source": [
    "for t in matches.itertuples():\n",
    "    try:\n",
    "        a = df.loc[(t.a_FT, t.a_Kipnr, t.a_Løbenr)].iloc[0]\n",
    "        b = df.loc[(t.b_FT, t.b_Kipnr, t.b_Løbenr)].iloc[0]\n",
    "    except KeyError:\n",
    "        print(\"Not found :(\")\n",
    "        continue\n",
    "    lots.append(score(a,b) + (True,))"
   ]
  },
  {
   "cell_type": "markdown",
   "metadata": {},
   "source": [
    "Run through some arbitrary non-matches"
   ]
  },
  {
   "cell_type": "code",
   "execution_count": null,
   "metadata": {},
   "outputs": [],
   "source": [
    "ssize = len(matches)\n",
    "s = df.loc[1845].sample(ssize)\n",
    "for i in range(ssize-1):\n",
    "    a = s.iloc[i]\n",
    "    b = s.iloc[i+1]\n",
    "    lots.append(score(a,b) + (False,))"
   ]
  },
  {
   "cell_type": "code",
   "execution_count": null,
   "metadata": {
    "collapsed": true
   },
   "outputs": [],
   "source": [
    "df_train = pd.DataFrame(lots, columns=score_columns + [\"label\"])"
   ]
  },
  {
   "cell_type": "markdown",
   "metadata": {},
   "source": [
    "# Build feature thing"
   ]
  },
  {
   "cell_type": "code",
   "execution_count": null,
   "metadata": {},
   "outputs": [],
   "source": [
    "navn = tf.feature_column.numeric_column(\"r_name\")\n",
    "fødested = tf.feature_column.numeric_column(\"r_birthp\")\n",
    "civilstand = tf.feature_column.categorical_column_with_hash_bucket(\"c_civil\", 100)\n",
    "position = tf.feature_column.numeric_column(\"r_pos\")\n",
    "erhverv = tf.feature_column.numeric_column(\"r_job\")\n",
    "køn = tf.feature_column.numeric_column(\"m_gender\")\n",
    "fødeår = tf.feature_column.numeric_column(\"d_birthy\")"
   ]
  },
  {
   "cell_type": "code",
   "execution_count": null,
   "metadata": {},
   "outputs": [],
   "source": [
    "model = tf.estimator.LinearClassifier(feature_columns=[\n",
    "    navn, fødested, civilstand, position, erhverv, køn, fødeår\n",
    "], model_dir=\"model\",)"
   ]
  },
  {
   "cell_type": "code",
   "execution_count": null,
   "metadata": {},
   "outputs": [],
   "source": [
    "input_fn = tf.estimator.inputs.pandas_input_fn(\n",
    "    x=df_train,\n",
    "    y=df_train.label,\n",
    "    shuffle=True)"
   ]
  },
  {
   "cell_type": "code",
   "execution_count": null,
   "metadata": {
    "collapsed": true
   },
   "outputs": [],
   "source": [
    "df_train"
   ]
  },
  {
   "cell_type": "code",
   "execution_count": null,
   "metadata": {},
   "outputs": [],
   "source": [
    "model.train(input_fn=input_fn)"
   ]
  },
  {
   "cell_type": "code",
   "execution_count": null,
   "metadata": {},
   "outputs": [],
   "source": [
    "results = model.evaluate(input_fn=input_fn, steps=None)"
   ]
  },
  {
   "cell_type": "code",
   "execution_count": null,
   "metadata": {},
   "outputs": [],
   "source": [
    "results"
   ]
  },
  {
   "cell_type": "code",
   "execution_count": null,
   "metadata": {
    "scrolled": true
   },
   "outputs": [],
   "source": [
    "ex = next(model.predict(input_fn=input_fn))"
   ]
  },
  {
   "cell_type": "code",
   "execution_count": null,
   "metadata": {
    "collapsed": true
   },
   "outputs": [],
   "source": [
    "input_fn = tf.estimator.inputs.pandas_input_fn(\n",
    "    x=df_train,\n",
    "    y=df_train.label,\n",
    "    shuffle=False)"
   ]
  },
  {
   "cell_type": "code",
   "execution_count": null,
   "metadata": {},
   "outputs": [],
   "source": [
    "for i, thing in enumerate(model.predict(input_fn)):\n",
    "    row = df_train.loc[i]\n",
    "    print(i, int(thing[\"classes\"][0]) == row.label)\n",
    "    #print(i, thing[\"probabilities\"], row.label)"
   ]
  }
 ],
 "metadata": {
  "kernelspec": {
   "display_name": "Python 3",
   "language": "python",
   "name": "python3"
  },
  "language_info": {
   "codemirror_mode": {
    "name": "ipython",
    "version": 3
   },
   "file_extension": ".py",
   "mimetype": "text/x-python",
   "name": "python",
   "nbconvert_exporter": "python",
   "pygments_lexer": "ipython3",
   "version": "3.6.2"
  }
 },
 "nbformat": 4,
 "nbformat_minor": 2
}
