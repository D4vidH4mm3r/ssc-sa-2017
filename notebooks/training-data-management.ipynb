{
 "cells": [
  {
   "cell_type": "markdown",
   "metadata": {},
   "source": [
    "For changing formats and wrangling training data."
   ]
  },
  {
   "cell_type": "code",
   "execution_count": null,
   "metadata": {
    "collapsed": true
   },
   "outputs": [],
   "source": [
    "import csv\n",
    "import utils"
   ]
  },
  {
   "cell_type": "code",
   "execution_count": null,
   "metadata": {
    "collapsed": true
   },
   "outputs": [],
   "source": [
    "import pathlib"
   ]
  },
  {
   "cell_type": "code",
   "execution_count": null,
   "metadata": {},
   "outputs": [],
   "source": [
    "exp_dir = pathlib.Path(\"..\")"
   ]
  },
  {
   "cell_type": "markdown",
   "metadata": {},
   "source": [
    "Turning our own matches into same format as given:"
   ]
  },
  {
   "cell_type": "code",
   "execution_count": null,
   "metadata": {},
   "outputs": [],
   "source": [
    "index = 0\n",
    "for fn in (\"matches\", \"notmatches\"):\n",
    "    with (exp_dir / (fn + \".csv\")).open(\"r\") as fin, \\\n",
    "        (utils.datadir / \"links\" / (fn + \".csv\")).open(\"w\") as fout:\n",
    "        reader = csv.reader(fin)\n",
    "        writer = csv.writer(fout, delimiter=\"|\")\n",
    "        writer.writerow([\"linkID\", \"kilde\", \"kipnr\", \"lbnr\",\n",
    "                         \"tabel\", \"navn\", \"faarb\"])\n",
    "        while True:\n",
    "            try:\n",
    "                a = next(reader)\n",
    "                b = next(reader)\n",
    "                linkID = \"a\" + str(index)\n",
    "                for row in (a,b):\n",
    "                    ft = row[1]\n",
    "                    tabel = row[2]\n",
    "                    kip = row[-2]\n",
    "                    løb = row[-1]\n",
    "                    if \",\" in løb:\n",
    "                        løb = løb.split(\",\")[0]\n",
    "                    navn = row[5]\n",
    "                    fødeår = row[8]\n",
    "                    writer.writerow([linkID, ft, kip, løb,\n",
    "                                    tabel, navn, fødeår])\n",
    "                index += 1\n",
    "            except StopIteration:\n",
    "                break"
   ]
  },
  {
   "cell_type": "markdown",
   "metadata": {},
   "source": [
    "Reading from such a file into something (being reconstructed presently)..."
   ]
  },
  {
   "cell_type": "code",
   "execution_count": null,
   "metadata": {
    "collapsed": true
   },
   "outputs": [],
   "source": [
    "relevant = set((1845, 1850, 1860, 1880, 1885))\n",
    "\n",
    "def buildLinksDict(fd):\n",
    "    reader = csv.reader(fd, delimiter=\"|\")\n",
    "    next(reader) # skip header\n",
    "    links = {year: {} for year in relevant} # year -> (kip,løb) -> linkID\n",
    "    for row in reader:\n",
    "        year = utils.extractYear(row[1])\n",
    "        if year is None:\n",
    "            continue\n",
    "        if year not in relevant:\n",
    "            continue\n",
    "        kipløb = (row[2], int(row[3]))\n",
    "        links[year][kipløb] = row[0]\n",
    "    return links"
   ]
  },
  {
   "cell_type": "code",
   "execution_count": null,
   "metadata": {
    "collapsed": true
   },
   "outputs": [],
   "source": [
    "with (utils.datadir / \"links\" / \"matches.csv\").open(\"r\") as fd:\n",
    "    d = buildLinksDict(fd)"
   ]
  }
 ],
 "metadata": {
  "kernelspec": {
   "display_name": "Python 3",
   "language": "python",
   "name": "python3"
  },
  "language_info": {
   "codemirror_mode": {
    "name": "ipython",
    "version": 3
   },
   "file_extension": ".py",
   "mimetype": "text/x-python",
   "name": "python",
   "nbconvert_exporter": "python",
   "pygments_lexer": "ipython3",
   "version": "3.6.2"
  }
 },
 "nbformat": 4,
 "nbformat_minor": 2
}
