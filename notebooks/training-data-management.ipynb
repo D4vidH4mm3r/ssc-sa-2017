{
 "cells": [
  {
   "cell_type": "markdown",
   "metadata": {},
   "source": [
    "For changing formats and wrangling training data."
   ]
  },
  {
   "cell_type": "code",
   "execution_count": null,
   "metadata": {
    "collapsed": true
   },
   "outputs": [],
   "source": [
    "import csv\n",
    "import utils\n",
    "import pathlib"
   ]
  },
  {
   "cell_type": "code",
   "execution_count": null,
   "metadata": {
    "collapsed": true
   },
   "outputs": [],
   "source": [
    "exp_dir = pathlib.Path(\"..\")"
   ]
  },
  {
   "cell_type": "markdown",
   "metadata": {},
   "source": [
    "Turning our own matches into same format as given:"
   ]
  },
  {
   "cell_type": "code",
   "execution_count": null,
   "metadata": {
    "collapsed": true
   },
   "outputs": [],
   "source": [
    "index = 0\n",
    "for fn in (\"matches\", \"notmatches\"):\n",
    "    with (exp_dir / (fn + \".csv\")).open(\"r\") as fin, \\\n",
    "        (utils.datadir / \"links\" / (fn + \".csv\")).open(\"w\") as fout:\n",
    "        reader = csv.reader(fin)\n",
    "        writer = csv.writer(fout, delimiter=\"|\")\n",
    "        writer.writerow([\"linkID\", \"kilde\", \"kipnr\", \"lbnr\",\n",
    "                         \"tabel\", \"navn\", \"faarb\"])\n",
    "        while True:\n",
    "            try:\n",
    "                a = next(reader)\n",
    "                b = next(reader)\n",
    "                linkID = \"a\" + str(index)\n",
    "                for row in (a,b):\n",
    "                    ft = row[1]\n",
    "                    tabel = row[2]\n",
    "                    kip = row[-2]\n",
    "                    løb = row[-1]\n",
    "                    if \",\" in løb:\n",
    "                        løb = løb.split(\",\")[0]\n",
    "                    navn = row[5]\n",
    "                    fødeår = row[8]\n",
    "                    writer.writerow([linkID, ft, kip, løb,\n",
    "                                    tabel, navn, fødeår])\n",
    "                index += 1\n",
    "            except StopIteration:\n",
    "                break"
   ]
  },
  {
   "cell_type": "markdown",
   "metadata": {},
   "source": [
    "Reading from such a file into something (being reconstructed presently)..."
   ]
  },
  {
   "cell_type": "markdown",
   "metadata": {},
   "source": [
    "# To practical format"
   ]
  },
  {
   "cell_type": "code",
   "execution_count": null,
   "metadata": {
    "collapsed": true
   },
   "outputs": [],
   "source": [
    "header = \"a_FT a_Kipnr a_Løbenr b_FT b_Kipnr b_Løbenr\".split()"
   ]
  },
  {
   "cell_type": "code",
   "execution_count": null,
   "metadata": {
    "collapsed": true
   },
   "outputs": [],
   "source": [
    "relevant = {1845, 1850, 1860, 1880, 1885}\n",
    "keys = {}\n",
    "with (utils.datadir / \"links\" / \"given_links.csv\").open(\"r\", encoding=\"latin1\") as fd:\n",
    "    reader = csv.reader(fd, delimiter=\"|\")\n",
    "    next(reader)\n",
    "    for row in reader:\n",
    "        ft = utils.extractYear(row[1])\n",
    "        if ft not in relevant:\n",
    "            continue\n",
    "        løbenr = int(float(row[3])) if \".\" in row[3] else int(row[3])\n",
    "        key = (ft,row[2],løbenr)\n",
    "        keys.setdefault(row[0], []).append(key)    "
   ]
  },
  {
   "cell_type": "code",
   "execution_count": null,
   "metadata": {},
   "outputs": [],
   "source": [
    "keys"
   ]
  },
  {
   "cell_type": "code",
   "execution_count": null,
   "metadata": {
    "collapsed": true
   },
   "outputs": [],
   "source": [
    "with (utils.datadir / \"links\" / \"given.csv\").open(\"w\", encoding=\"utf-8\") as fd:\n",
    "    writer = csv.writer(fd, delimiter=\"|\", lineterminator=\"\\n\")\n",
    "    writer.writerow(header)\n",
    "    for l in keys.values():\n",
    "        if len(l) < 2:\n",
    "            continue\n",
    "        l.sort()\n",
    "        for (a, b) in zip(l, l[1:]):\n",
    "            writer.writerow(a + b)"
   ]
  },
  {
   "cell_type": "code",
   "execution_count": null,
   "metadata": {
    "collapsed": true
   },
   "outputs": [],
   "source": [
    "d = csv.get_dialect(\"unix\")"
   ]
  },
  {
   "cell_type": "code",
   "execution_count": null,
   "metadata": {},
   "outputs": [],
   "source": [
    "d.lineterminator"
   ]
  },
  {
   "cell_type": "code",
   "execution_count": null,
   "metadata": {},
   "outputs": [],
   "source": [
    "keys"
   ]
  },
  {
   "cell_type": "code",
   "execution_count": null,
   "metadata": {
    "collapsed": true
   },
   "outputs": [],
   "source": [
    "\n",
    "\n",
    "def buildLinksDict(fd):\n",
    "    reader = csv.reader(fd, delimiter=\"|\")\n",
    "    next(reader) # skip header\n",
    "    links = {year: {} for year in relevant} # year -> (kip,løb) -> linkID\n",
    "    for row in reader:\n",
    "        year = utils.extractYear(row[1])\n",
    "        if year is None:\n",
    "            continue\n",
    "        if year not in relevant:\n",
    "            continue\n",
    "        kipløb = (row[2], int(row[3]))\n",
    "        links[year][kipløb] = row[0]\n",
    "    return links"
   ]
  },
  {
   "cell_type": "code",
   "execution_count": null,
   "metadata": {
    "collapsed": true
   },
   "outputs": [],
   "source": [
    "with (utils.datadir / \"links\" / \"matches.csv\").open(\"r\") as fd:\n",
    "    d = buildLinksDict(fd)"
   ]
  },
  {
   "cell_type": "code",
   "execution_count": null,
   "metadata": {},
   "outputs": [],
   "source": [
    "d"
   ]
  },
  {
   "cell_type": "code",
   "execution_count": null,
   "metadata": {
    "collapsed": true
   },
   "outputs": [],
   "source": [
    "with (utils.datadir / \"links\" / \"matches.csv\").open(\"r\") as fd:\n",
    "    reader = csv.reader(fd, delimiter=\"|\")\n",
    "    next(reader)\n",
    "    data = []\n",
    "    for row in reader:\n",
    "        for i in (0,2,3,5):\n",
    "            row[i] = int(row[i])\n",
    "            data.append(row)"
   ]
  },
  {
   "cell_type": "code",
   "execution_count": null,
   "metadata": {},
   "outputs": [],
   "source": [
    "data"
   ]
  },
  {
   "cell_type": "code",
   "execution_count": null,
   "metadata": {
    "collapsed": true
   },
   "outputs": [],
   "source": [
    "with (utils.datadir / \"links\" / \"matches.csv\").open(\"w\") as fd:\n",
    "    writer = csv.writer(fd, dialect=\"unix\")\n",
    "    writer.writerow(header)\n",
    "    writer.writerows(data)"
   ]
  }
 ],
 "metadata": {
  "kernelspec": {
   "display_name": "Python 3",
   "language": "python",
   "name": "python3"
  },
  "language_info": {
   "codemirror_mode": {
    "name": "ipython",
    "version": 3
   },
   "file_extension": ".py",
   "mimetype": "text/x-python",
   "name": "python",
   "nbconvert_exporter": "python",
   "pygments_lexer": "ipython3",
   "version": "3.6.2"
  }
 },
 "nbformat": 4,
 "nbformat_minor": 2
}
