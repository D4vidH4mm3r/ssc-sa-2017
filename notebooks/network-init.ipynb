{
 "cells": [
  {
   "cell_type": "code",
   "execution_count": null,
   "metadata": {
    "collapsed": true
   },
   "outputs": [],
   "source": [
    "import random\n",
    "import tensorflow as tf\n",
    "import numpy as np\n",
    "import re\n",
    "import pandas as pd\n",
    "import utils\n",
    "import editdistance\n",
    "import csv\n",
    "import multiprocessing"
   ]
  },
  {
   "cell_type": "markdown",
   "metadata": {},
   "source": [
    "# Define scoring"
   ]
  },
  {
   "cell_type": "code",
   "execution_count": null,
   "metadata": {
    "collapsed": true
   },
   "outputs": [],
   "source": [
    "def ss(a: str, b: str):\n",
    "    \"\"\"Dissimilarity score for two strings a and b\"\"\"\n",
    "    if pd.isnull(a) or pd.isnull(b):\n",
    "        return 1\n",
    "    a = a.lower().translate(utils.trans)\n",
    "    b = b.lower().translate(utils.trans)\n",
    "    if a==b:\n",
    "        return 0\n",
    "    return editdistance.eval(a, b) / ((len(a) + len(b))/2)"
   ]
  },
  {
   "cell_type": "markdown",
   "metadata": {},
   "source": [
    "Names which will be used in training dataframe:"
   ]
  },
  {
   "cell_type": "code",
   "execution_count": null,
   "metadata": {
    "collapsed": true
   },
   "outputs": [],
   "source": [
    "score_columns=\"r_name r_fname r_fonname r_birthp r_fonbirth r_civil r_pos r_job m_gender d_birthy\".split(\" \")"
   ]
  },
  {
   "cell_type": "code",
   "execution_count": null,
   "metadata": {
    "collapsed": true
   },
   "outputs": [],
   "source": [
    "def score(a, b):\n",
    "    return (ss(a.Navn, b.Navn),\n",
    "            ss(a.Fornavn, b.Fornavn),\n",
    "            ss(a.FonetiskNavn, b.FonetiskNavn),\n",
    "            ss(a.Fødested, b.Fødested),\n",
    "            ss(a.FonetiskFødested, b.FonetiskFødested),\n",
    "            ss(a.Civilstand, b.Civilstand), # denne er dum; lav om\n",
    "            ss(a.Position, b.Position),\n",
    "            ss(a.Erhverv, b.Erhverv),\n",
    "            1.0 if a.Køn == b.Køn else 0.0,\n",
    "            abs(a.Fødeår - b.Fødeår))"
   ]
  },
  {
   "cell_type": "markdown",
   "metadata": {},
   "source": [
    "# Build feature thing"
   ]
  },
  {
   "cell_type": "code",
   "execution_count": null,
   "metadata": {
    "collapsed": true
   },
   "outputs": [],
   "source": [
    "navn = tf.feature_column.numeric_column(\"r_name\")\n",
    "fornavn  = tf.feature_column.numeric_column(\"r_fname\")\n",
    "fonetisknavn = tf.feature_column.numeric_column(\"r_fonname\")\n",
    "fødested = tf.feature_column.numeric_column(\"r_birthp\")\n",
    "fonetiskfødested = tf.feature_column.numeric_column(\"r_fonbirth\")\n",
    "civilstand = tf.feature_column.numeric_column(\"r_civil\")\n",
    "position = tf.feature_column.numeric_column(\"r_pos\")\n",
    "erhverv = tf.feature_column.numeric_column(\"r_job\")\n",
    "køn = tf.feature_column.numeric_column(\"m_gender\")\n",
    "fødeår = tf.feature_column.numeric_column(\"d_birthy\")"
   ]
  },
  {
   "cell_type": "markdown",
   "metadata": {},
   "source": [
    "# Build model"
   ]
  },
  {
   "cell_type": "code",
   "execution_count": null,
   "metadata": {
    "collapsed": true
   },
   "outputs": [],
   "source": [
    "model1 = tf.estimator.LinearClassifier(feature_columns=[\n",
    "    navn, fornavn, fonetisknavn, fødested, fonetiskfødested, civilstand, position, erhverv, køn, fødeår\n",
    "], model_dir=\"model1\")"
   ]
  },
  {
   "cell_type": "markdown",
   "metadata": {},
   "source": [
    "# Or other model"
   ]
  },
  {
   "cell_type": "code",
   "execution_count": null,
   "metadata": {
    "collapsed": true
   },
   "outputs": [],
   "source": [
    "model2 = tf.estimator.DNNClassifier(feature_columns=[\n",
    "    navn, fornavn, fonetisknavn, fødested, fonetiskfødested, civilstand, position, erhverv, køn, fødeår\n",
    "], model_dir=\"model2\", hidden_units=[7,5,3])"
   ]
  }
 ],
 "metadata": {
  "kernelspec": {
   "display_name": "Python 3",
   "language": "python",
   "name": "python3"
  },
  "language_info": {
   "codemirror_mode": {
    "name": "ipython",
    "version": 3
   },
   "file_extension": ".py",
   "mimetype": "text/x-python",
   "name": "python",
   "nbconvert_exporter": "python",
   "pygments_lexer": "ipython3",
   "version": "3.6.3"
  }
 },
 "nbformat": 4,
 "nbformat_minor": 2
}
