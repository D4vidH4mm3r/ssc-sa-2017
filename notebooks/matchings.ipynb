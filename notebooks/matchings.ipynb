{
 "cells": [
  {
   "cell_type": "code",
   "execution_count": null,
   "metadata": {
    "collapsed": true
   },
   "outputs": [],
   "source": [
    "import pathlib\n",
    "import difflib\n",
    "import networkx as nx\n",
    "import pandas\n",
    "import utils"
   ]
  },
  {
   "cell_type": "code",
   "execution_count": null,
   "metadata": {
    "collapsed": true
   },
   "outputs": [],
   "source": [
    "df = pandas.read_pickle(\"tmp.pickled\") # from cleaning checkpoint"
   ]
  },
  {
   "cell_type": "markdown",
   "metadata": {},
   "source": [
    "Bruger namedtuples for at gøre koden senere nemmere. Og de kan hashes, så vi kan have sets og dicts."
   ]
  },
  {
   "cell_type": "markdown",
   "metadata": {},
   "source": [
    "## Indlæs data for et subset"
   ]
  },
  {
   "cell_type": "code",
   "execution_count": null,
   "metadata": {
    "collapsed": true
   },
   "outputs": [],
   "source": [
    "subset = pandas.read_csv(\"f/ni.csv\", delimiter=\"|\",\n",
    "                        low_memory=False,\n",
    "                        converters={\n",
    "                            \"Fødested\": str\n",
    "                        })"
   ]
  },
  {
   "cell_type": "code",
   "execution_count": null,
   "metadata": {
    "collapsed": true
   },
   "outputs": [],
   "source": [
    "by_year = subset.groupby(\"FT\")"
   ]
  },
  {
   "cell_type": "code",
   "execution_count": null,
   "metadata": {},
   "outputs": [],
   "source": [
    "len(subset)"
   ]
  },
  {
   "cell_type": "markdown",
   "metadata": {},
   "source": [
    "# Prøv at finde nogle fornuftige matches\n",
    "## Matches som max-weight matching\n",
    "Det ligger jo i navnet at det er en god ide.  For de uindviede: <a href=\"https://en.wikipedia.org/wiki/Matching_(graph_theory)\">wiki</a>."
   ]
  },
  {
   "cell_type": "markdown",
   "metadata": {},
   "source": [
    "Vil bruge edit distances til vægte - tager fødested $d_p$ og $d_n$ (ratio ens i stedet for direkte edit distance; længere navne kan have flere fejl; ratio går fra 0 til 1 hvor 1 betyder \"ens\").  Desuden tillader jeg op til 3 års fejl i angivelse af fødselsår (forskel $d_y$; her er det bare absolut forskel (mindre er bedre))."
   ]
  },
  {
   "cell_type": "markdown",
   "metadata": {},
   "source": [
    "Det hele er bare et eksperiment.  Nedenfor tilføjes kun kanter hvis $d_y \\leq 3 \\wedge d_n \\geq 0.85$.  Vægte på kanter straffes for alle variabler, men måske med $d_n$ (problem: giver 0 hvis fødested er angivet helt forskelligt, men det kan være okay - se kommentarer til sidst).  Formel for vægt er lige nu:\n",
    "$$w = d_n^2 \\cdot d_p \\cdot \\frac{1}{1 + \\frac{d_n}{3}}$$"
   ]
  },
  {
   "cell_type": "code",
   "execution_count": null,
   "metadata": {
    "collapsed": true
   },
   "outputs": [],
   "source": [
    "a_year = 1845\n",
    "a_data = by_year.get_group(a_year)"
   ]
  },
  {
   "cell_type": "code",
   "execution_count": null,
   "metadata": {
    "collapsed": true
   },
   "outputs": [],
   "source": [
    "b_year = 1850\n",
    "b_data = by_year.get_group(b_year)"
   ]
  },
  {
   "cell_type": "code",
   "execution_count": null,
   "metadata": {
    "collapsed": true
   },
   "outputs": [],
   "source": [
    "G = nx.Graph()"
   ]
  },
  {
   "cell_type": "code",
   "execution_count": null,
   "metadata": {
    "collapsed": true
   },
   "outputs": [],
   "source": [
    "def doWork(G, chunk, b_data):\n",
    "    print(\"Staritng new chunk\")\n",
    "    diff_name = difflib.SequenceMatcher()\n",
    "    diff_place = difflib.SequenceMatcher()\n",
    "\n",
    "    for a in chunk.itertuples():\n",
    "        diff_name.set_seq1(a.Navn)\n",
    "        diff_place.set_seq1(a.Fødested)\n",
    "\n",
    "        for b in b_data.itertuples():\n",
    "            # first filter really bad matches\n",
    "            age_diff = abs(a.Fødeår - b.Fødeår)\n",
    "            if age_diff > 3:\n",
    "                continue\n",
    "\n",
    "            diff_name.set_seq2(b.Navn)\n",
    "            ratio_name = diff_name.ratio()\n",
    "            if ratio_name < 0.85:\n",
    "                continue\n",
    "\n",
    "            diff_place.set_seq2(b.Fødested)\n",
    "            ratio_place = diff_place.ratio()\n",
    "\n",
    "            # if maybe decent match, add edge\n",
    "            w = ratio_name**2 * ratio_place * 1/(1+age_diff/3)\n",
    "            G.add_edge(a.Index, b.Index, weight=w)"
   ]
  },
  {
   "cell_type": "code",
   "execution_count": null,
   "metadata": {
    "collapsed": true
   },
   "outputs": [],
   "source": [
    "import concurrent"
   ]
  },
  {
   "cell_type": "code",
   "execution_count": null,
   "metadata": {
    "collapsed": true
   },
   "outputs": [],
   "source": [
    "with concurrent.futures.ThreadPoolExecutor() as tpe:\n",
    "    for chunk in utils.chunks(a_data, 100):\n",
    "        print(\"Starting new chunk\")\n",
    "        tpe.submit(doWork, G, chunk, b_data)"
   ]
  },
  {
   "cell_type": "code",
   "execution_count": null,
   "metadata": {
    "collapsed": true
   },
   "outputs": [],
   "source": []
  },
  {
   "cell_type": "code",
   "execution_count": null,
   "metadata": {},
   "outputs": [],
   "source": [
    "G.number_of_nodes()"
   ]
  },
  {
   "cell_type": "code",
   "execution_count": null,
   "metadata": {
    "collapsed": true
   },
   "outputs": [],
   "source": [
    "match = nx.max_weight_matching(G, maxcardinality=True)\n",
    "match = list(match.items())"
   ]
  },
  {
   "cell_type": "code",
   "execution_count": null,
   "metadata": {},
   "outputs": [],
   "source": [
    "match"
   ]
  },
  {
   "cell_type": "code",
   "execution_count": null,
   "metadata": {
    "scrolled": true
   },
   "outputs": [],
   "source": [
    "sorted(match, key=lambda x: G[x[0]][x[1]][\"weight\"], reverse=True)"
   ]
  },
  {
   "cell_type": "code",
   "execution_count": null,
   "metadata": {
    "collapsed": true
   },
   "outputs": [],
   "source": [
    "a = subset.loc[[91]]"
   ]
  },
  {
   "cell_type": "code",
   "execution_count": null,
   "metadata": {},
   "outputs": [],
   "source": [
    "a.to_csv(header=False, sep=\",\")"
   ]
  },
  {
   "cell_type": "code",
   "execution_count": null,
   "metadata": {
    "collapsed": true
   },
   "outputs": [],
   "source": [
    "pair = subset.loc[[29,2291021]]"
   ]
  },
  {
   "cell_type": "code",
   "execution_count": null,
   "metadata": {},
   "outputs": [],
   "source": [
    "print(pair.to_csv(header=False))"
   ]
  },
  {
   "cell_type": "code",
   "execution_count": null,
   "metadata": {
    "collapsed": true
   },
   "outputs": [],
   "source": [
    "import csv"
   ]
  },
  {
   "cell_type": "code",
   "execution_count": null,
   "metadata": {
    "collapsed": true
   },
   "outputs": [],
   "source": [
    "with open(\"testing.csv\", \"w\") as fd:\n",
    "    writer = csv.writer(fd)\n",
    "    writer.writerow(subset.loc[60])"
   ]
  },
  {
   "cell_type": "code",
   "execution_count": null,
   "metadata": {
    "collapsed": true
   },
   "outputs": [],
   "source": [
    "subset"
   ]
  },
  {
   "cell_type": "code",
   "execution_count": null,
   "metadata": {
    "collapsed": true
   },
   "outputs": [],
   "source": [
    "hmm = pandas.read_csv(\"testing.csv\")"
   ]
  },
  {
   "cell_type": "code",
   "execution_count": null,
   "metadata": {},
   "outputs": [],
   "source": [
    "hmm"
   ]
  },
  {
   "cell_type": "code",
   "execution_count": null,
   "metadata": {
    "collapsed": true
   },
   "outputs": [],
   "source": []
  }
 ],
 "metadata": {
  "kernelspec": {
   "display_name": "Python 3",
   "language": "python",
   "name": "python3"
  },
  "language_info": {
   "codemirror_mode": {
    "name": "ipython",
    "version": 3
   },
   "file_extension": ".py",
   "mimetype": "text/x-python",
   "name": "python",
   "nbconvert_exporter": "python",
   "pygments_lexer": "ipython3",
   "version": "3.6.2"
  }
 },
 "nbformat": 4,
 "nbformat_minor": 2
}
