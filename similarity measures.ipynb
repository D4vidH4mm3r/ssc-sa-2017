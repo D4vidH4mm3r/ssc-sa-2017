{
 "cells": [
  {
   "cell_type": "code",
   "execution_count": null,
   "metadata": {
    "collapsed": true
   },
   "outputs": [],
   "source": [
    "import pathlib\n",
    "import re\n",
    "import collections\n",
    "import functools\n",
    "import difflib\n",
    "import operator\n",
    "import json\n",
    "import requests\n",
    "import time\n",
    "import editdistance\n",
    "import random\n",
    "\n",
    "datadir = pathlib.Path(\"/home/david/pro/scc/data\")\n",
    "\n",
    "%run utils.py"
   ]
  },
  {
   "cell_type": "markdown",
   "metadata": {},
   "source": [
    "# Geografisk afstand\n",
    "Det burde være nemt! Jeg gør det lige nemmere at pakke!"
   ]
  },
  {
   "cell_type": "code",
   "execution_count": null,
   "metadata": {
    "collapsed": true
   },
   "outputs": [],
   "source": [
    "with open(\"tmp.json\", \"r\", encoding=\"utf-8\") as fd:\n",
    "    known, dump, notfound, nonunique = json.load(fd)"
   ]
  },
  {
   "cell_type": "code",
   "execution_count": null,
   "metadata": {
    "collapsed": true
   },
   "outputs": [],
   "source": [
    "with (datadir / \"gps-coords.csv\").open(\"w\", encoding=\"utf-8\") as fd:\n",
    "    fd.write(\"location|lat|lon\\n\")\n",
    "    for place, data in sorted(known.items()):\n",
    "        fd.write(place + \"|\" + str(data[\"lat\"]) + \"|\" + str(data[\"lng\"]) + \"\\n\")"
   ]
  },
  {
   "cell_type": "code",
   "execution_count": null,
   "metadata": {},
   "outputs": [],
   "source": [
    "with (datadir / \"gps-coords.csv\").open(\"r\", encoding=\"utf-8\") as fd:\n",
    "    next(fd)\n",
    "    _gps = {}\n",
    "    for line in fd:\n",
    "        place, lat, lon = line.split(\"|\")\n",
    "        _gps[place] = (float(lat), float(lon))"
   ]
  },
  {
   "cell_type": "code",
   "execution_count": null,
   "metadata": {
    "collapsed": true
   },
   "outputs": [],
   "source": [
    "import math\n",
    "\n",
    "def geo_dist(lat1, lon1, lat2, lon2):\n",
    "    # pasta\n",
    "    R = 6371e3 # Jordens radius i meter\n",
    "    φ1 = math.radians(lat1)\n",
    "    φ2 = math.radians(lat2)\n",
    "    Δφ = math.radians(lat2-lat1)\n",
    "    Δλ = math.radians(lon2-lon1)\n",
    "\n",
    "    a = math.sin(Δφ/2) * math.sin(Δφ/2) + \\\n",
    "            math.cos(φ1) * math.cos(φ2) * \\\n",
    "            math.sin(Δλ/2) * math.sin(Δλ/2)\n",
    "    c = 2 * math.atan2(math.sqrt(a), math.sqrt(1-a))\n",
    "    return R * c;"
   ]
  },
  {
   "cell_type": "code",
   "execution_count": null,
   "metadata": {
    "collapsed": true
   },
   "outputs": [],
   "source": [
    "def geo_similarity(loc1, loc2, max_dist=6e5):\n",
    "    if not (loc1 in _gps and loc2 in _gps):\n",
    "        return 0\n",
    "    dist = geo_dist(*_gps[loc1], *_gps[loc2])\n",
    "    return max(0, 1 - dist/max_dist)"
   ]
  },
  {
   "cell_type": "code",
   "execution_count": null,
   "metadata": {
    "collapsed": true
   },
   "outputs": [],
   "source": [
    "geo_similarity(\"københavn\", \"kjöbenhavn\")"
   ]
  },
  {
   "cell_type": "code",
   "execution_count": null,
   "metadata": {
    "collapsed": true
   },
   "outputs": [],
   "source": [
    "geo_similarity(\"københavn\", \"svenborg\")"
   ]
  },
  {
   "cell_type": "code",
   "execution_count": null,
   "metadata": {
    "collapsed": true
   },
   "outputs": [],
   "source": [
    "geo_similarity(\"københavn\", \"sverige\")"
   ]
  },
  {
   "cell_type": "code",
   "execution_count": null,
   "metadata": {
    "collapsed": true
   },
   "outputs": [],
   "source": [
    "geo_similarity(\"odense\", \"svenborg\")"
   ]
  },
  {
   "cell_type": "markdown",
   "metadata": {},
   "source": [
    "# String similarity"
   ]
  },
  {
   "cell_type": "markdown",
   "metadata": {},
   "source": [
    "Den her er ikke så nice"
   ]
  },
  {
   "cell_type": "code",
   "execution_count": null,
   "metadata": {
    "collapsed": true
   },
   "outputs": [],
   "source": [
    "def dum_version(a,b):\n",
    "    d = editdistance.eval(a,b)\n",
    "    return 1 / (1 + (d/(len(a) + len(b))))"
   ]
  },
  {
   "cell_type": "markdown",
   "metadata": {},
   "source": [
    "Den her virker mere fornuftig"
   ]
  },
  {
   "cell_type": "code",
   "execution_count": null,
   "metadata": {
    "collapsed": true
   },
   "outputs": [],
   "source": [
    "def anden_dum_version(a, b):\n",
    "    d = editdistance.eval(a, b)\n",
    "    return 1 - d / (max(len(a), len(b)))"
   ]
  },
  {
   "cell_type": "code",
   "execution_count": null,
   "metadata": {
    "collapsed": true
   },
   "outputs": [],
   "source": [
    "anden_dum_version(\"københavn\", \"kiøbenhavn\")"
   ]
  },
  {
   "cell_type": "code",
   "execution_count": null,
   "metadata": {
    "collapsed": true
   },
   "outputs": [],
   "source": [
    "anden_dum_version(\"københavn\", \"københavnstrup\")"
   ]
  },
  {
   "cell_type": "code",
   "execution_count": null,
   "metadata": {
    "collapsed": true
   },
   "outputs": [],
   "source": [
    "dum_version(\"kjøbenhavn\", \"københavn\")"
   ]
  },
  {
   "cell_type": "code",
   "execution_count": null,
   "metadata": {
    "collapsed": true
   },
   "outputs": [],
   "source": [
    "dum_version(\"vejen\", \"vojens\")"
   ]
  },
  {
   "cell_type": "code",
   "execution_count": null,
   "metadata": {},
   "outputs": [],
   "source": [
    "civilstande = collections.Counter()\n",
    "for fn in sorted(datadir.glob(\"lc_*.csv\")):\n",
    "    year = int(re.search(r\"\\d{4}\", fn.name).group(0))\n",
    "    print(year)\n",
    "    with fn.open(\"r\", encoding=\"UTF-8\") as fd:\n",
    "        print(next(fd))\n",
    "        #continue\n",
    "        for line in fd:\n",
    "            row = line.strip().split(\"|\")\n",
    "            civilstande.update((row[10],))"
   ]
  },
  {
   "cell_type": "code",
   "execution_count": null,
   "metadata": {},
   "outputs": [],
   "source": [
    "civilstande.most_common(100)"
   ]
  },
  {
   "cell_type": "markdown",
   "metadata": {},
   "source": [
    "# Fødselsår"
   ]
  },
  {
   "cell_type": "code",
   "execution_count": null,
   "metadata": {
    "collapsed": true
   },
   "outputs": [],
   "source": [
    "def year_similarity(y1, y2, max_dist=4):\n",
    "    # lineært skalering med max\n",
    "    return max(0, 1 - (abs(y1 - y2)/max_dist))"
   ]
  },
  {
   "cell_type": "code",
   "execution_count": null,
   "metadata": {
    "collapsed": true
   },
   "outputs": [],
   "source": [
    "year_similarity(1819, 1822)"
   ]
  },
  {
   "cell_type": "markdown",
   "metadata": {
    "collapsed": true
   },
   "source": [
    "# Samlet?"
   ]
  },
  {
   "cell_type": "code",
   "execution_count": null,
   "metadata": {
    "collapsed": true
   },
   "outputs": [],
   "source": [
    "def similarity(row1, row2):\n",
    "    "
   ]
  }
 ],
 "metadata": {
  "kernelspec": {
   "display_name": "Python 3",
   "language": "python",
   "name": "python3"
  },
  "language_info": {
   "codemirror_mode": {
    "name": "ipython",
    "version": 3
   },
   "file_extension": ".py",
   "mimetype": "text/x-python",
   "name": "python",
   "nbconvert_exporter": "python",
   "pygments_lexer": "ipython3",
   "version": "3.6.2"
  }
 },
 "nbformat": 4,
 "nbformat_minor": 2
}
