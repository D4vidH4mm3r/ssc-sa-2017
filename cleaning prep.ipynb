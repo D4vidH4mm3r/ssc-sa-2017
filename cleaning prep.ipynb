{
 "cells": [
  {
   "cell_type": "code",
   "execution_count": null,
   "metadata": {
    "collapsed": true
   },
   "outputs": [],
   "source": [
    "import pathlib\n",
    "import re\n",
    "import collections\n",
    "import functools\n",
    "import difflib\n",
    "import operator\n",
    "import warnings\n",
    "import pickle"
   ]
  },
  {
   "cell_type": "code",
   "execution_count": null,
   "metadata": {
    "collapsed": true
   },
   "outputs": [],
   "source": [
    "%run utils.py\n",
    "#cache = ApprovedMatches(datadir / \"approved.pickle\")"
   ]
  },
  {
   "cell_type": "markdown",
   "metadata": {},
   "source": [
    "# Fix the birthplace field"
   ]
  },
  {
   "cell_type": "markdown",
   "metadata": {},
   "source": [
    "## Part one: replace \"i sognet\""
   ]
  },
  {
   "cell_type": "code",
   "execution_count": null,
   "metadata": {},
   "outputs": [],
   "source": [
    "with AllEntries() as dataSet:\n",
    "    for fn, year, entries in dataSet.getEntries():\n",
    "        print(year)\n",
    "        lines = [commonHeader + \"\\n\"]\n",
    "        for entry in entries:\n",
    "            # prøv at fikse fødesteder\n",
    "            if \"her i sognet\" in entry.fødested or \\\n",
    "               \"heri sognet\" in entry.fødested or \\\n",
    "                entry.fødested.replace(\".\", \"\") in (\"i sognet\", \"her i s\"):        \n",
    "                # det kan være, der står noget om placering i parentes; brug det\n",
    "                match1 = re.search(r\"(her ?)?i sognet (\\{|\\[|\\()(?P<place>.*?)(\\]|\\)|\\})\", entry.fødested)\n",
    "                # det kan også være, der står noget efter et komma\n",
    "                match2 = re.search(r\"(her ?)? i sognet, (<P<place>.*)\", entry.fødested)\n",
    "                if match1:\n",
    "                    new = match1.group(\"place\")\n",
    "                elif match2:\n",
    "                    new = match2.group(\"place\")\n",
    "                else:\n",
    "                    new = entry.sogn\n",
    "                entry = entry._replace(fødested=new)\n",
    "            lines.append(entry.toRow() + \"\\n\")\n",
    "        with fn.open(\"w\", encoding=\"UTF-8\") as fd:\n",
    "            fd.writelines(lines)"
   ]
  },
  {
   "cell_type": "code",
   "execution_count": null,
   "metadata": {
    "collapsed": true
   },
   "outputs": [],
   "source": [
    "re.search(r\"(her ?)?i sognet (\\[|\\()(?P<place>.*?)(\\]|\\))\", \"her i sognet [tommerup)\").group(\"place\")"
   ]
  },
  {
   "cell_type": "code",
   "execution_count": null,
   "metadata": {},
   "outputs": [],
   "source": [
    "# for 1845 som eksempel\n",
    "sorted((a,b) for (a,b) in changes if a not in (\"her i sognet\", \"heri sognet\", \"i sognet\"))"
   ]
  },
  {
   "cell_type": "markdown",
   "metadata": {},
   "source": [
    "## Part two: more of the same"
   ]
  },
  {
   "cell_type": "markdown",
   "metadata": {},
   "source": [
    "Let's see what's missing; the GPS lookup efforts showed a lot of crud.\n",
    "\n",
    "**TODO**"
   ]
  },
  {
   "cell_type": "code",
   "execution_count": null,
   "metadata": {
    "collapsed": true
   },
   "outputs": [],
   "source": [
    "re_sogn_amt = re.compile(r\"(.+) \\[?sogn\\]?,? ?(.+) \\[?amt\\]?\")\n",
    "re_do_sogn = re.compile(r\"do \\[(.+)\\]\")\n",
    "_trans = {\n",
    "    \"kjøbenhavn\": \"københavn\",\n",
    "    \"kiøbenhavn\": \"københavn\",\n",
    "    \"kbhvn\": \"københavn\",\n",
    "    \"sverrig\": \"sverige\",\n",
    "    \"sverige\": \"sverige\",\n",
    "    \"aarhus\": \"århus\",\n",
    "    \"aarhuus\": \"århus\",\n",
    "    \"rønne købstad - bornholms amt\": \"rønne\",\n",
    "    \"kbhv\": \"københavn\"\n",
    "}\n",
    "def normalize_more(place):\n",
    "    if place in (\"do\", \"do.\", \"her\", \"født i sognet\", \"dito\", \"sognet\", \"h. i s.\"):\n",
    "        return None\n",
    "    elif place in _trans:\n",
    "        return _trans[place]\n",
    "    match = re_sogn_amt.match(place)\n",
    "    if match:\n",
    "        return match.group(1)\n",
    "    match = re_do_sogn.match(place)\n",
    "    if match:\n",
    "        return match.group(1)\n",
    "    return place\n"
   ]
  }
 ],
 "metadata": {
  "kernelspec": {
   "display_name": "Python 3",
   "language": "python",
   "name": "python3"
  },
  "language_info": {
   "codemirror_mode": {
    "name": "ipython",
    "version": 3
   },
   "file_extension": ".py",
   "mimetype": "text/x-python",
   "name": "python",
   "nbconvert_exporter": "python",
   "pygments_lexer": "ipython3",
   "version": "3.6.2"
  }
 },
 "nbformat": 4,
 "nbformat_minor": 2
}
