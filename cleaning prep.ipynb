{
 "cells": [
  {
   "cell_type": "code",
   "execution_count": null,
   "metadata": {
    "collapsed": true
   },
   "outputs": [],
   "source": [
    "import pathlib\n",
    "import re\n",
    "import collections\n",
    "import functools\n",
    "import difflib\n",
    "import operator\n",
    "import warnings\n",
    "import pickle"
   ]
  },
  {
   "cell_type": "code",
   "execution_count": null,
   "metadata": {
    "collapsed": true
   },
   "outputs": [],
   "source": [
    "%run utils.py\n",
    "#cache = ApprovedMatches(datadir / \"approved.pickle\")"
   ]
  },
  {
   "cell_type": "markdown",
   "metadata": {},
   "source": [
    "# Uhhh, lowercase for realsies"
   ]
  },
  {
   "cell_type": "code",
   "execution_count": null,
   "metadata": {
    "collapsed": true
   },
   "outputs": [],
   "source": [
    "with AllEntries() as dataSet:\n",
    "    for fn, year, entries in dataSet.getEntries():\n",
    "        print(year)\n",
    "        lines = [commonHeader + \"\\n\"]\n",
    "        for entry in entries:\n",
    "            lines.append(entry.toRow().lower() + \"\\n\")\n",
    "        with fn.open(\"w\", encoding=\"UTF-8\") as fd:\n",
    "            fd.writelines(lines)"
   ]
  },
  {
   "cell_type": "code",
   "execution_count": null,
   "metadata": {},
   "outputs": [],
   "source": [
    "lines = []\n",
    "with (datadir / \"gps-coords.csv\").open(\"r\", encoding=\"utf-8\") as fd:\n",
    "    header = next(fd)\n",
    "    for line in fd:\n",
    "        split = line.split(\"|\")\n",
    "        split[0] = split[0].lower().strip()\n",
    "        lines.append(\"|\".join(split))\n",
    "lines.sort()\n",
    "lines.insert(0, header)\n",
    "with (datadir / \"gps-coords.csv\").open(\"w\", encoding=\"utf-8\") as fd:\n",
    "    fd.writelines(lines)"
   ]
  },
  {
   "cell_type": "markdown",
   "metadata": {},
   "source": [
    "# Fix the birthplace field"
   ]
  },
  {
   "cell_type": "markdown",
   "metadata": {},
   "source": [
    "## Part one: replace \"i sognet\""
   ]
  },
  {
   "cell_type": "code",
   "execution_count": null,
   "metadata": {
    "collapsed": true
   },
   "outputs": [],
   "source": [
    "with AllEntries() as dataSet:\n",
    "    for fn, year, entries in dataSet.getEntries():\n",
    "        print(year)\n",
    "        lines = [commonHeader + \"\\n\"]\n",
    "        for entry in entries:\n",
    "            # prøv at fikse fødesteder\n",
    "            if \"her i sognet\" in entry.fødested or \\\n",
    "               \"heri sognet\" in entry.fødested or \\\n",
    "                entry.fødested.replace(\".\", \"\") in (\"i sognet\", \"her i s\"):        \n",
    "                # det kan være, der står noget om placering i parentes; brug det\n",
    "                match1 = re.search(r\"(her ?)?i sognet (\\{|\\[|\\()(?P<place>.*?)(\\]|\\)|\\})\", entry.fødested)\n",
    "                # det kan også være, der står noget efter et komma\n",
    "                match2 = re.search(r\"(her ?)? i sognet, (<P<place>.*)\", entry.fødested)\n",
    "                if match1:\n",
    "                    new = match1.group(\"place\")\n",
    "                elif match2:\n",
    "                    new = match2.group(\"place\")\n",
    "                else:\n",
    "                    new = entry.sogn\n",
    "                entry = entry._replace(fødested=new)\n",
    "            lines.append(entry.toRow() + \"\\n\")\n",
    "        with fn.open(\"w\", encoding=\"UTF-8\") as fd:\n",
    "            fd.writelines(lines)"
   ]
  },
  {
   "cell_type": "code",
   "execution_count": null,
   "metadata": {
    "collapsed": true
   },
   "outputs": [],
   "source": [
    "re.search(r\"(her ?)?i sognet (\\[|\\()(?P<place>.*?)(\\]|\\))\", \"her i sognet [tommerup)\").group(\"place\")"
   ]
  },
  {
   "cell_type": "code",
   "execution_count": null,
   "metadata": {
    "collapsed": true
   },
   "outputs": [],
   "source": [
    "# for 1845 som eksempel\n",
    "sorted((a,b) for (a,b) in changes if a not in (\"her i sognet\", \"heri sognet\", \"i sognet\"))"
   ]
  },
  {
   "cell_type": "markdown",
   "metadata": {},
   "source": [
    "## Part two: more of the same"
   ]
  },
  {
   "cell_type": "markdown",
   "metadata": {},
   "source": [
    "Let's see what's missing; the GPS lookup efforts showed a lot of crud.\n",
    "\n",
    "**TODO**"
   ]
  },
  {
   "cell_type": "markdown",
   "metadata": {},
   "source": [
    "Change all the simple \"dito\", \"ditto\", \"do\", \"do.\" etc. to the previous birthplace..."
   ]
  },
  {
   "cell_type": "code",
   "execution_count": null,
   "metadata": {},
   "outputs": [],
   "source": [
    "with AllEntries() as dataSet:\n",
    "    for fn, year, entries in dataSet.getEntries():\n",
    "        print(year)\n",
    "        lines = [commonHeader + \"\\n\"]\n",
    "        prev = None\n",
    "        for entry in entries:\n",
    "            place = entry.fødested.replace(\".\", \"\")\n",
    "            if place in (\"do\", \"dito\", \"ditto\"):\n",
    "                entry = entry._replace(fødested=prev)\n",
    "            prev = entry.fødested\n",
    "            lines.append(entry.toRow() + \"\\n\")\n",
    "        with fn.open(\"w\", encoding=\"UTF-8\") as fd:\n",
    "            fd.writelines(lines)"
   ]
  },
  {
   "cell_type": "code",
   "execution_count": null,
   "metadata": {
    "collapsed": true
   },
   "outputs": [],
   "source": [
    "_remove_first = str.maketrans({\n",
    "    c: \"\" for c in \",.-:?/!\"\n",
    "})\n",
    "_remove_last = str.maketrans({\n",
    "    c: \"\" for c in \"[]{}()\"\n",
    "})"
   ]
  },
  {
   "cell_type": "code",
   "execution_count": null,
   "metadata": {},
   "outputs": [],
   "source": [
    "def extractPlace(name):\n",
    "    stripped = name.translate(_remove_first)\n",
    "    match = re.match(r\"di?t?t?o(\\(|\\[)(.*)(\\)|\\])\", stripped.replace(\" \", \"\"))\n",
    "    if match:\n",
    "        return match.group(2).translate(_remove_last).strip()\n",
    "    else:\n",
    "        return stripped.translate(_remove_last).strip()"
   ]
  },
  {
   "cell_type": "code",
   "execution_count": null,
   "metadata": {},
   "outputs": [],
   "source": [
    "places = collections.Counter()\n",
    "with AllEntries() as dataSet:\n",
    "    for fn, year, entries in dataSet.getEntries():\n",
    "        print(year)\n",
    "        tmp = []\n",
    "        for entry in entries:\n",
    "            tmp.append(extractPlace(entry.fødested))\n",
    "        places.update(tmp)\n",
    "        del(tmp)"
   ]
  },
  {
   "cell_type": "code",
   "execution_count": null,
   "metadata": {},
   "outputs": [],
   "source": [
    "places.most_common()"
   ]
  },
  {
   "cell_type": "code",
   "execution_count": null,
   "metadata": {
    "collapsed": true
   },
   "outputs": [],
   "source": [
    "differ = difflib.SequenceMatcher()"
   ]
  },
  {
   "cell_type": "code",
   "execution_count": null,
   "metadata": {
    "collapsed": true
   },
   "outputs": [],
   "source": [
    "differ.set_seq1(\"københavn\")"
   ]
  },
  {
   "cell_type": "code",
   "execution_count": null,
   "metadata": {},
   "outputs": [],
   "source": [
    "extractPlace(\"do. [rønne]\")"
   ]
  },
  {
   "cell_type": "code",
   "execution_count": null,
   "metadata": {},
   "outputs": [],
   "source": [
    "extractPlace(\"dito [kjøbenhavn]\")"
   ]
  },
  {
   "cell_type": "code",
   "execution_count": null,
   "metadata": {},
   "outputs": [],
   "source": [
    "extractPlace(\"kjøbenha[vn] !!\")"
   ]
  },
  {
   "cell_type": "code",
   "execution_count": null,
   "metadata": {},
   "outputs": [],
   "source": [
    "copenhagen_names = set()\n",
    "for place, freq in places.most_common():\n",
    "    differ.set_seq2(place)\n",
    "    if differ.ratio() > 0.8:\n",
    "        print(place, freq)\n",
    "        copenhagen_names.add(place)"
   ]
  },
  {
   "cell_type": "code",
   "execution_count": null,
   "metadata": {},
   "outputs": [],
   "source": [
    "len(places)"
   ]
  },
  {
   "cell_type": "code",
   "execution_count": null,
   "metadata": {},
   "outputs": [],
   "source": [
    "with AllEntries() as dataSet:\n",
    "    for fn, year, entries in dataSet.getEntries():\n",
    "        print(year)\n",
    "        lines = [commonHeader + \"\\n\"]\n",
    "        prev = None\n",
    "        for entry in entries:\n",
    "            if extractPlace(entry.fødested) in copenhagen_names:\n",
    "                entry = entry._replace(fødested=\"københavn\")\n",
    "            lines.append(entry.toRow() + \"\\n\")\n",
    "        with fn.open(\"w\", encoding=\"UTF-8\") as fd:\n",
    "            fd.writelines(lines)"
   ]
  },
  {
   "cell_type": "code",
   "execution_count": null,
   "metadata": {
    "collapsed": true
   },
   "outputs": [],
   "source": []
  }
 ],
 "metadata": {
  "kernelspec": {
   "display_name": "Python 3",
   "language": "python",
   "name": "python3"
  },
  "language_info": {
   "codemirror_mode": {
    "name": "ipython",
    "version": 3
   },
   "file_extension": ".py",
   "mimetype": "text/x-python",
   "name": "python",
   "nbconvert_exporter": "python",
   "pygments_lexer": "ipython3",
   "version": "3.6.2"
  }
 },
 "nbformat": 4,
 "nbformat_minor": 2
}
