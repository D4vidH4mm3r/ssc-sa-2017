{
 "cells": [
  {
   "cell_type": "code",
   "execution_count": null,
   "metadata": {
    "collapsed": true
   },
   "outputs": [],
   "source": [
    "import pathlib\n",
    "import re\n",
    "import collections\n",
    "import functools\n",
    "import difflib\n",
    "import operator\n",
    "import networkx as nx\n",
    "import warnings\n",
    "import pickle\n",
    "warnings.simplefilter('ignore') # for networkx drawing\n",
    "import matplotlib.pylab\n",
    "%matplotlib inline\n",
    "matplotlib.pylab.rcParams[\"figure.figsize\"] = (14, 18)"
   ]
  },
  {
   "cell_type": "markdown",
   "metadata": {},
   "source": [
    "# Indlæs data\n",
    "## Hvor er filerne?\n",
    "Ret nedenstående hvis det køres på ikke-min computer."
   ]
  },
  {
   "cell_type": "code",
   "execution_count": null,
   "metadata": {
    "collapsed": true
   },
   "outputs": [],
   "source": [
    "datadir = pathlib.Path(\"/home/david/pro/scc/data\")"
   ]
  },
  {
   "cell_type": "markdown",
   "metadata": {},
   "source": [
    "Gem for resten alle sete gode matches; de kan alle bruges til træning senere."
   ]
  },
  {
   "cell_type": "code",
   "execution_count": null,
   "metadata": {},
   "outputs": [],
   "source": [
    "%run utils.py\n",
    "cache = ApprovedMatches(datadir / \"approved.pickle\")"
   ]
  },
  {
   "cell_type": "markdown",
   "metadata": {},
   "source": [
    "Headers:\n",
    "\n",
    "- 0  amt\n",
    "- 1  herred\n",
    "- 2  sogn\n",
    "- 3  navn\n",
    "- 4  køn\n",
    "- 5  fødested\n",
    "- 6  fødeaar\n",
    "- 7  civilstand\n",
    "- 8  position\n",
    "- 9  erhverv\n",
    "- 10 husstnr\n",
    "- 11 kipnr\n",
    "- 12 løbenr"
   ]
  },
  {
   "cell_type": "markdown",
   "metadata": {},
   "source": [
    "Bruger namedtuples for at gøre koden senere nemmere. Og de kan hashes, så vi kan have sets og dicts."
   ]
  },
  {
   "cell_type": "markdown",
   "metadata": {},
   "source": [
    "Ser på de cleanede `lc_`-filer."
   ]
  },
  {
   "cell_type": "code",
   "execution_count": null,
   "metadata": {},
   "outputs": [],
   "source": [
    "list(datadir.glob(\"lc_*.csv\"))"
   ]
  },
  {
   "cell_type": "markdown",
   "metadata": {},
   "source": [
    "## Overvej hvilked område at se på\n",
    "Bemærk: Det er problematisk ift. træning af model fordi vi netop vil have en, der kan matche folk efter de er flyttet også.  Overvej bedre blocking til stikprøver."
   ]
  },
  {
   "cell_type": "code",
   "execution_count": null,
   "metadata": {},
   "outputs": [],
   "source": [
    "areas = {}\n",
    "for fn in sorted(datadir.glob(\"lc_*.csv\")):\n",
    "    print(fn.stem)\n",
    "    with fn.open(\"r\", encoding=\"utf-8\") as fd:\n",
    "        next(fd)\n",
    "        areas[fn.stem] = collections.Counter(line.split(\"|\")[1] for line in fd)\n",
    "#for year in sorted(areas):\n",
    "    #print(areas[year])"
   ]
  },
  {
   "cell_type": "markdown",
   "metadata": {},
   "source": [
    "Okay tællingen for 1885 er kun for København.  Useless."
   ]
  },
  {
   "cell_type": "code",
   "execution_count": null,
   "metadata": {
    "collapsed": true
   },
   "outputs": [],
   "source": [
    "del(areas[\"lc_FT1885_SDU\"]) # only copenhagen, ignore for now"
   ]
  },
  {
   "cell_type": "markdown",
   "metadata": {},
   "source": [
    "Hvilke områder er i alle (resterende) tællinger?"
   ]
  },
  {
   "cell_type": "code",
   "execution_count": null,
   "metadata": {
    "collapsed": true
   },
   "outputs": [],
   "source": [
    "in_common = functools.reduce(set.intersection, (set(arealist) for arealist in areas.values()))"
   ]
  },
  {
   "cell_type": "markdown",
   "metadata": {},
   "source": [
    "Og hvad er mindste antal folk i hvert område (øvre grænse for fællesmængde)?"
   ]
  },
  {
   "cell_type": "code",
   "execution_count": null,
   "metadata": {},
   "outputs": [],
   "source": [
    "{area: min(arealist[area]\n",
    "           for arealist in areas.values())\n",
    " for area in in_common}"
   ]
  },
  {
   "cell_type": "markdown",
   "metadata": {},
   "source": [
    "## Indlæs data for det valgte afgrænsede område\n",
    "Bemærk: alt det med rettelse af fødested herunder burde gøres i de cleanede `lc_`-datafiler, ikke her.\n",
    "\n",
    "For resten så begrænser jeg også lige navne for at få endnu færre rækker; arbejder på min bærbare lige nu."
   ]
  },
  {
   "cell_type": "code",
   "execution_count": null,
   "metadata": {},
   "outputs": [],
   "source": [
    "subset = []\n",
    "area = \"læsø\"\n",
    "unhandled = set()\n",
    "for fnstem in areas:\n",
    "    year = int(re.search(r\"\\d{4}\", fnstem).group(0))\n",
    "    print(year)\n",
    "    fn = datadir / (fnstem + \".csv\")\n",
    "    with fn.open(\"r\", encoding=\"UTF-8\") as fd:\n",
    "        next(fd)\n",
    "        acc = []\n",
    "        for line in fd:\n",
    "            row = line.strip().split(\"|\")\n",
    "            if not (row[1] == area and row[3].startswith(\"an\")):\n",
    "                continue\n",
    "            # fødeår som int\n",
    "            row[6] = int(row[6])\n",
    "            # prøv at fikse fødesteder\n",
    "            fødested = row[5].replace(\".\",\"\").split()\n",
    "            if len(fødested) > 1:\n",
    "                if fødested[-2:] == [\"i\", \"sognet\"] or fødested == [\"heri\", \"sognet\"] or \"her i s\" in row[5]: # {her ,}i sognet\n",
    "                    fødested = row[2] # erstat med sognet\n",
    "                elif \"sogn\" in fødested: # ... sogn på læsø / ... sogn ... amt\n",
    "                    index = fødested.index(\"sogn\")\n",
    "                    fødested = \" \".join(fødested[:index])\n",
    "                elif \"amt\" in fødested:\n",
    "                    index = fødested.index(\"amt\") # ... by amt\n",
    "                    fødested = \" \".join(fødested[:index-1])\n",
    "                elif fødested[-1].startswith(\"[\"): # ... [by]\n",
    "                    fødested = \" \".join(fødested[:-1])\n",
    "                else:\n",
    "                    fødested = \" \".join(fødested)\n",
    "                    unhandled.add(fødested)\n",
    "                row[5] = fødested\n",
    "            row = Entry(*row)\n",
    "            acc.append(row)\n",
    "        subset.append((year, acc))"
   ]
  },
  {
   "cell_type": "markdown",
   "metadata": {},
   "source": [
    "Der er nogle fødesteder med flere ord, som endnu ikke håndteres.  Det kan vist nemt ordnes, men hører ikke til her (der er rigeligt med spaghetti allerede)."
   ]
  },
  {
   "cell_type": "code",
   "execution_count": null,
   "metadata": {},
   "outputs": [],
   "source": [
    "print(unhandled)"
   ]
  },
  {
   "cell_type": "code",
   "execution_count": null,
   "metadata": {},
   "outputs": [],
   "source": [
    "print([(year, len(data), len(set(data))) for (year, data) in subset])"
   ]
  },
  {
   "cell_type": "code",
   "execution_count": null,
   "metadata": {},
   "outputs": [],
   "source": [
    "len(set(row[3] for row in subset[0][1]))"
   ]
  },
  {
   "cell_type": "code",
   "execution_count": null,
   "metadata": {
    "collapsed": true
   },
   "outputs": [],
   "source": [
    "(a_year, a_data), (b_year, b_data) = subset[:2]"
   ]
  },
  {
   "cell_type": "markdown",
   "metadata": {},
   "source": [
    "# Prøv at finde nogle fornuftige matches\n",
    "## Matches som max-weight matching\n",
    "Det ligger jo i navnet at det er en god ide.  For de uindviede: <a href=\"https://en.wikipedia.org/wiki/Matching_(graph_theory)\">wiki</a>."
   ]
  },
  {
   "cell_type": "markdown",
   "metadata": {},
   "source": [
    "Vil bruge edit distances til vægte - tager fødested $d_p$ og $d_n$ (ratio ens i stedet for direkte edit distance; længere navne kan have flere fejl; ratio går fra 0 til 1 hvor 1 betyder \"ens\").  Desuden tillader jeg op til 3 års fejl i angivelse af fødselsår (forskel $d_y$; her er det bare absolut forskel (mindre er bedre))."
   ]
  },
  {
   "cell_type": "code",
   "execution_count": null,
   "metadata": {
    "collapsed": true
   },
   "outputs": [],
   "source": [
    "diff_name = difflib.SequenceMatcher()\n",
    "diff_place = difflib.SequenceMatcher()"
   ]
  },
  {
   "cell_type": "markdown",
   "metadata": {},
   "source": [
    "Det hele er bare et eksperiment.  Nedenfor tilføjes kun kanter hvis $d_y \\leq 3 \\wedge d_n \\geq 0.85$.  Vægte på kanter straffes for alle variabler, men måske med $d_n$ (problem: giver 0 hvis fødested er angivet helt forskelligt, men det kan være okay - se kommentarer til sidst).  Formel for vægt er lige nu:\n",
    "$$w = d_n^2 \\cdot d_p \\cdot \\frac{1}{1 + \\frac{d_n}{3}}$$"
   ]
  },
  {
   "cell_type": "code",
   "execution_count": null,
   "metadata": {
    "collapsed": true
   },
   "outputs": [],
   "source": [
    "G = nx.Graph()\n",
    "for i, a_row in enumerate(a_data):\n",
    "    diff_name.set_seq1(a_row.navn)\n",
    "    diff_place.set_seq1(a_row.fødested)\n",
    "\n",
    "    for j, b_row in enumerate(b_data):\n",
    "        # first filter really bad matches\n",
    "        age_diff = abs(a_row.fødeår - b_row.fødeår)\n",
    "        if age_diff > 3:\n",
    "            continue\n",
    "\n",
    "        diff_name.set_seq2(b_row.navn)\n",
    "        ratio_name = diff_name.ratio()\n",
    "        if ratio_name < 0.85:\n",
    "            continue\n",
    "        \n",
    "        diff_place.set_seq2(b_row.fødested)\n",
    "        ratio_place = diff_place.ratio()\n",
    "        \n",
    "        # if maybe decent match, add edge\n",
    "        w = ratio_name**2 * ratio_place * 1/(1+age_diff/3)\n",
    "        G.add_edge(\"a\" + str(i), \"b\" + str(j), weight=w)"
   ]
  },
  {
   "cell_type": "markdown",
   "metadata": {},
   "source": [
    "Lad os da lige visualisere grafen.  Det er fancy."
   ]
  },
  {
   "cell_type": "code",
   "execution_count": null,
   "metadata": {
    "collapsed": true
   },
   "outputs": [],
   "source": [
    "pos = {}\n",
    "A = set()\n",
    "B = set()\n",
    "for n in G.nodes_iter():\n",
    "    if n.startswith(\"a\"):\n",
    "        pos[n] = (0, int(n[1:]))\n",
    "        A.add(n)\n",
    "    else:\n",
    "        pos[n] = (4, int(n[1:]))\n",
    "        B.add(n)"
   ]
  },
  {
   "cell_type": "code",
   "execution_count": null,
   "metadata": {},
   "outputs": [],
   "source": [
    "for k,v in sorted(nx.degree(G, A).items(), key=operator.itemgetter(1), reverse=True):\n",
    "    print(k, v)"
   ]
  },
  {
   "cell_type": "code",
   "execution_count": null,
   "metadata": {
    "collapsed": true
   },
   "outputs": [],
   "source": [
    "match = nx.max_weight_matching(G, maxcardinality=True)\n",
    "match = set(tuple(sorted(pair)) for pair in match.items())"
   ]
  },
  {
   "cell_type": "code",
   "execution_count": null,
   "metadata": {},
   "outputs": [],
   "source": [
    "dummy = nx.Graph()\n",
    "for u, v in match:\n",
    "    dummy.add_edge(u,v)\n",
    "nx.draw(G, pos=pos, width=0.4, node_size=5)\n",
    "nx.draw_networkx_edges(dummy, edge_color=\"red\", pos=pos, width=0.6)"
   ]
  },
  {
   "cell_type": "markdown",
   "metadata": {},
   "source": [
    "Vi kan bruge widgets til \"nemt\" at lave dashboard til at vælge gode matches at gemme :D"
   ]
  },
  {
   "cell_type": "code",
   "execution_count": null,
   "metadata": {
    "collapsed": true
   },
   "outputs": [],
   "source": [
    "import ipywidgets\n",
    "from IPython.display import display"
   ]
  },
  {
   "cell_type": "code",
   "execution_count": null,
   "metadata": {
    "collapsed": true
   },
   "outputs": [],
   "source": [
    "relevant = \"amt,herred,sogn,navn,fødested,fødeår,civilstand,position,erhverv\".split(\",\")"
   ]
  },
  {
   "cell_type": "code",
   "execution_count": null,
   "metadata": {
    "collapsed": true
   },
   "outputs": [],
   "source": [
    "table_fmt = \"\"\"<table>\n",
    "<tr>\n",
    "  <th>amt</th>\n",
    "  <th>herred</th>\n",
    "  <th>sogn</th>\n",
    "  <th>navn</th>\n",
    "  <th>fødested</th>\n",
    "  <th>fødeår</th>\n",
    "  <th>civilstand</th>\n",
    "  <th>position</th>\n",
    "  <th>erhverv</th>\n",
    "</tr>\n",
    "{}\n",
    "</table>\"\"\""
   ]
  },
  {
   "cell_type": "code",
   "execution_count": null,
   "metadata": {
    "collapsed": true
   },
   "outputs": [],
   "source": [
    "def to_html_row(entry):\n",
    "    return \"<tr>\" + \"\".join(\"<td>\" + str(getattr(entry, field)) + \"</td>\" for field in relevant)"
   ]
  },
  {
   "cell_type": "code",
   "execution_count": null,
   "metadata": {},
   "outputs": [],
   "source": [
    "matched_pairs = []\n",
    "for u, v in match:\n",
    "    a_row = a_data[int(u[1:])]\n",
    "    b_row = b_data[int(v[1:])]\n",
    "    matched_pairs.append((G[u][v][\"weight\"], a_row, b_row))\n",
    "matched_pairs.sort(reverse=True)\n",
    "\n",
    "display(ipywidgets.Label(value=str(a_year) + \"-\" + str(b_year)))\n",
    "for (w, a, b) in matched_pairs[:100]:\n",
    "    if (a, b) in cache.data[(a_year, b_year)]:\n",
    "        continue\n",
    "    but = ipywidgets.Button(description=\"approve\")\n",
    "    def add_this_pair_maker(*args): # nested functions for closure\n",
    "        def enclosed(nonsense):\n",
    "            cache.add_match(*args)\n",
    "        return enclosed\n",
    "    but.on_click(add_this_pair_maker(a_year, b_year, a, b))\n",
    "    display(ipywidgets.Label(value=\"w=\" + str(w)))\n",
    "    display(ipywidgets.HTML(table_fmt.format(to_html_row(a) + to_html_row(b))))\n",
    "    display(but)"
   ]
  },
  {
   "cell_type": "code",
   "execution_count": null,
   "metadata": {
    "collapsed": true
   },
   "outputs": [],
   "source": [
    "cache.flush()"
   ]
  },
  {
   "cell_type": "markdown",
   "metadata": {},
   "source": [
    "Bemærk: kvinder skifter navn, så vi bør smide efternavn væk på kvinder i matching.\n",
    "\n",
    "Og vi skal have sogne som subsets af områder ift. fødested; ane marie knudsdatter født på læsøe eller byrum er lige godt.  Eller måske vesterø og læsø.\n",
    "\n",
    "HOV! Hvorfor er der over 5mio rows i nogle af filerne? Så mange mennesker var der ikke!\n",
    "\n",
    "Cacher lige gode matches som $(y_1,y_2) \\to \\{(r_1, r_2) \\dots\\}$"
   ]
  }
 ],
 "metadata": {
  "kernelspec": {
   "display_name": "Python 3",
   "language": "python",
   "name": "python3"
  },
  "language_info": {
   "codemirror_mode": {
    "name": "ipython",
    "version": 3
   },
   "file_extension": ".py",
   "mimetype": "text/x-python",
   "name": "python",
   "nbconvert_exporter": "python",
   "pygments_lexer": "ipython3",
   "version": "3.6.1"
  }
 },
 "nbformat": 4,
 "nbformat_minor": 2
}
