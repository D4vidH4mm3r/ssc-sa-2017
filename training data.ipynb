{
 "cells": [
  {
   "cell_type": "code",
   "execution_count": null,
   "metadata": {
    "collapsed": true
   },
   "outputs": [],
   "source": [
    "import random\n",
    "import tensorflow as tf\n",
    "import numpy as np\n",
    "\n",
    "%run similarity.py\n",
    "%run utils.py\n",
    "\n",
    "datadir = pathlib.Path(\"/home/david/pro/scc/data\")"
   ]
  },
  {
   "cell_type": "code",
   "execution_count": null,
   "metadata": {
    "collapsed": true
   },
   "outputs": [],
   "source": [
    "relevant = tuple(year for year in (1845, 1850, 1860, 1880, 1885))"
   ]
  },
  {
   "cell_type": "code",
   "execution_count": null,
   "metadata": {
    "scrolled": true
   },
   "outputs": [],
   "source": [
    "with (datadir / \"..\" / \"links\" / \"linkede_personer.csv\").open(\"r\", encoding=\"latin1\") as fd:\n",
    "    print(next(fd))\n",
    "    links = {year: {} for year in relevant} # year -> (kip,løb) -> linkID\n",
    "    for line in fd:\n",
    "        split = [part.lower() for part in line.strip().split(\"|\")]\n",
    "        for year in relevant:\n",
    "            if str(year) in str(split[1]):\n",
    "                kipløb = tuple(split[2:4])\n",
    "                links[year][kipløb] = split[0]\n",
    "                break"
   ]
  },
  {
   "cell_type": "code",
   "execution_count": null,
   "metadata": {},
   "outputs": [],
   "source": [
    "for year, matched in links.items():\n",
    "    print(year, len(matched))"
   ]
  },
  {
   "cell_type": "code",
   "execution_count": null,
   "metadata": {},
   "outputs": [],
   "source": [
    "mig = parseEntry(\"a|b|c|d|mg|h|dh|k|h|1992|a|q|w|f|p|g\")"
   ]
  },
  {
   "cell_type": "code",
   "execution_count": null,
   "metadata": {},
   "outputs": [],
   "source": [
    "getattr(mig, \"amt\")"
   ]
  },
  {
   "cell_type": "code",
   "execution_count": null,
   "metadata": {
    "collapsed": true
   },
   "outputs": [],
   "source": [
    "def get_score(a, b):\n",
    "    name_scores = (similarity.string_similarity_linear(getattr(a, prop), getattr(b, prop))\n",
    "                   for prop in (\"fornavn\", \"mellemnavn\", \"efternavn\", \"initialer\"))\n",
    "    geo_scores = (similarity.string_similarity_linear(a.fødested, b.fødested),\n",
    "                   similarity.geo_similarity(a.fødested, b.fødested))\n",
    "    job_scores = (similarity.string_similarity_linear(getattr(a, prop), getattr(b, prop))\n",
    "                   for prop in (\"civilstand\", \"position\"))\n",
    "    age_score = similarity.year_similarity(a.fødeår, b.fødeår)\n",
    "    return np.array((*name_scores, *geo_scores, *job_scores, age_score))"
   ]
  },
  {
   "cell_type": "markdown",
   "metadata": {},
   "source": [
    "TODO: vælg bedre subset til at være ikke-matches"
   ]
  },
  {
   "cell_type": "code",
   "execution_count": null,
   "metadata": {},
   "outputs": [],
   "source": [
    "linked_data = {} # linkID -> [(year, row)]\n",
    "unmatches = []\n",
    "for fn in sorted(datadir.glob(\"lc_*.csv\")):\n",
    "    year = re.search(r\"\\d{4}\", fn.name).group(0)\n",
    "    year_num = int(year)\n",
    "    print(year_num)\n",
    "    with fn.open(\"r\", encoding=\"UTF-8\") as fd:\n",
    "        print(next(fd))\n",
    "        for line in fd:\n",
    "            entry = parseEntry(line)\n",
    "            if random.random() < 0.01:\n",
    "                unmatches.append(entry)\n",
    "            løb = entry.løbenr.split(\",\")[0]\n",
    "            pair = (entry.kipnr, løb)\n",
    "            if pair in links[year_num]:\n",
    "                linkID = links[year_num][pair]\n",
    "                linked_data.setdefault(linkID, []).append((year_num, entry))"
   ]
  },
  {
   "cell_type": "code",
   "execution_count": null,
   "metadata": {
    "collapsed": true
   },
   "outputs": [],
   "source": [
    "useless = [key for key,val in linked_data.items() if len(val) == 1]\n",
    "for key in useless:\n",
    "    del(linked_data[key])"
   ]
  },
  {
   "cell_type": "code",
   "execution_count": null,
   "metadata": {
    "collapsed": true
   },
   "outputs": [],
   "source": [
    "input_size = 9\n",
    "output_size = 2"
   ]
  },
  {
   "cell_type": "code",
   "execution_count": null,
   "metadata": {
    "collapsed": true
   },
   "outputs": [],
   "source": [
    "# input\n",
    "x = tf.placeholder(tf.float32, [None, input_size], name=\"x-in-data\")\n",
    "\n",
    "W = tf.Variable(tf.zeros([input_size, output_size]))\n",
    "b = tf.Variable(tf.zeros([output_size]))\n",
    "\n",
    "# output layer\n",
    "y = tf.nn.softmax(tf.matmul(x, W) + b)\n",
    "\n",
    "# now declare the output data placeholder\n",
    "y_ = tf.placeholder(tf.float32, [None, output_size], name=\"y-out-data\")"
   ]
  },
  {
   "cell_type": "code",
   "execution_count": null,
   "metadata": {
    "collapsed": true
   },
   "outputs": [],
   "source": [
    "cross_entropy = tf.reduce_mean(-tf.reduce_sum(y_ * tf.log(y), reduction_indices=[1]))\n",
    "train_step = tf.train.GradientDescentOptimizer(0.5).minimize(cross_entropy)\n",
    "s = tf.InteractiveSession()\n",
    "tf.global_variables_initializer().run()"
   ]
  },
  {
   "cell_type": "code",
   "execution_count": null,
   "metadata": {
    "collapsed": true
   },
   "outputs": [],
   "source": [
    "correct_prediction = tf.equal(tf.argmax(y, 1), tf.argmax(y_, 1))\n",
    "accuracy = tf.reduce_mean(tf.cast(correct_prediction, tf.float32))"
   ]
  },
  {
   "cell_type": "code",
   "execution_count": null,
   "metadata": {},
   "outputs": [],
   "source": [
    "data = []\n",
    "labels = []\n",
    "\n",
    "for linkID in random.sample(list(linked_data), 10000):\n",
    "    rows = linked_data[linkID]\n",
    "    for (a_year, a), (b_year, b) in zip(rows[:-1], rows[1:]):\n",
    "        data.append(get_score(a, b))\n",
    "        labels.append((0, 1))\n",
    "\n",
    "for i in range(10000):\n",
    "    a, b = random.sample(unmatches, 2)\n",
    "    data.append(get_score(a, b))\n",
    "    labels.append((1, 0))\n",
    "\n",
    "x_train = np.vstack(data)\n",
    "\n",
    "y_train = np.vstack(labels)\n",
    "\n",
    "s.run(train_step, feed_dict={x: x_train,\n",
    "                             y_: y_train})"
   ]
  },
  {
   "cell_type": "code",
   "execution_count": null,
   "metadata": {},
   "outputs": [],
   "source": [
    "s.run(accuracy, feed_dict={x: x_train,\n",
    "                             y_: y_train})"
   ]
  },
  {
   "cell_type": "code",
   "execution_count": null,
   "metadata": {},
   "outputs": [],
   "source": [
    "s.run(W)"
   ]
  },
  {
   "cell_type": "markdown",
   "metadata": {},
   "source": [
    "De skulle være matches; forvent [1, 1, 1, ...]"
   ]
  },
  {
   "cell_type": "code",
   "execution_count": null,
   "metadata": {},
   "outputs": [],
   "source": [
    "np.argmax(s.run(y, feed_dict={x: data[:10]}), axis=1)"
   ]
  },
  {
   "cell_type": "markdown",
   "metadata": {},
   "source": [
    "De skulle ikke; forvent [0, 0, 0, ...]"
   ]
  },
  {
   "cell_type": "code",
   "execution_count": null,
   "metadata": {},
   "outputs": [],
   "source": [
    "np.argmax(s.run(y, feed_dict={x: data[-10:]}), axis=1)"
   ]
  },
  {
   "cell_type": "code",
   "execution_count": null,
   "metadata": {},
   "outputs": [],
   "source": [
    "y_train"
   ]
  },
  {
   "cell_type": "code",
   "execution_count": null,
   "metadata": {},
   "outputs": [],
   "source": [
    "np.argmax(out, axis=1)"
   ]
  }
 ],
 "metadata": {
  "kernelspec": {
   "display_name": "Python 3",
   "language": "python",
   "name": "python3"
  },
  "language_info": {
   "codemirror_mode": {
    "name": "ipython",
    "version": 3
   },
   "file_extension": ".py",
   "mimetype": "text/x-python",
   "name": "python",
   "nbconvert_exporter": "python",
   "pygments_lexer": "ipython3",
   "version": "3.6.2"
  }
 },
 "nbformat": 4,
 "nbformat_minor": 2
}
