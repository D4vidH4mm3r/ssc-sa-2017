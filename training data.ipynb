{
 "cells": [
  {
   "cell_type": "code",
   "execution_count": null,
   "metadata": {},
   "outputs": [],
   "source": [
    "import pathlib\n",
    "import re\n",
    "import collections\n",
    "import functools\n",
    "import difflib\n",
    "import operator\n",
    "import json\n",
    "import requests\n",
    "import time\n",
    "import editdistance\n",
    "import random\n",
    "\n",
    "datadir = pathlib.Path(\"/home/david/pro/scc/data\")\n",
    "\n",
    "%run utils.py\n",
    "import similarity"
   ]
  },
  {
   "cell_type": "code",
   "execution_count": null,
   "metadata": {
    "collapsed": true
   },
   "outputs": [],
   "source": [
    "relevant = tuple(str(year) for year in (1845, 1850, 1860, 1880, 1885))"
   ]
  },
  {
   "cell_type": "code",
   "execution_count": null,
   "metadata": {
    "scrolled": true
   },
   "outputs": [],
   "source": [
    "with (datadir / \"..\" / \"links\" / \"linkede_personer.csv\").open(\"r\", encoding=\"latin1\") as fd:\n",
    "    print(next(fd))\n",
    "    links = {year: [] for year in relevant}\n",
    "    linked_ids = {year: set() for year in relevant}\n",
    "    for line in fd:\n",
    "        split = [part.lower() for part in line.strip().split(\"|\")]\n",
    "        for year in relevant:\n",
    "            if year in split[1]:\n",
    "                links[year].append(split)\n",
    "                linked_ids[year].add(tuple(split[2:4]))\n",
    "                break"
   ]
  },
  {
   "cell_type": "code",
   "execution_count": null,
   "metadata": {},
   "outputs": [],
   "source": [
    "for year, matched in links.items():\n",
    "    print(year, len(matched))"
   ]
  },
  {
   "cell_type": "code",
   "execution_count": null,
   "metadata": {},
   "outputs": [],
   "source": [
    "data = {}\n",
    "for fn in sorted(datadir.glob(\"lc_*.csv\")):\n",
    "    year = re.search(r\"\\d{4}\", fn.name).group(0)\n",
    "    print(year)\n",
    "    data[year] = {} # year -> kip,løb -> row\n",
    "    with fn.open(\"r\", encoding=\"UTF-8\") as fd:\n",
    "        next(fd)\n",
    "        current_set = linked_ids[year]\n",
    "        print(\"Now:\", len(current_set))\n",
    "        for line in fd:\n",
    "            row = line.strip().split(\"|\")\n",
    "            kip, løb = row[-2:]\n",
    "            løb = løb.split(\",\")[0]\n",
    "            pair = (kip,løb)\n",
    "            if pair in current_set:\n",
    "                current_set.remove(pair)\n",
    "        print(\"After:\", len(current_set))\n",
    "    break\n",
    "            #row[8] = normalize_more(row[8])"
   ]
  },
  {
   "cell_type": "code",
   "execution_count": null,
   "metadata": {},
   "outputs": [],
   "source": [
    "linked_ids"
   ]
  }
 ],
 "metadata": {
  "kernelspec": {
   "display_name": "Python 3",
   "language": "python",
   "name": "python3"
  },
  "language_info": {
   "codemirror_mode": {
    "name": "ipython",
    "version": 3
   },
   "file_extension": ".py",
   "mimetype": "text/x-python",
   "name": "python",
   "nbconvert_exporter": "python",
   "pygments_lexer": "ipython3",
   "version": "3.6.2"
  }
 },
 "nbformat": 4,
 "nbformat_minor": 2
}
