{
 "cells": [
  {
   "cell_type": "code",
   "execution_count": null,
   "metadata": {},
   "outputs": [],
   "source": [
    "import random\n",
    "import tensorflow as tf\n",
    "import numpy as np\n",
    "import similarity\n",
    "\n",
    "%run utils.py\n",
    "\n",
    "datadir = pathlib.Path(\"/home/david/pro/scc/data\")"
   ]
  },
  {
   "cell_type": "code",
   "execution_count": null,
   "metadata": {
    "collapsed": true
   },
   "outputs": [],
   "source": [
    "relevant = tuple(year for year in (1845, 1850, 1860, 1880, 1885))"
   ]
  },
  {
   "cell_type": "code",
   "execution_count": null,
   "metadata": {
    "scrolled": true
   },
   "outputs": [],
   "source": [
    "with (datadir / \"..\" / \"links\" / \"linkede_personer.csv\").open(\"r\", encoding=\"latin1\") as fd:\n",
    "    print(next(fd))\n",
    "    links = {year: {} for year in relevant} # year -> (kip,løb) -> linkID\n",
    "    for line in fd:\n",
    "        split = [part.lower() for part in line.strip().split(\"|\")]\n",
    "        for year in relevant:\n",
    "            if str(year) in str(split[1]):\n",
    "                kipløb = tuple(split[2:4])\n",
    "                links[year][kipløb] = split[0]\n",
    "                break"
   ]
  },
  {
   "cell_type": "code",
   "execution_count": null,
   "metadata": {},
   "outputs": [],
   "source": [
    "for year, matched in links.items():\n",
    "    print(year, len(matched))"
   ]
  },
  {
   "cell_type": "markdown",
   "metadata": {},
   "source": [
    "TODO: vælg bedre subset til at være ikke-matches"
   ]
  },
  {
   "cell_type": "code",
   "execution_count": null,
   "metadata": {},
   "outputs": [],
   "source": [
    "linked_data = {} # linkID -> [(year, row)]\n",
    "unmatches = []\n",
    "for fn in sorted(datadir.glob(\"lc_*.csv\")):\n",
    "    year = re.search(r\"\\d{4}\", fn.name).group(0)\n",
    "    year_num = int(year)\n",
    "    print(year_num)\n",
    "    current_links = links[year_num]\n",
    "    \n",
    "    with fn.open(\"r\", encoding=\"UTF-8\") as fd:\n",
    "        print(next(fd))\n",
    "        \n",
    "        for line in fd:\n",
    "            entry = parseEntry(line)\n",
    "            if random.random() < 0.01:\n",
    "                unmatches.append(entry)\n",
    "            løb = entry.løbenr.split(\",\")[0]\n",
    "            pair = (entry.kipnr, løb)\n",
    "            if pair in current_links:\n",
    "                linkID = current_links[pair]\n",
    "                linked_data.setdefault(linkID, []).append((year_num, entry))"
   ]
  },
  {
   "cell_type": "code",
   "execution_count": null,
   "metadata": {
    "collapsed": true
   },
   "outputs": [],
   "source": [
    "useless = [key for key,val in linked_data.items() if len(val) == 1]\n",
    "for key in useless:\n",
    "    del(linked_data[key])"
   ]
  },
  {
   "cell_type": "code",
   "execution_count": null,
   "metadata": {
    "collapsed": true
   },
   "outputs": [],
   "source": [
    "def get_score(a, b):\n",
    "    name_scores = (similarity.string_linear(getattr(a, prop), getattr(b, prop))\n",
    "                   for prop in (\"fornavn\", \"mellemnavn\", \"efternavn\", \"initialer\"))\n",
    "    name_scores_alt = (similarity.string_inverse(getattr(a, prop), getattr(b, prop))\n",
    "                   for prop in (\"fornavn\", \"mellemnavn\", \"efternavn\", \"initialer\"))\n",
    "    geo_scores = (similarity.string_linear(a.fødested, b.fødested),\n",
    "                   similarity.geo(a.fødested, b.fødested))\n",
    "    job_scores = (similarity.string_linear(getattr(a, prop), getattr(b, prop))\n",
    "                   for prop in (\"civilstand\", \"position\"))\n",
    "    state_score = similarity.status(a.civilstand, b.civilstand)\n",
    "    age_score = similarity.birthyear(a.fødeår, b.fødeår)\n",
    "    return np.array((*name_scores, *name_scores_alt, *geo_scores, *job_scores, state_score, age_score))"
   ]
  },
  {
   "cell_type": "code",
   "execution_count": null,
   "metadata": {
    "collapsed": true
   },
   "outputs": [],
   "source": [
    "input_size = 14\n",
    "output_size = 2"
   ]
  },
  {
   "cell_type": "code",
   "execution_count": null,
   "metadata": {
    "collapsed": true
   },
   "outputs": [],
   "source": [
    "# input\n",
    "x = tf.placeholder(tf.float32, [None, input_size], name=\"x-in-data\")\n",
    "\n",
    "W = tf.Variable(tf.zeros([input_size, output_size]))\n",
    "b = tf.Variable(tf.zeros([output_size]))\n",
    "\n",
    "# output layer\n",
    "y = tf.nn.softmax(tf.matmul(x, W) + b)\n",
    "\n",
    "# now declare the output data placeholder\n",
    "y_ = tf.placeholder(tf.float32, [None, output_size], name=\"y-out-data\")"
   ]
  },
  {
   "cell_type": "code",
   "execution_count": null,
   "metadata": {
    "collapsed": true
   },
   "outputs": [],
   "source": [
    "cross_entropy = tf.reduce_mean(-tf.reduce_sum(y_ * tf.log(y), reduction_indices=[1]))\n",
    "train_step = tf.train.GradientDescentOptimizer(0.5).minimize(cross_entropy)\n",
    "s = tf.InteractiveSession()\n",
    "tf.global_variables_initializer().run()"
   ]
  },
  {
   "cell_type": "code",
   "execution_count": null,
   "metadata": {
    "collapsed": true
   },
   "outputs": [],
   "source": [
    "correct_prediction = tf.equal(tf.argmax(y, 1), tf.argmax(y_, 1))\n",
    "accuracy = tf.reduce_mean(tf.cast(correct_prediction, tf.float32))"
   ]
  },
  {
   "cell_type": "code",
   "execution_count": null,
   "metadata": {},
   "outputs": [],
   "source": [
    "for i in range(100):\n",
    "    data = []\n",
    "    labels = []\n",
    "\n",
    "    for linkID in random.sample(list(linked_data), 100):\n",
    "        rows = linked_data[linkID]\n",
    "        for (a_year, a), (b_year, b) in zip(rows[:-1], rows[1:]):\n",
    "            data.append(get_score(a, b))\n",
    "            labels.append((0, 1))\n",
    "\n",
    "    for i in range(100):\n",
    "        a, b = random.sample(unmatches, 2)\n",
    "        data.append(get_score(a, b))\n",
    "        labels.append((1, 0))\n",
    "\n",
    "    x_train = np.vstack(data)\n",
    "    y_train = np.vstack(labels)\n",
    "    s.run(train_step, feed_dict={x: x_train, y_: y_train})"
   ]
  },
  {
   "cell_type": "code",
   "execution_count": null,
   "metadata": {},
   "outputs": [],
   "source": [
    "s.run(accuracy, feed_dict={x: x_train, y_: y_train})"
   ]
  },
  {
   "cell_type": "code",
   "execution_count": null,
   "metadata": {},
   "outputs": [],
   "source": [
    "s.run(W)"
   ]
  },
  {
   "cell_type": "markdown",
   "metadata": {},
   "source": [
    "De skulle være matches; forvent [1, 1, 1, ...]"
   ]
  },
  {
   "cell_type": "code",
   "execution_count": null,
   "metadata": {},
   "outputs": [],
   "source": [
    "np.argmax(s.run(y, feed_dict={x: data[:10]}), axis=1)"
   ]
  },
  {
   "cell_type": "code",
   "execution_count": null,
   "metadata": {},
   "outputs": [],
   "source": [
    "s.run(y, feed_dict={x: data[:10]})"
   ]
  },
  {
   "cell_type": "markdown",
   "metadata": {},
   "source": [
    "De skulle ikke; forvent [0, 0, 0, ...]"
   ]
  },
  {
   "cell_type": "code",
   "execution_count": null,
   "metadata": {},
   "outputs": [],
   "source": [
    "np.argmax(s.run(y, feed_dict={x: data[-10:]}), axis=1)"
   ]
  },
  {
   "cell_type": "code",
   "execution_count": null,
   "metadata": {},
   "outputs": [],
   "source": [
    "y_train"
   ]
  },
  {
   "cell_type": "code",
   "execution_count": null,
   "metadata": {},
   "outputs": [],
   "source": [
    "np.argmax(out, axis=1)"
   ]
  },
  {
   "cell_type": "markdown",
   "metadata": {},
   "source": [
    "# TEST"
   ]
  },
  {
   "cell_type": "code",
   "execution_count": null,
   "metadata": {},
   "outputs": [],
   "source": [
    "subset = {}\n",
    "for fn in sorted(datadir.glob(\"lc_*.csv\")):\n",
    "    year = re.search(r\"\\d{4}\", fn.name).group(0)\n",
    "    year_num = int(year)\n",
    "    print(year_num)\n",
    "    current_set = subset[year_num] = []\n",
    "    \n",
    "    with fn.open(\"r\", encoding=\"UTF-8\") as fd:\n",
    "        print(next(fd))\n",
    "        \n",
    "        for line in fd:\n",
    "            entry = parseEntry(line)\n",
    "            if entry.initialer == \"dh\":\n",
    "                current_set.append(entry)"
   ]
  },
  {
   "cell_type": "code",
   "execution_count": null,
   "metadata": {},
   "outputs": [],
   "source": [
    "for year, entries in subset.items():\n",
    "    print(year, len(entries))"
   ]
  },
  {
   "cell_type": "code",
   "execution_count": null,
   "metadata": {},
   "outputs": [],
   "source": [
    "find_me = random.choice(subset[1845])"
   ]
  },
  {
   "cell_type": "code",
   "execution_count": null,
   "metadata": {},
   "outputs": [],
   "source": [
    "find_me"
   ]
  },
  {
   "cell_type": "code",
   "execution_count": null,
   "metadata": {
    "collapsed": true
   },
   "outputs": [],
   "source": [
    "import operator"
   ]
  },
  {
   "cell_type": "code",
   "execution_count": null,
   "metadata": {},
   "outputs": [],
   "source": [
    "results = []\n",
    "for entry in subset[1850]:\n",
    "    score = get_score(find_me, entry)\n",
    "    value = s.run(y, feed_dict={x: np.vstack([score])})\n",
    "    if value[0][1] > 0.8:\n",
    "        results.append((value[0][1], entry))\n",
    "results.sort(key=operator.itemgetter(0), reverse=True)"
   ]
  },
  {
   "cell_type": "code",
   "execution_count": null,
   "metadata": {},
   "outputs": [],
   "source": [
    "results"
   ]
  }
 ],
 "metadata": {
  "kernelspec": {
   "display_name": "Python 3",
   "language": "python",
   "name": "python3"
  },
  "language_info": {
   "codemirror_mode": {
    "name": "ipython",
    "version": 3
   },
   "file_extension": ".py",
   "mimetype": "text/x-python",
   "name": "python",
   "nbconvert_exporter": "python",
   "pygments_lexer": "ipython3",
   "version": "3.6.2"
  }
 },
 "nbformat": 4,
 "nbformat_minor": 2
}
