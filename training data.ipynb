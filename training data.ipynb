{
 "cells": [
  {
   "cell_type": "code",
   "execution_count": null,
   "metadata": {},
   "outputs": [],
   "source": [
    "import pathlib\n",
    "import re\n",
    "import collections\n",
    "import functools\n",
    "import difflib\n",
    "import operator\n",
    "import json\n",
    "import requests\n",
    "import time\n",
    "import editdistance\n",
    "import random\n",
    "\n",
    "datadir = pathlib.Path(\"/home/david/pro/scc/data\")\n",
    "\n",
    "%run utils.py\n",
    "import similarity"
   ]
  },
  {
   "cell_type": "code",
   "execution_count": null,
   "metadata": {
    "collapsed": true
   },
   "outputs": [],
   "source": [
    "relevant = tuple(str(year) for year in (1845, 1850, 1860, 1880, 1885))"
   ]
  },
  {
   "cell_type": "code",
   "execution_count": null,
   "metadata": {
    "scrolled": true
   },
   "outputs": [],
   "source": [
    "with (datadir / \"..\" / \"links\" / \"linkede_personer.csv\").open(\"r\", encoding=\"latin1\") as fd:\n",
    "    print(next(fd))\n",
    "    links = {year: {} for year in relevant} # year -> (kip,løb) -> linkID\n",
    "    for line in fd:\n",
    "        split = [part.lower() for part in line.strip().split(\"|\")]\n",
    "        for year in relevant:\n",
    "            if year in split[1]:\n",
    "                kipløb = tuple(split[2:4])\n",
    "                links[year][kipløb] = split[0]\n",
    "                break"
   ]
  },
  {
   "cell_type": "code",
   "execution_count": null,
   "metadata": {},
   "outputs": [],
   "source": [
    "for year, matched in links.items():\n",
    "    print(year, len(matched))"
   ]
  },
  {
   "cell_type": "code",
   "execution_count": null,
   "metadata": {},
   "outputs": [],
   "source": [
    "linked_data = {} # linkID -> [(year, row)]\n",
    "for fn in sorted(datadir.glob(\"lc_*.csv\")):\n",
    "    year = re.search(r\"\\d{4}\", fn.name).group(0)\n",
    "    print(year)\n",
    "    with fn.open(\"r\", encoding=\"UTF-8\") as fd:\n",
    "        print(next(fd))\n",
    "        current_set = links[year]\n",
    "        for line in fd:\n",
    "            row = line.strip().split(\"|\")\n",
    "            kip, løb = row[-2:]\n",
    "            løb = løb.split(\",\")[0]\n",
    "            pair = (kip,løb)\n",
    "            if pair in current_set:\n",
    "                linkID = current_set[pair]\n",
    "                linked_data.setdefault(linkID, []).append((year, row))"
   ]
  },
  {
   "cell_type": "code",
   "execution_count": null,
   "metadata": {},
   "outputs": [],
   "source": [
    "useless = [key for key,val in linked_data.items() if len(val) == 1]\n",
    "for key in useless:\n",
    "    del(linked_data[key])"
   ]
  },
  {
   "cell_type": "code",
   "execution_count": null,
   "metadata": {},
   "outputs": [],
   "source": [
    "for linkID in random.sample(list(linked_data), 10):\n",
    "    print(linkID)\n",
    "    rows = linked_data[linkID]\n",
    "    (a_year, a_row), (b_year, b_row) = rows[:2]\n",
    "    name_scores = [similarity.string_similarity_linear(a_row[i], b_row[i])\n",
    "                   for i in (3,4,5,6)] # first, middle, last, initials\n",
    "    geo_scores = [similarity.string_similarity_linear(a_row[8], b_row[8]),\n",
    "                 similarity.geo_similarity(a_row[8], b_row[8])]\n",
    "    print(name_scores)\n",
    "    print(geo_scores)"
   ]
  },
  {
   "cell_type": "code",
   "execution_count": null,
   "metadata": {
    "collapsed": true
   },
   "outputs": [],
   "source": [
    "similarity.geo_similarity()"
   ]
  }
 ],
 "metadata": {
  "kernelspec": {
   "display_name": "Python 3",
   "language": "python",
   "name": "python3"
  },
  "language_info": {
   "codemirror_mode": {
    "name": "ipython",
    "version": 3
   },
   "file_extension": ".py",
   "mimetype": "text/x-python",
   "name": "python",
   "nbconvert_exporter": "python",
   "pygments_lexer": "ipython3",
   "version": "3.6.2"
  }
 },
 "nbformat": 4,
 "nbformat_minor": 2
}
